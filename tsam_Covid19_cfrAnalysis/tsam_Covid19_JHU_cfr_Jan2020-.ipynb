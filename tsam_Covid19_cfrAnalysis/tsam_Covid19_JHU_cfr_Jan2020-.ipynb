{
 "cells": [
  {
   "cell_type": "markdown",
   "metadata": {},
   "source": [
    "# Initial mortality and recovery in reported cases of COVID-19 a few weeks into the pandemic\n",
    "\n",
    "## Carlos Ignacio Herrera-Nolasco$^1$, Alejandro Joel Herrera-McKiernan$^2$, \n",
    "## Emilio Arieli Herrera-McKiernan$^3$, Eugenia O'Reilly-Regueiro$^4$,\n",
    "## Marco Arieli Herrera-Valdez$^1$\n",
    "\n",
    "#### $^1$ Departamento de Matemáticas, Facultad de Ciencias, Universidad Nacional Autónoma de México\n",
    "#### $^2$ Escuela Primaria República de Guatemala, Secretaría de Educación Pública, México\n",
    "#### $^3$ Escuela Secundaria Vicente Guerrero, Secretaría de Educación Pública, México\n",
    "#### $^4$ Instituto de Matemáticas, Facultad de Ciencias, Universidad Nacional Autónoma de México\n",
    "\n",
    "Last modified: MAHV, 20200411\n",
    "\n",
    "### Abstract\n",
    "\n",
    "\n",
    "### Methods and data sources\n",
    "\n",
    "The data was downloaded from the repository for the 2019 Novel Coronavirus Visual Dashboard operated by the Johns Hopkins University Center for Systems Science and Engineering (JHU CSSE) (https://github.com/CSSEGISandData/COVID-19). All calculations were performed using Python version 3.82 (https://www.python.org/) and the modules numpy (https://numpy.org/), matplotlib (https://matplotlib.org/), and pandas (https://pandas.pydata.org/). A JuPyTeR notebook with the analysis and calculations performed here can be found at \n",
    "\n"
   ]
  },
  {
   "cell_type": "markdown",
   "metadata": {},
   "source": [
    "Module imports (all basic functions and other module specs can be found in [tsam_COVID19_baseCode.py](tsam_COVID19_baseCode.py)"
   ]
  },
  {
   "cell_type": "code",
   "execution_count": 1,
   "metadata": {},
   "outputs": [
    {
     "name": "stdout",
     "output_type": "stream",
     "text": [
      "Data obtained from https://github.com/CSSEGISandData/COVID-19/\n"
     ]
    }
   ],
   "source": [
    "from tsam_Covid19_baseCode import *\n",
    "cwd = os.getcwd()\n",
    "%matplotlib inline "
   ]
  },
  {
   "cell_type": "code",
   "execution_count": 2,
   "metadata": {},
   "outputs": [],
   "source": [
    "cases, deathCases,recovCases = getCSSEGISandData(urlData=1)"
   ]
  },
  {
   "cell_type": "markdown",
   "metadata": {},
   "source": [
    "Let us first describe the data set. The data has been transposed so that the cases, deaths, and recovered the different regions of the world are stored in columns, each with the data from different dates starting from January 22, 2020. "
   ]
  },
  {
   "cell_type": "code",
   "execution_count": 3,
   "metadata": {},
   "outputs": [
    {
     "data": {
      "text/html": [
       "<div>\n",
       "<style scoped>\n",
       "    .dataframe tbody tr th:only-of-type {\n",
       "        vertical-align: middle;\n",
       "    }\n",
       "\n",
       "    .dataframe tbody tr th {\n",
       "        vertical-align: top;\n",
       "    }\n",
       "\n",
       "    .dataframe thead th {\n",
       "        text-align: right;\n",
       "    }\n",
       "</style>\n",
       "<table border=\"1\" class=\"dataframe\">\n",
       "  <thead>\n",
       "    <tr style=\"text-align: right;\">\n",
       "      <th></th>\n",
       "      <th>Province/State</th>\n",
       "      <th>Country/Region</th>\n",
       "      <th>Lat</th>\n",
       "      <th>Long</th>\n",
       "      <th>1/22/20</th>\n",
       "      <th>1/23/20</th>\n",
       "      <th>1/24/20</th>\n",
       "      <th>1/25/20</th>\n",
       "      <th>1/26/20</th>\n",
       "      <th>1/27/20</th>\n",
       "      <th>...</th>\n",
       "      <th>4/4/20</th>\n",
       "      <th>4/5/20</th>\n",
       "      <th>4/6/20</th>\n",
       "      <th>4/7/20</th>\n",
       "      <th>4/8/20</th>\n",
       "      <th>4/9/20</th>\n",
       "      <th>4/10/20</th>\n",
       "      <th>4/11/20</th>\n",
       "      <th>4/12/20</th>\n",
       "      <th>4/13/20</th>\n",
       "    </tr>\n",
       "  </thead>\n",
       "  <tbody>\n",
       "    <tr>\n",
       "      <th>0</th>\n",
       "      <td>NaN</td>\n",
       "      <td>Afghanistan</td>\n",
       "      <td>33.0000</td>\n",
       "      <td>65.0000</td>\n",
       "      <td>0</td>\n",
       "      <td>0</td>\n",
       "      <td>0</td>\n",
       "      <td>0</td>\n",
       "      <td>0</td>\n",
       "      <td>0</td>\n",
       "      <td>...</td>\n",
       "      <td>299</td>\n",
       "      <td>349</td>\n",
       "      <td>367</td>\n",
       "      <td>423</td>\n",
       "      <td>444</td>\n",
       "      <td>484</td>\n",
       "      <td>521</td>\n",
       "      <td>555</td>\n",
       "      <td>607</td>\n",
       "      <td>665</td>\n",
       "    </tr>\n",
       "    <tr>\n",
       "      <th>1</th>\n",
       "      <td>NaN</td>\n",
       "      <td>Albania</td>\n",
       "      <td>41.1533</td>\n",
       "      <td>20.1683</td>\n",
       "      <td>0</td>\n",
       "      <td>0</td>\n",
       "      <td>0</td>\n",
       "      <td>0</td>\n",
       "      <td>0</td>\n",
       "      <td>0</td>\n",
       "      <td>...</td>\n",
       "      <td>333</td>\n",
       "      <td>361</td>\n",
       "      <td>377</td>\n",
       "      <td>383</td>\n",
       "      <td>400</td>\n",
       "      <td>409</td>\n",
       "      <td>416</td>\n",
       "      <td>433</td>\n",
       "      <td>446</td>\n",
       "      <td>467</td>\n",
       "    </tr>\n",
       "    <tr>\n",
       "      <th>2</th>\n",
       "      <td>NaN</td>\n",
       "      <td>Algeria</td>\n",
       "      <td>28.0339</td>\n",
       "      <td>1.6596</td>\n",
       "      <td>0</td>\n",
       "      <td>0</td>\n",
       "      <td>0</td>\n",
       "      <td>0</td>\n",
       "      <td>0</td>\n",
       "      <td>0</td>\n",
       "      <td>...</td>\n",
       "      <td>1251</td>\n",
       "      <td>1320</td>\n",
       "      <td>1423</td>\n",
       "      <td>1468</td>\n",
       "      <td>1572</td>\n",
       "      <td>1666</td>\n",
       "      <td>1761</td>\n",
       "      <td>1825</td>\n",
       "      <td>1914</td>\n",
       "      <td>1983</td>\n",
       "    </tr>\n",
       "    <tr>\n",
       "      <th>3</th>\n",
       "      <td>NaN</td>\n",
       "      <td>Andorra</td>\n",
       "      <td>42.5063</td>\n",
       "      <td>1.5218</td>\n",
       "      <td>0</td>\n",
       "      <td>0</td>\n",
       "      <td>0</td>\n",
       "      <td>0</td>\n",
       "      <td>0</td>\n",
       "      <td>0</td>\n",
       "      <td>...</td>\n",
       "      <td>466</td>\n",
       "      <td>501</td>\n",
       "      <td>525</td>\n",
       "      <td>545</td>\n",
       "      <td>564</td>\n",
       "      <td>583</td>\n",
       "      <td>601</td>\n",
       "      <td>601</td>\n",
       "      <td>638</td>\n",
       "      <td>646</td>\n",
       "    </tr>\n",
       "    <tr>\n",
       "      <th>4</th>\n",
       "      <td>NaN</td>\n",
       "      <td>Angola</td>\n",
       "      <td>-11.2027</td>\n",
       "      <td>17.8739</td>\n",
       "      <td>0</td>\n",
       "      <td>0</td>\n",
       "      <td>0</td>\n",
       "      <td>0</td>\n",
       "      <td>0</td>\n",
       "      <td>0</td>\n",
       "      <td>...</td>\n",
       "      <td>10</td>\n",
       "      <td>14</td>\n",
       "      <td>16</td>\n",
       "      <td>17</td>\n",
       "      <td>19</td>\n",
       "      <td>19</td>\n",
       "      <td>19</td>\n",
       "      <td>19</td>\n",
       "      <td>19</td>\n",
       "      <td>19</td>\n",
       "    </tr>\n",
       "    <tr>\n",
       "      <th>5</th>\n",
       "      <td>NaN</td>\n",
       "      <td>Antigua and Barbuda</td>\n",
       "      <td>17.0608</td>\n",
       "      <td>-61.7964</td>\n",
       "      <td>0</td>\n",
       "      <td>0</td>\n",
       "      <td>0</td>\n",
       "      <td>0</td>\n",
       "      <td>0</td>\n",
       "      <td>0</td>\n",
       "      <td>...</td>\n",
       "      <td>15</td>\n",
       "      <td>15</td>\n",
       "      <td>15</td>\n",
       "      <td>19</td>\n",
       "      <td>19</td>\n",
       "      <td>19</td>\n",
       "      <td>19</td>\n",
       "      <td>21</td>\n",
       "      <td>21</td>\n",
       "      <td>23</td>\n",
       "    </tr>\n",
       "  </tbody>\n",
       "</table>\n",
       "<p>6 rows × 87 columns</p>\n",
       "</div>"
      ],
      "text/plain": [
       "  Province/State       Country/Region      Lat     Long  1/22/20  1/23/20  \\\n",
       "0            NaN          Afghanistan  33.0000  65.0000        0        0   \n",
       "1            NaN              Albania  41.1533  20.1683        0        0   \n",
       "2            NaN              Algeria  28.0339   1.6596        0        0   \n",
       "3            NaN              Andorra  42.5063   1.5218        0        0   \n",
       "4            NaN               Angola -11.2027  17.8739        0        0   \n",
       "5            NaN  Antigua and Barbuda  17.0608 -61.7964        0        0   \n",
       "\n",
       "   1/24/20  1/25/20  1/26/20  1/27/20  ...  4/4/20  4/5/20  4/6/20  4/7/20  \\\n",
       "0        0        0        0        0  ...     299     349     367     423   \n",
       "1        0        0        0        0  ...     333     361     377     383   \n",
       "2        0        0        0        0  ...    1251    1320    1423    1468   \n",
       "3        0        0        0        0  ...     466     501     525     545   \n",
       "4        0        0        0        0  ...      10      14      16      17   \n",
       "5        0        0        0        0  ...      15      15      15      19   \n",
       "\n",
       "   4/8/20  4/9/20  4/10/20  4/11/20  4/12/20  4/13/20  \n",
       "0     444     484      521      555      607      665  \n",
       "1     400     409      416      433      446      467  \n",
       "2    1572    1666     1761     1825     1914     1983  \n",
       "3     564     583      601      601      638      646  \n",
       "4      19      19       19       19       19       19  \n",
       "5      19      19       19       21       21       23  \n",
       "\n",
       "[6 rows x 87 columns]"
      ]
     },
     "execution_count": 3,
     "metadata": {},
     "output_type": "execute_result"
    }
   ],
   "source": [
    "cases.head(6)"
   ]
  },
  {
   "cell_type": "code",
   "execution_count": 4,
   "metadata": {},
   "outputs": [
    {
     "data": {
      "text/html": [
       "<div>\n",
       "<style scoped>\n",
       "    .dataframe tbody tr th:only-of-type {\n",
       "        vertical-align: middle;\n",
       "    }\n",
       "\n",
       "    .dataframe tbody tr th {\n",
       "        vertical-align: top;\n",
       "    }\n",
       "\n",
       "    .dataframe thead th {\n",
       "        text-align: right;\n",
       "    }\n",
       "</style>\n",
       "<table border=\"1\" class=\"dataframe\">\n",
       "  <thead>\n",
       "    <tr style=\"text-align: right;\">\n",
       "      <th></th>\n",
       "      <th>Province/State</th>\n",
       "      <th>Country/Region</th>\n",
       "      <th>Lat</th>\n",
       "      <th>Long</th>\n",
       "      <th>1/22/20</th>\n",
       "      <th>1/23/20</th>\n",
       "      <th>1/24/20</th>\n",
       "      <th>1/25/20</th>\n",
       "      <th>1/26/20</th>\n",
       "      <th>1/27/20</th>\n",
       "      <th>...</th>\n",
       "      <th>4/4/20</th>\n",
       "      <th>4/5/20</th>\n",
       "      <th>4/6/20</th>\n",
       "      <th>4/7/20</th>\n",
       "      <th>4/8/20</th>\n",
       "      <th>4/9/20</th>\n",
       "      <th>4/10/20</th>\n",
       "      <th>4/11/20</th>\n",
       "      <th>4/12/20</th>\n",
       "      <th>4/13/20</th>\n",
       "    </tr>\n",
       "  </thead>\n",
       "  <tbody>\n",
       "    <tr>\n",
       "      <th>260</th>\n",
       "      <td>NaN</td>\n",
       "      <td>South Sudan</td>\n",
       "      <td>6.877000</td>\n",
       "      <td>31.307000</td>\n",
       "      <td>0</td>\n",
       "      <td>0</td>\n",
       "      <td>0</td>\n",
       "      <td>0</td>\n",
       "      <td>0</td>\n",
       "      <td>0</td>\n",
       "      <td>...</td>\n",
       "      <td>0</td>\n",
       "      <td>0</td>\n",
       "      <td>0</td>\n",
       "      <td>0</td>\n",
       "      <td>0</td>\n",
       "      <td>0</td>\n",
       "      <td>0</td>\n",
       "      <td>0</td>\n",
       "      <td>0</td>\n",
       "      <td>0</td>\n",
       "    </tr>\n",
       "    <tr>\n",
       "      <th>261</th>\n",
       "      <td>NaN</td>\n",
       "      <td>Western Sahara</td>\n",
       "      <td>24.215500</td>\n",
       "      <td>-12.885800</td>\n",
       "      <td>0</td>\n",
       "      <td>0</td>\n",
       "      <td>0</td>\n",
       "      <td>0</td>\n",
       "      <td>0</td>\n",
       "      <td>0</td>\n",
       "      <td>...</td>\n",
       "      <td>0</td>\n",
       "      <td>0</td>\n",
       "      <td>0</td>\n",
       "      <td>0</td>\n",
       "      <td>0</td>\n",
       "      <td>0</td>\n",
       "      <td>0</td>\n",
       "      <td>0</td>\n",
       "      <td>0</td>\n",
       "      <td>0</td>\n",
       "    </tr>\n",
       "    <tr>\n",
       "      <th>262</th>\n",
       "      <td>NaN</td>\n",
       "      <td>Sao Tome and Principe</td>\n",
       "      <td>0.186360</td>\n",
       "      <td>6.613081</td>\n",
       "      <td>0</td>\n",
       "      <td>0</td>\n",
       "      <td>0</td>\n",
       "      <td>0</td>\n",
       "      <td>0</td>\n",
       "      <td>0</td>\n",
       "      <td>...</td>\n",
       "      <td>0</td>\n",
       "      <td>0</td>\n",
       "      <td>0</td>\n",
       "      <td>0</td>\n",
       "      <td>0</td>\n",
       "      <td>0</td>\n",
       "      <td>0</td>\n",
       "      <td>0</td>\n",
       "      <td>0</td>\n",
       "      <td>0</td>\n",
       "    </tr>\n",
       "    <tr>\n",
       "      <th>263</th>\n",
       "      <td>NaN</td>\n",
       "      <td>Yemen</td>\n",
       "      <td>15.552727</td>\n",
       "      <td>48.516388</td>\n",
       "      <td>0</td>\n",
       "      <td>0</td>\n",
       "      <td>0</td>\n",
       "      <td>0</td>\n",
       "      <td>0</td>\n",
       "      <td>0</td>\n",
       "      <td>...</td>\n",
       "      <td>0</td>\n",
       "      <td>0</td>\n",
       "      <td>0</td>\n",
       "      <td>0</td>\n",
       "      <td>0</td>\n",
       "      <td>0</td>\n",
       "      <td>0</td>\n",
       "      <td>0</td>\n",
       "      <td>0</td>\n",
       "      <td>0</td>\n",
       "    </tr>\n",
       "  </tbody>\n",
       "</table>\n",
       "<p>4 rows × 87 columns</p>\n",
       "</div>"
      ],
      "text/plain": [
       "    Province/State         Country/Region        Lat       Long  1/22/20  \\\n",
       "260            NaN            South Sudan   6.877000  31.307000        0   \n",
       "261            NaN         Western Sahara  24.215500 -12.885800        0   \n",
       "262            NaN  Sao Tome and Principe   0.186360   6.613081        0   \n",
       "263            NaN                  Yemen  15.552727  48.516388        0   \n",
       "\n",
       "     1/23/20  1/24/20  1/25/20  1/26/20  1/27/20  ...  4/4/20  4/5/20  4/6/20  \\\n",
       "260        0        0        0        0        0  ...       0       0       0   \n",
       "261        0        0        0        0        0  ...       0       0       0   \n",
       "262        0        0        0        0        0  ...       0       0       0   \n",
       "263        0        0        0        0        0  ...       0       0       0   \n",
       "\n",
       "     4/7/20  4/8/20  4/9/20  4/10/20  4/11/20  4/12/20  4/13/20  \n",
       "260       0       0       0        0        0        0        0  \n",
       "261       0       0       0        0        0        0        0  \n",
       "262       0       0       0        0        0        0        0  \n",
       "263       0       0       0        0        0        0        0  \n",
       "\n",
       "[4 rows x 87 columns]"
      ]
     },
     "execution_count": 4,
     "metadata": {},
     "output_type": "execute_result"
    }
   ],
   "source": [
    "deathCases.tail(4)"
   ]
  },
  {
   "cell_type": "markdown",
   "metadata": {},
   "source": [
    "This means there are 4 columns before the time series begins, and the data contains 248 regions from the world. The data that can be used for calculations involving the cases in the epidemic can be found from the fifth row on.  Since the dates in the original data have only two numbers for the year, let us create a date range with the dates formatted with a four figures, and use the new dates later for the plots and illustrations."
   ]
  },
  {
   "cell_type": "code",
   "execution_count": 5,
   "metadata": {},
   "outputs": [
    {
     "name": "stdout",
     "output_type": "stream",
     "text": [
      "Got data from 83 days between 1/22/20 and 4/13/20\n"
     ]
    }
   ],
   "source": [
    "# ------------------------------\n",
    "# Description of the data so that the headers and the columns\n",
    "# without case data are distinguished\n",
    "# ------------------------------\n",
    "nRows,nCols=cases.shape\n",
    "cases.head(10)\n",
    "nHeaderRows=1;\n",
    "#\n",
    "nHeaderCols=3\n",
    "# how to generate date lists from a baseline using the datetime\n",
    "dates = cases.columns[4:]\n",
    "nDays = len(dates)\n",
    "print('Got data from %d days between %s and %s'%(nDays,dates[0],dates[-1]))\n"
   ]
  },
  {
   "cell_type": "code",
   "execution_count": 6,
   "metadata": {},
   "outputs": [
    {
     "name": "stdout",
     "output_type": "stream",
     "text": [
      "\n",
      "Considering data from 185 countries\n"
     ]
    }
   ],
   "source": [
    "# -------------------\n",
    "print(\"\"\"\"\"\")\n",
    "# -------------------\n",
    "npCases = cases.to_numpy()\n",
    "countries = np.unique(npCases[:,1])\n",
    "nCountries = len(countries)\n",
    "print('Considering data from {d} countries'.format(d=nCountries))"
   ]
  },
  {
   "cell_type": "markdown",
   "metadata": {},
   "source": [
    "Data curation observations.\n",
    "- Some countries report by province. This allows examination of the time series with a better spatial resolution.\n",
    "The countries where there are reports by province are China, United Kingdom, Australia, and Canada.\n",
    "- Arrays that include whole country cases, deaths, and recovered obtained\n",
    "and separated for analysis\n",
    "- Recovered are treated separately because reports do not include as many places as cases or deaths\n",
    "- Case fatality ratios are calculated to analyse the epidemia in different provinces and contrast with whole country estimates\n"
   ]
  },
  {
   "cell_type": "code",
   "execution_count": 7,
   "metadata": {},
   "outputs": [],
   "source": [
    "# -------------------\n",
    "# Gather same country data\n",
    "# -------------------\n",
    "gCases, countries_Cases= sortDataByCountry(cases, nHeaderCols)\n",
    "gDeaths,countries_DeathCases = sortDataByCountry(deathCases, nHeaderCols)\n",
    "gRecovCases,countries_RecovCases = sortDataByCountry(recovCases, nHeaderCols)\n",
    "\n",
    "# -------------------\n",
    "# Sum the counts from each country and construct a new array\n",
    "# -------------------\n",
    "# These arrays have the same size as the countries array (unique countries)\n",
    "totCases=gatherDataByCountry(df=cases,nHeaderCols=4)\n",
    "totDeathCases=gatherDataByCountry(df=deathCases,nHeaderCols=4)\n",
    "totRecovCases=gatherDataByCountry(df=recovCases,nHeaderCols=4)\n"
   ]
  },
  {
   "cell_type": "markdown",
   "metadata": {},
   "source": [
    "## Delays relative to the first case report in different countries\n",
    "\n",
    "To get an idea of the initial the dynamics of the pandemic, we calculated the delays to the first case reports and compare to the first deaths reported by country. "
   ]
  },
  {
   "cell_type": "code",
   "execution_count": 8,
   "metadata": {},
   "outputs": [
    {
     "name": "stdout",
     "output_type": "stream",
     "text": [
      "('Afghanistan', 33, 60, 54, 'rank: 36th')\n",
      "('Albania', 47, 49, 59, 'rank: 171th')\n",
      "('Algeria', 34, 50, 50, 'rank: 165th')\n",
      "('Andorra', 40, 60, 50, 'rank: 163th')\n",
      "('Angola', 58, 67, 69, 'rank: 86th')\n",
      "('Antigua and Barbuda', 51, 76, 82, 'rank: 90th')\n",
      "('Argentina', 41, 46, 52, 'rank: 179th')\n",
      "('Armenia', 39, 64, 55, 'rank: 150th')\n",
      "('Australia', 4, 39, 8, 'rank: 61th')\n",
      "('Austria', 34, 50, 47, 'rank: 119th')\n",
      "('Azerbaijan', 39, 51, 49, 'rank: 105th')\n",
      "('Bahamas', 54, 70, 62, 'rank: 32th')\n",
      "('Bahrain', 33, 54, 44, 'rank: 8th')\n",
      "('Bangladesh', 46, 56, 54, 'rank: 65th')\n",
      "('Barbados', 55, 74, 74, 'rank: 30th')\n",
      "('Belarus', 37, 69, 47, 'rank: 157th')\n",
      "('Belgium', 13, 49, 26, 'rank: 60th')\n",
      "('Belize', 61, 75, 82, 'rank: 174th')\n",
      "('Benin', 54, 75, 69, 'rank: 78th')\n",
      "('Bhutan', 44, 82, 71, 'rank: 133th')\n",
      "('Bolivia', 49, 67, 70, 'rank: 160th')\n",
      "('Bosnia and Herzegovina', 43, 59, 55, 'rank: 84th')\n",
      "('Botswana', 68, 69, 82, 'rank: 175th')\n",
      "('Brazil', 35, 55, 54, 'rank: 138th')\n",
      "('Brunei', 47, 66, 58, 'rank: 156th')\n",
      "('Bulgaria', 46, 49, 59, 'rank: 16th')\n",
      "('Burkina Faso', 48, 56, 59, 'rank: 47th')\n",
      "('Burma', 65, 69, 78, 'rank: 52th')\n",
      "('Burundi', 69, 82, 82, 'rank: 80th')\n",
      "('Cabo Verde', 58, 62, 75, 'rank: 83th')\n",
      "('Cambodia', 5, 82, 21, 'rank: 96th')\n",
      "('Cameroon', 44, 63, 63, 'rank: 81th')\n",
      "('Canada', 4, 47, 21, 'rank: 127th')\n",
      "('Central African Republic', 53, 82, 82, 'rank: 0th')\n",
      "('Chad', 57, 82, 76, 'rank: 92th')\n",
      "('Chile', 41, 60, 58, 'rank: 12th')\n",
      "('China', 0, 0, 0, 'rank: 9th')\n"
     ]
    }
   ],
   "source": [
    "# Describe the order of appearance of cases\n",
    "dFC=findFirstCaseDates(totCases)\n",
    "dFD=findFirstCaseDates(totDeathCases)\n",
    "dFR=findFirstCaseDates(totRecovCases)\n",
    "iArrival = dFC.argsort()\n",
    "for n in range(37):\n",
    "    print(countries[n],dFC[n],dFD[n],dFR[n],'rank: %dth'%iArrival[n])\n",
    " \n",
    "d0SortedCountries = countries[iArrival]\n",
    "sdFC = dFC[iArrival]\n",
    "sdFD = dFD[iArrival]\n",
    "sdFR = dFR[iArrival]"
   ]
  },
  {
   "cell_type": "code",
   "execution_count": 9,
   "metadata": {},
   "outputs": [
    {
     "name": "stdout",
     "output_type": "stream",
     "text": [
      "%First case, & to first death & to first recovery \\\\\n",
      "\\hline &&&\\\\\n",
      "China & 1/22/20 (0)  & 1/22/20 (0)  & 1/22/20 (0) \\\\\n",
      "US & 1/22/20 (0)  & 2/29/20 (38)  & 2/9/20 (18) \\\\\n",
      "Thailand & 1/22/20 (0)  & 3/1/20 (39)  & 1/26/20 (4) \\\\\n",
      "Taiwan* & 1/22/20 (0)  & 2/16/20 (25)  & 2/6/20 (15) \\\\\n",
      "Japan & 1/22/20 (0)  & 2/13/20 (22)  & 1/26/20 (4) \\\\\n",
      "Korea, South & 1/22/20 (0)  & 2/20/20 (29)  & 2/7/20 (16) \\\\\n",
      "\\hline \n",
      "Vietnam & 1/23/20 (1)  & 4/13/20 (81)  & 2/1/20 (9) \\\\\n",
      "Singapore & 1/23/20 (1)  & 3/21/20 (58)  & 2/8/20 (16) \\\\\n",
      "\\hline \n",
      "France & 1/24/20 (2)  & 2/15/20 (22)  & 2/12/20 (19) \\\\\n",
      "\\hline \n",
      "Nepal & 1/25/20 (3)  & 4/13/20 (79)  & 2/12/20 (18) \\\\\n",
      "Malaysia & 1/25/20 (3)  & 3/17/20 (52)  & 2/7/20 (13) \\\\\n",
      "\\hline \n",
      "Canada & 1/26/20 (4)  & 3/9/20 (43)  & 2/12/20 (17) \\\\\n",
      "Australia & 1/26/20 (4)  & 3/1/20 (35)  & 1/30/20 (4) \\\\\n",
      "\\hline \n",
      "Germany & 1/27/20 (5)  & 3/9/20 (42)  & 2/13/20 (17) \\\\\n",
      "Cambodia & 1/27/20 (5)  & 4/13/20 (77)  & 2/12/20 (16) \\\\\n",
      "Sri Lanka & 1/27/20 (5)  & 3/28/20 (61)  & 2/8/20 (12) \\\\\n",
      "\\hline \n",
      "Finland & 1/29/20 (7)  & 3/21/20 (52)  & 2/12/20 (14) \\\\\n",
      "United Arab Emirates & 1/29/20 (7)  & 3/20/20 (51)  & 2/12/20 (14) \\\\\n",
      "\\hline \n",
      "India & 1/30/20 (8)  & 3/11/20 (41)  & 2/16/20 (17) \\\\\n",
      "Philippines & 1/30/20 (8)  & 2/2/20 (3)  & 2/12/20 (13) \\\\\n",
      "\\hline \n",
      "Sweden & 1/31/20 (9)  & 3/11/20 (40)  & 3/9/20 (38) \\\\\n",
      "Italy & 1/31/20 (9)  & 2/21/20 (21)  & 2/22/20 (22) \\\\\n",
      "United Kingdom & 1/31/20 (9)  & 3/5/20 (34)  & 2/12/20 (12) \\\\\n",
      "Russia & 1/31/20 (9)  & 3/19/20 (48)  & 2/12/20 (12) \\\\\n",
      "\\hline \n",
      "Spain & 2/1/20 (10)  & 3/3/20 (31)  & 2/15/20 (14) \\\\\n",
      "\\hline \n",
      "Belgium & 2/4/20 (13)  & 3/11/20 (36)  & 2/17/20 (13) \\\\\n",
      "\\hline \n",
      "Diamond Princess & 2/7/20 (16)  & 2/20/20 (13)  & 2/19/20 (12) \\\\\n",
      "\\hline \n",
      "Egypt & 2/14/20 (23)  & 3/8/20 (23)  & 2/28/20 (14) \\\\\n",
      "\\hline \n",
      "Iran & 2/19/20 (28)  & 2/19/20 (0)  & 2/26/20 (7) \\\\\n",
      "\\hline \n",
      "Israel & 2/21/20 (30)  & 3/21/20 (29)  & 2/27/20 (6) \\\\\n",
      "Lebanon & 2/21/20 (30)  & 3/10/20 (18)  & 3/4/20 (12) \\\\\n",
      "\\hline \n",
      "Iraq & 2/24/20 (33)  & 3/4/20 (9)  & 3/9/20 (14) \\\\\n",
      "Oman & 2/24/20 (33)  & 3/31/20 (36)  & 2/29/20 (5) \\\\\n",
      "Afghanistan & 2/24/20 (33)  & 3/22/20 (27)  & 3/16/20 (21) \\\\\n",
      "Kuwait & 2/24/20 (33)  & 4/4/20 (40)  & 3/8/20 (13) \\\\\n",
      "Bahrain & 2/24/20 (33)  & 3/16/20 (21)  & 3/6/20 (11) \\\\\n",
      "\\hline \n",
      "Austria & 2/25/20 (34)  & 3/12/20 (16)  & 3/9/20 (13) \\\\\n",
      "Croatia & 2/25/20 (34)  & 3/19/20 (23)  & 3/13/20 (17) \\\\\n",
      "Switzerland & 2/25/20 (34)  & 3/5/20 (9)  & 3/3/20 (7) \\\\\n",
      "Algeria & 2/25/20 (34)  & 3/12/20 (16)  & 3/12/20 (16) \\\\\n",
      "\\hline \n",
      "Brazil & 2/26/20 (35)  & 3/17/20 (20)  & 3/16/20 (19) \\\\\n",
      "North Macedonia & 2/26/20 (35)  & 3/22/20 (25)  & 3/13/20 (16) \\\\\n",
      "Romania & 2/26/20 (35)  & 3/22/20 (25)  & 3/4/20 (7) \\\\\n",
      "Norway & 2/26/20 (35)  & 3/14/20 (17)  & 3/9/20 (12) \\\\\n",
      "Greece & 2/26/20 (35)  & 3/11/20 (14)  & 3/14/20 (17) \\\\\n",
      "Georgia & 2/26/20 (35)  & 4/4/20 (38)  & 3/16/20 (19) \\\\\n",
      "Pakistan & 2/26/20 (35)  & 3/19/20 (22)  & 3/8/20 (11) \\\\\n",
      "\\hline \n",
      "Denmark & 2/27/20 (36)  & 3/14/20 (16)  & 3/6/20 (8) \\\\\n",
      "San Marino & 2/27/20 (36)  & 3/3/20 (5)  & 3/14/20 (16) \\\\\n",
      "Netherlands & 2/27/20 (36)  & 3/6/20 (8)  & 3/14/20 (16) \\\\\n",
      "Estonia & 2/27/20 (36)  & 3/25/20 (27)  & 3/15/20 (17) \\\\\n",
      "\\hline \n",
      "Nigeria & 2/28/20 (37)  & 3/23/20 (24)  & 3/18/20 (19) \\\\\n",
      "New Zealand & 2/28/20 (37)  & 3/29/20 (30)  & 3/24/20 (25) \\\\\n",
      "Lithuania & 2/28/20 (37)  & 3/21/20 (22)  & 3/15/20 (16) \\\\\n",
      "Belarus & 2/28/20 (37)  & 3/31/20 (32)  & 3/9/20 (10) \\\\\n",
      "Mexico & 2/28/20 (37)  & 3/19/20 (20)  & 3/3/20 (4) \\\\\n",
      "Iceland & 2/28/20 (37)  & 3/15/20 (16)  & 3/10/20 (11) \\\\\n",
      "\\hline \n",
      "Ireland & 2/29/20 (38)  & 3/11/20 (11)  & 3/17/20 (17) \\\\\n",
      "Luxembourg & 2/29/20 (38)  & 3/14/20 (14)  & 3/22/20 (22) \\\\\n",
      "Qatar & 2/29/20 (38)  & 3/28/20 (28)  & 3/14/20 (14) \\\\\n",
      "Monaco & 2/29/20 (38)  & 3/29/20 (29)  & 3/22/20 (22) \\\\\n",
      "\\hline \n",
      "Azerbaijan & 3/1/20 (39)  & 3/13/20 (12)  & 3/11/20 (10) \\\\\n",
      "Czechia & 3/1/20 (39)  & 3/22/20 (21)  & 3/16/20 (15) \\\\\n",
      "Ecuador & 3/1/20 (39)  & 3/14/20 (13)  & 3/21/20 (20) \\\\\n",
      "Dominican Republic & 3/1/20 (39)  & 3/17/20 (16)  & 3/24/20 (23) \\\\\n",
      "Armenia & 3/1/20 (39)  & 3/26/20 (25)  & 3/17/20 (16) \\\\\n",
      "\\hline \n",
      "Indonesia & 3/2/20 (40)  & 3/11/20 (9)  & 3/10/20 (8) \\\\\n",
      "Latvia & 3/2/20 (40)  & 4/3/20 (32)  & 3/10/20 (8) \\\\\n",
      "Portugal & 3/2/20 (40)  & 3/17/20 (15)  & 3/13/20 (11) \\\\\n",
      "Saudi Arabia & 3/2/20 (40)  & 3/24/20 (22)  & 3/10/20 (8) \\\\\n",
      "Morocco & 3/2/20 (40)  & 3/10/20 (8)  & 3/13/20 (11) \\\\\n",
      "Andorra & 3/2/20 (40)  & 3/22/20 (20)  & 3/12/20 (10) \\\\\n",
      "Senegal & 3/2/20 (40)  & 4/1/20 (30)  & 3/8/20 (6) \\\\\n",
      "\\hline \n",
      "Jordan & 3/3/20 (41)  & 3/27/20 (24)  & 3/13/20 (10) \\\\\n",
      "Chile & 3/3/20 (41)  & 3/22/20 (19)  & 3/20/20 (17) \\\\\n",
      "Argentina & 3/3/20 (41)  & 3/8/20 (5)  & 3/14/20 (11) \\\\\n",
      "Ukraine & 3/3/20 (41)  & 3/13/20 (10)  & 3/21/20 (18) \\\\\n",
      "\\hline \n",
      "Hungary & 3/4/20 (42)  & 3/15/20 (11)  & 3/14/20 (10) \\\\\n",
      "Tunisia & 3/4/20 (42)  & 3/19/20 (15)  & 3/22/20 (18) \\\\\n",
      "Poland & 3/4/20 (42)  & 3/12/20 (8)  & 3/16/20 (12) \\\\\n",
      "Liechtenstein & 3/4/20 (42)  & 4/4/20 (31)  & 4/6/20 (33) \\\\\n",
      "\\hline \n",
      "West Bank and Gaza & 3/5/20 (43)  & 3/26/20 (21)  & 3/20/20 (15) \\\\\n",
      "South Africa & 3/5/20 (43)  & 3/27/20 (22)  & 3/24/20 (19) \\\\\n",
      "Bosnia and Herzegovina & 3/5/20 (43)  & 3/21/20 (16)  & 3/17/20 (12) \\\\\n",
      "Slovenia & 3/5/20 (43)  & 3/14/20 (9)  & 3/25/20 (20) \\\\\n",
      "\\hline \n",
      "Peru & 3/6/20 (44)  & 3/20/20 (14)  & 3/17/20 (11) \\\\\n",
      "Togo & 3/6/20 (44)  & 3/27/20 (21)  & 3/20/20 (14) \\\\\n",
      "Colombia & 3/6/20 (44)  & 3/22/20 (16)  & 3/17/20 (11) \\\\\n",
      "Holy See & 3/6/20 (44)  & 4/13/20 (38)  & 4/8/20 (33) \\\\\n",
      "Serbia & 3/6/20 (44)  & 3/20/20 (14)  & 3/16/20 (10) \\\\\n",
      "Slovakia & 3/6/20 (44)  & 3/18/20 (12)  & 3/22/20 (16) \\\\\n",
      "Cameroon & 3/6/20 (44)  & 3/25/20 (19)  & 3/25/20 (19) \\\\\n",
      "Bhutan & 3/6/20 (44)  & 4/13/20 (38)  & 4/2/20 (27) \\\\\n",
      "Costa Rica & 3/6/20 (44)  & 3/19/20 (13)  & 3/21/20 (15) \\\\\n",
      "\\hline \n",
      "Malta & 3/7/20 (45)  & 4/8/20 (32)  & 3/13/20 (6) \\\\\n",
      "\\hline \n",
      "Paraguay & 3/8/20 (46)  & 3/21/20 (13)  & 3/27/20 (19) \\\\\n",
      "Bulgaria & 3/8/20 (46)  & 3/11/20 (3)  & 3/21/20 (13) \\\\\n",
      "Moldova & 3/8/20 (46)  & 3/18/20 (10)  & 3/17/20 (9) \\\\\n",
      "Bangladesh & 3/8/20 (46)  & 3/18/20 (10)  & 3/16/20 (8) \\\\\n",
      "Maldives & 3/8/20 (46)  & 4/13/20 (36)  & 3/24/20 (16) \\\\\n",
      "\\hline \n",
      "Brunei & 3/9/20 (47)  & 3/28/20 (19)  & 3/20/20 (11) \\\\\n",
      "Cyprus & 3/9/20 (47)  & 3/22/20 (13)  & 3/22/20 (13) \\\\\n",
      "Albania & 3/9/20 (47)  & 3/11/20 (2)  & 3/21/20 (12) \\\\\n",
      "\\hline \n",
      "Mongolia & 3/10/20 (48)  & 4/13/20 (34)  & 3/30/20 (20) \\\\\n",
      "Panama & 3/10/20 (48)  & 3/11/20 (1)  & 3/24/20 (14) \\\\\n",
      "Burkina Faso & 3/10/20 (48)  & 3/18/20 (8)  & 3/21/20 (11) \\\\\n",
      "\\hline \n",
      "Congo (Kinshasa) & 3/11/20 (49)  & 3/21/20 (10)  & 3/27/20 (16) \\\\\n",
      "Honduras & 3/11/20 (49)  & 3/26/20 (15)  & 3/28/20 (17) \\\\\n",
      "Bolivia & 3/11/20 (49)  & 3/29/20 (18)  & 4/1/20 (21) \\\\\n",
      "Cote d'Ivoire & 3/11/20 (49)  & 3/29/20 (18)  & 3/17/20 (6) \\\\\n",
      "Jamaica & 3/11/20 (49)  & 3/19/20 (8)  & 3/16/20 (5) \\\\\n",
      "Turkey & 3/11/20 (49)  & 3/17/20 (6)  & 3/25/20 (14) \\\\\n",
      "\\hline \n",
      "Cuba & 3/12/20 (50)  & 3/18/20 (6)  & 3/24/20 (12) \\\\\n",
      "Guyana & 3/12/20 (50)  & 3/12/20 (0)  & 4/6/20 (25) \\\\\n",
      "\\hline \n",
      "Kenya & 3/13/20 (51)  & 3/26/20 (13)  & 3/25/20 (12) \\\\\n",
      "Guinea & 3/13/20 (51)  & 4/13/20 (31)  & 4/3/20 (21) \\\\\n",
      "Sudan & 3/13/20 (51)  & 3/13/20 (0)  & 3/31/20 (18) \\\\\n",
      "Kazakhstan & 3/13/20 (51)  & 3/20/20 (7)  & 3/26/20 (13) \\\\\n",
      "Ethiopia & 3/13/20 (51)  & 4/5/20 (23)  & 3/22/20 (9) \\\\\n",
      "Antigua and Barbuda & 3/13/20 (51)  & 4/7/20 (25)  & 4/13/20 (31) \\\\\n",
      "\\hline \n",
      "Trinidad and Tobago & 3/14/20 (52)  & 3/25/20 (11)  & 3/21/20 (7) \\\\\n",
      "Rwanda & 3/14/20 (52)  & 4/13/20 (30)  & 4/5/20 (22) \\\\\n",
      "Saint Lucia & 3/14/20 (52)  & 4/13/20 (30)  & 3/27/20 (13) \\\\\n",
      "Saint Vincent and the Grenadines & 3/14/20 (52)  & 4/13/20 (30)  & 3/28/20 (14) \\\\\n",
      "Uruguay & 3/14/20 (52)  & 3/29/20 (15)  & 3/31/20 (17) \\\\\n",
      "Suriname & 3/14/20 (52)  & 4/3/20 (20)  & 4/8/20 (25) \\\\\n",
      "Venezuela & 3/14/20 (52)  & 3/27/20 (13)  & 3/22/20 (8) \\\\\n",
      "Seychelles & 3/14/20 (52)  & 4/13/20 (30)  & 4/13/20 (30) \\\\\n",
      "Mauritania & 3/14/20 (52)  & 3/30/20 (16)  & 3/29/20 (15) \\\\\n",
      "Namibia & 3/14/20 (52)  & 4/13/20 (30)  & 3/24/20 (10) \\\\\n",
      "Gabon & 3/14/20 (52)  & 3/20/20 (6)  & 4/3/20 (20) \\\\\n",
      "Ghana & 3/14/20 (52)  & 3/21/20 (7)  & 3/26/20 (12) \\\\\n",
      "Eswatini & 3/14/20 (52)  & 4/13/20 (30)  & 4/6/20 (23) \\\\\n",
      "Guatemala & 3/14/20 (52)  & 3/16/20 (2)  & 3/25/20 (11) \\\\\n",
      "\\hline \n",
      "Equatorial Guinea & 3/15/20 (53)  & 4/13/20 (29)  & 3/31/20 (16) \\\\\n",
      "Central African Republic & 3/15/20 (53)  & 4/13/20 (29)  & 4/13/20 (29) \\\\\n",
      "Congo (Brazzaville) & 3/15/20 (53)  & 4/2/20 (18)  & 4/2/20 (18) \\\\\n",
      "Uzbekistan & 3/15/20 (53)  & 3/27/20 (12)  & 3/27/20 (12) \\\\\n",
      "\\hline \n",
      "Bahamas & 3/16/20 (54)  & 4/1/20 (16)  & 3/24/20 (8) \\\\\n",
      "Tanzania & 3/16/20 (54)  & 3/31/20 (15)  & 3/27/20 (11) \\\\\n",
      "Benin & 3/16/20 (54)  & 4/6/20 (21)  & 3/31/20 (15) \\\\\n",
      "Liberia & 3/16/20 (54)  & 4/4/20 (19)  & 4/4/20 (19) \\\\\n",
      "Somalia & 3/16/20 (54)  & 4/8/20 (23)  & 3/31/20 (15) \\\\\n",
      "\\hline \n",
      "Montenegro & 3/17/20 (55)  & 3/23/20 (6)  & 4/3/20 (17) \\\\\n",
      "Gambia & 3/17/20 (55)  & 3/23/20 (6)  & 4/1/20 (15) \\\\\n",
      "Barbados & 3/17/20 (55)  & 4/5/20 (19)  & 4/5/20 (19) \\\\\n",
      "\\hline \n",
      "Djibouti & 3/18/20 (56)  & 4/10/20 (23)  & 4/3/20 (16) \\\\\n",
      "Mauritius & 3/18/20 (56)  & 3/21/20 (3)  & 4/4/20 (17) \\\\\n",
      "Kyrgyzstan & 3/18/20 (56)  & 4/3/20 (16)  & 3/30/20 (12) \\\\\n",
      "Zambia & 3/18/20 (56)  & 4/2/20 (15)  & 4/3/20 (16) \\\\\n",
      "\\hline \n",
      "El Salvador & 3/19/20 (57)  & 3/31/20 (12)  & 4/4/20 (16) \\\\\n",
      "Fiji & 3/19/20 (57)  & 4/13/20 (25)  & 4/13/20 (25) \\\\\n",
      "Chad & 3/19/20 (57)  & 4/13/20 (25)  & 4/7/20 (19) \\\\\n",
      "Nicaragua & 3/19/20 (57)  & 3/27/20 (8)  & 4/12/20 (24) \\\\\n",
      "\\hline \n",
      "Niger & 3/20/20 (58)  & 3/25/20 (5)  & 4/5/20 (16) \\\\\n",
      "Cabo Verde & 3/20/20 (58)  & 3/24/20 (4)  & 4/6/20 (17) \\\\\n",
      "Angola & 3/20/20 (58)  & 3/29/20 (9)  & 3/31/20 (11) \\\\\n",
      "Haiti & 3/20/20 (58)  & 4/5/20 (16)  & 3/29/20 (9) \\\\\n",
      "Zimbabwe & 3/20/20 (58)  & 3/23/20 (3)  & 4/13/20 (24) \\\\\n",
      "Madagascar & 3/20/20 (58)  & 4/13/20 (24)  & 4/5/20 (16) \\\\\n",
      "Papua New Guinea & 3/20/20 (58)  & 4/13/20 (24)  & 4/13/20 (24) \\\\\n",
      "\\hline \n",
      "Uganda & 3/21/20 (59)  & 4/13/20 (23)  & 4/11/20 (21) \\\\\n",
      "Eritrea & 3/21/20 (59)  & 4/13/20 (23)  & 4/13/20 (23) \\\\\n",
      "\\hline \n",
      "Timor-Leste & 3/22/20 (60)  & 4/13/20 (22)  & 4/10/20 (19) \\\\\n",
      "Syria & 3/22/20 (60)  & 3/29/20 (7)  & 4/4/20 (13) \\\\\n",
      "Grenada & 3/22/20 (60)  & 4/13/20 (22)  & 4/13/20 (22) \\\\\n",
      "Mozambique & 3/22/20 (60)  & 4/13/20 (22)  & 4/4/20 (13) \\\\\n",
      "Dominica & 3/22/20 (60)  & 4/13/20 (22)  & 4/6/20 (15) \\\\\n",
      "\\hline \n",
      "Belize & 3/23/20 (61)  & 4/6/20 (14)  & 4/13/20 (21) \\\\\n",
      "\\hline \n",
      "Laos & 3/24/20 (62)  & 4/13/20 (20)  & 4/13/20 (20) \\\\\n",
      "Libya & 3/24/20 (62)  & 4/2/20 (9)  & 3/31/20 (7) \\\\\n",
      "\\hline \n",
      "Saint Kitts and Nevis & 3/25/20 (63)  & 4/13/20 (19)  & 4/13/20 (19) \\\\\n",
      "Mali & 3/25/20 (63)  & 3/29/20 (4)  & 4/4/20 (10) \\\\\n",
      "Guinea-Bissau & 3/25/20 (63)  & 4/13/20 (19)  & 4/13/20 (19) \\\\\n",
      "\\hline \n",
      "Kosovo & 3/26/20 (64)  & 3/26/20 (0)  & 3/27/20 (1) \\\\\n",
      "\\hline \n",
      "Burma & 3/27/20 (65)  & 3/31/20 (4)  & 4/9/20 (13) \\\\\n",
      "\\hline \n",
      "MS Zaandam & 3/28/20 (66)  & 4/1/20 (4)  & 4/13/20 (16) \\\\\n",
      "\\hline \n",
      "Botswana & 3/30/20 (68)  & 3/31/20 (1)  & 4/13/20 (14) \\\\\n",
      "\\hline \n",
      "Burundi & 3/31/20 (69)  & 4/13/20 (13)  & 4/13/20 (13) \\\\\n",
      "Sierra Leone & 3/31/20 (69)  & 4/13/20 (13)  & 4/13/20 (13) \\\\\n",
      "\\hline \n",
      "Malawi & 4/2/20 (71)  & 4/7/20 (5)  & 4/13/20 (11) \\\\\n",
      "\\hline \n",
      "Western Sahara & 4/5/20 (74)  & 4/13/20 (8)  & 4/13/20 (8) \\\\\n",
      "South Sudan & 4/5/20 (74)  & 4/13/20 (8)  & 4/13/20 (8) \\\\\n",
      "\\hline \n",
      "Sao Tome and Principe & 4/6/20 (75)  & 4/13/20 (7)  & 4/13/20 (7) \\\\\n",
      "\\hline \n",
      "Yemen & 4/10/20 (79)  & 4/13/20 (3)  & 4/13/20 (3) \\\\\n"
     ]
    }
   ],
   "source": [
    "# As many as countries\n",
    "print('%First case, & to first death & to first recovery \\\\\\\\')\n",
    "print('\\hline &&&\\\\\\\\')\n",
    "for mm in range(nCountries):\n",
    "    #print('%s & %s & %s & %s\\\\\\\\'%(countries[jj[mm]], dates[siC[mm]], dates[siD[mm]], dates[siR[mm]]))\n",
    "    #print('& %d & %d & %d \\\\\\\\ '%(siC[mm],siD[mm]-siC[mm],siR[mm]-siC[mm]))\n",
    "    sss = [d0SortedCountries[mm], dates[sdFC[mm]], sdFC[mm], dates[sdFD[mm]], sdFD[mm]-sdFC[mm], dates[sdFR[mm]], sdFR[mm]-sdFC[mm]]\n",
    "    print('{s[0]} & {s[1]} ({s[2]})  & {s[3]} ({s[4]})  & {s[5]} ({s[6]}) \\\\\\\\'.format(s=sss))\n",
    "    if (mm<nCountries-1):\n",
    "        if (sdFC[mm]<sdFC[mm+1]):\n",
    "            print('\\hline ')"
   ]
  },
  {
   "cell_type": "markdown",
   "metadata": {},
   "source": [
    "## The time course of reports"
   ]
  },
  {
   "cell_type": "code",
   "execution_count": 10,
   "metadata": {},
   "outputs": [],
   "source": [
    "nCountriesFCByDate= list()\n",
    "nCountriesFDByDate= list()\n",
    "nCountriesFRByDate= list()\n",
    "for m in range(nDays):\n",
    "    # Find the indices of those who reported their first case on day m\n",
    "    nCountriesFCByDate.append(len(np.where(dFC==m)[0])) \n",
    "    # Find the indices of those who reported their first death on day m\n",
    "    nCountriesFDByDate.append(len(np.where(dFD==m)[0])) \n",
    "    nCountriesFRByDate.append(len(np.where(dFR==m)[0])) \n",
    "nCountriesFCByDate = np.array(nCountriesFCByDate)\n",
    "nCountriesFDByDate = np.array(nCountriesFDByDate)\n",
    "nCountriesFRByDate = np.array(nCountriesFRByDate)\n",
    "cumC=nCountriesFCByDate.cumsum()\n",
    "cumD=nCountriesFDByDate.cumsum()\n",
    "cumR=nCountriesFRByDate.cumsum()"
   ]
  },
  {
   "cell_type": "code",
   "execution_count": 11,
   "metadata": {},
   "outputs": [
    {
     "name": "stdout",
     "output_type": "stream",
     "text": [
      "(array([ 6,  2,  1,  2,  2,  3,  0,  2,  2,  4,  1,  0,  0,  1,  0,  0,  1,\n",
      "        0,  0,  0,  0,  0,  0,  1,  0,  0,  0,  0,  1,  0,  2,  0,  0,  5,\n",
      "        4,  7,  4,  6,  4,  5,  7,  4,  4,  4,  9,  1,  5,  3,  3,  6,  2,\n",
      "        6, 14,  4,  5,  3,  4,  4,  7,  2,  5,  1,  2,  3,  1,  1,  1,  0,\n",
      "        1,  2,  0,  1,  0,  0,  2,  1,  0,  0,  0,  1,  0,  0,  0]), 83)\n",
      "(array([ 1,  0,  0,  0,  0,  0,  0,  0,  0,  0,  0,  1,  0,  0,  0,  0,  0,\n",
      "        0,  0,  0,  0,  0,  1,  0,  1,  1,  0,  0,  1,  2,  1,  0,  0,  0,\n",
      "        0,  0,  0,  0,  1,  2,  0,  2,  1,  2,  1,  0,  2,  2,  2,  9,  4,\n",
      "        3,  5,  2,  2,  5,  5,  7,  5,  9,  8,  4,  2,  4,  5,  6,  3,  8,\n",
      "        1,  6,  3,  3,  3,  4,  3,  2,  2,  2,  0,  1,  0,  0, 35]), 83)\n",
      "(array([ 1,  0,  0,  0,  2,  0,  0,  0,  1,  0,  1,  0,  0,  0,  0,  1,  2,\n",
      "        2,  1,  0,  0,  9,  1,  0,  1,  1,  1,  0,  1,  0,  0,  1,  0,  0,\n",
      "        0,  1,  1,  1,  1,  0,  0,  2,  2,  0,  2,  0,  3,  5,  4,  1,  2,\n",
      "        6,  6,  2,  8,  7,  1,  0,  4,  7,  7,  0,  8,  5,  2,  6,  2,  2,\n",
      "        2,  7,  2,  2,  5,  6,  4,  5,  1,  2,  1,  1,  1,  1, 21]), 83)\n"
     ]
    }
   ],
   "source": [
    "print(nCountriesFCByDate,len(nCountriesFCByDate))\n",
    "print(nCountriesFDByDate,len(nCountriesFDByDate))\n",
    "print(nCountriesFRByDate,len(nCountriesFRByDate))"
   ]
  },
  {
   "cell_type": "markdown",
   "metadata": {},
   "source": [
    "The first countries that reported cases of COVID-19 on January 22, 2020 ($d_0$) were South Korea, China, Taiwan, US, Japan, and Thailand. Australia reported their first case 4 days later, together with Canada, on January 26, 2020. The first reports from Europe came 5 days later from Germany, on January 27. The first report in the Middle East came from the United Arab Emirates on January 29, 7 days after the first case reported. \n",
    "Therefore, the COVID-19 epidemic had been reported from all continents but Africa one week after the first case was reported, and the first report from Africa arrived 23 days later from Egypt, on February 14, 2020.\n",
    "These data indicate that the COVID-19 epidemic was wide spread throughout the globe within 2 weeks of the first case, strongly suggesting that the dissemination of the SARS-CoV-2 virus among the human population occurred with a delay of approximately 2 weeks. \n",
    "\n",
    "These data reflect the delay in reports from different countries relative to $d_0$. Of note, 25 countries reported cases within 10 days from $d_0$, and 31 countries had reports within the first 30 days. \n",
    "Of interest to the authors, Mexico reported their first case 37 days later, on February 28, 2020, together with Nigeria, New Zealand, Lithuania, Iceland, and Belarous. The last country that reported cases was Sao Tome and Principe, on April 6th, 2020, 75 days after the first report.\n"
   ]
  },
  {
   "cell_type": "code",
   "execution_count": 12,
   "metadata": {},
   "outputs": [
    {
     "data": {
      "image/png": "[encoded data removed]",
      "text/plain": [
       "<Figure size 792x648 with 6 Axes>"
      ]
     },
     "metadata": {
      "needs_background": "light"
     },
     "output_type": "display_data"
    }
   ],
   "source": [
    "#cFirstCases, binsC = np.histogram(dFC,np.arange(0,(iFD-iFC).max()))\n",
    "days = np.arange(nDays)\n",
    "\n",
    "def plotCaseArrivals():\n",
    "    shift=0.3; W=.7\n",
    "    fRepArrivals= gr.figure(figsize=(11,9)); \n",
    "    gr.ioff(); rows=3; cols=1;\n",
    "    ticks = np.arange(0,nDays,7)\n",
    "    ax=list(); tAx=list()\n",
    "    for m in range(cols*rows):\n",
    "        ax.append(fRepArrivals.add_subplot(rows,cols,m+1))\n",
    "        tAx.append(ax[m].twinx())\n",
    "    tAx[0].plot(cumC,'b',lw=2, label='Cumulative # countries reporting cases')\n",
    "    tAx[1].plot(cumC,'b',lw=2, label='Cumulative # countries reporting cases')\n",
    "    tAx[1].plot(cumD,'k',lw=2,label='Cumulative # countries reporting deaths')\n",
    "    tAx[2].plot(cumC,'b',lw=2, label='Cumulative # countries reporting cases')\n",
    "    tAx[2].plot(cumR,'orange',lw=2, label='Cumulative # countries reporting recoveries')\n",
    "    ax[0].bar(days,nCountriesFCByDate,color='blue',align='center',width=W,label='First case report')\n",
    "    ax[1].bar(days,nCountriesFDByDate,color='black',align='center',width=W,label='First death report')\n",
    "    ax[2].bar(days,nCountriesFRByDate,color='orange',align='center',width=W,label='First recovery report')\n",
    "    ax[0].set_xticks(ticks)\n",
    "    for m in range(cols*rows):\n",
    "        tAx[m].set_yticks(np.arange(0,nCountries+1,10))\n",
    "        ax[m].set_yticks(np.arange(0,nCountriesFCByDate.max()+1,2))\n",
    "        ax[m].set_ylabel('# Countries',rotation=90)\n",
    "        tAx[m].set_ylabel('# Countries',rotation=-90,labelpad=15)\n",
    "        ax[m].legend(loc='center left')\n",
    "        tAx[m].legend(loc='upper left')\n",
    "    #    for label in ax[m].get_xticklabels():\n",
    "    #        label.set_rotation(45)\n",
    "    #        label.set_horizontalalignment('center')\n",
    "    #        label.set_fontsize(8)\n",
    "    #        label.set_horizontaloffset=-15\n",
    "    \n",
    "    fRepArrivals.subplots_adjust(left=0.075,bottom=0.075,right=0.9,top=0.95,wspace=0.1,hspace=0.25)\n",
    "    fRepArrivals.suptitle('Delays in first case report, first death, and first recovery, all countries')\n",
    "    gr.ion(); gr.draw(); gr.show()\n",
    "    fRepArrivals.savefig('tsam_Covid19_figures/tsam_Covid19_JHU_reportArrivals_AllCountries.png')\n",
    "    return fRepArrivals\n",
    "\n",
    "fRepArrivals= plotCaseArrivals()"
   ]
  },
  {
   "cell_type": "code",
   "execution_count": 15,
   "metadata": {},
   "outputs": [
    {
     "name": "stdout",
     "output_type": "stream",
     "text": [
      "18 countries reported within the first 7 days from $d_0$\n"
     ]
    },
    {
     "data": {
      "text/plain": [
       "array(['China', 'Philippines', 'Iran', 'San Marino', 'Argentina',\n",
       "       'Bulgaria', 'Albania', 'Panama', 'Turkey', 'Cuba', 'Guyana',\n",
       "       'Sudan', 'Kazakhstan', 'Gabon', 'Ghana', 'Guatemala', 'Montenegro',\n",
       "       'Gambia', 'Mauritius', 'Niger', 'Cabo Verde', 'Zimbabwe', 'Syria',\n",
       "       'Mali', 'Kosovo', 'Burma', 'MS Zaandam', 'Botswana', 'Malawi',\n",
       "       'Sao Tome and Principe', 'Yemen'], dtype=object)"
      ]
     },
     "execution_count": 15,
     "metadata": {},
     "output_type": "execute_result"
    }
   ],
   "source": [
    "n=7; print(r'%d countries reported within the first %d days from $d_0$'%(len(sdFC[sdFC<n+1]),n))\n",
    "countries[iArrival[(sdFD-sdFC) <n+1]]"
   ]
  },
  {
   "cell_type": "markdown",
   "metadata": {},
   "source": [
    "The difference between the curve of cumulative number of countries reporting cases and the cumulative number of countries reporting deaths is very similar for a large interval of days. \n",
    "The descriptive statistics of delay between death and case reports are as follows. "
   ]
  },
  {
   "cell_type": "markdown",
   "metadata": {},
   "source": [
    "The delays between the first case reported and the first death reported within a single country have a wide distribution, between 0 and 76 days. \n",
    "However, the bulk of the distribution can be found between 0 and 30 days, with a mode at 16 days. In consideration of the time course of the infection by SARS-CoV-2 reported in the literature \\citep{}, the delay between death and contagion can be 21 or more days \\citep{}. \n",
    "\n",
    "Assuming that the testing started at least one week before the date of the first case reported, the data suggest that the epidemic in those countries contributing to left portion of the histogram had started at least 3 weeks before their report. The mode at 16 days fits within the 5-7 days incubation periods reported plus the 2 weeks to develop severe symptoms. For those countries that reported their first death at the mode or after, these data suggest that the epidemic started in those countries at least one week before their first case reported.\n",
    "\n",
    "The delays between the first recovery and the first case reported within a single country are distributed between 0 and 38 days. However, for most countries this delay is between 0 and 27 days approximately, with two clear modes at 12 and 16 days.  "
   ]
  },
  {
   "cell_type": "markdown",
   "metadata": {},
   "source": [
    "### Simple estimation of the temporal bias induced by delays between death and case reports"
   ]
  },
  {
   "cell_type": "code",
   "execution_count": 111,
   "metadata": {},
   "outputs": [],
   "source": [
    "def findHDistance(t,x,y,m,M,nPts=100):\n",
    "    if (len(t)!=len(x)) | (len(x)!=len(y) ):\n",
    "        return \n",
    "    v = np.linspace(m,M,nPts)\n",
    "    d=list()\n",
    "    for n in range(len(v)):\n",
    "        a = np.where(x>v[n])[0][0]\n",
    "        b = np.where(y>v[n])[0][0]\n",
    "        d.append(b-a)\n",
    "    return np.array(d)\n",
    "\n",
    "def findMode(x):\n",
    "    xbins = np.unique(x)\n",
    "    counts,bins =np.histogram(x,xbins)\n",
    "    return x[counts.argmax()] \n"
   ]
  },
  {
   "cell_type": "markdown",
   "metadata": {},
   "source": [
    "Hay un intervalo en el cual los retrasos son más o menos consistentes. "
   ]
  },
  {
   "cell_type": "code",
   "execution_count": 114,
   "metadata": {},
   "outputs": [
    {
     "name": "stdout",
     "output_type": "stream",
     "text": [
      "[19 18 18 18 19 19 19 18 18 19 19 18 18 18 18 18 18 18 18 18 18 19 19 18\n",
      " 18 18 18 17 17 17 18 17 17 17 17 16 16 16 17 17 17 17 18 18 18 17 17 17\n",
      " 18 18 17 17 17 17 17 17 16 16 16 17 17 17 17 17 16 16 16 16 16 16 16 17\n",
      " 17 17 17 17 17 18 18 18 19 19 19 20 19]\n",
      "[14 14 14 14 14 14 14 14 14 14 14 13 13 14 14 15 14 14 14 14 14 14 14 14\n",
      " 14 14 14 13 13 13 14 15 15 15 15 15 15 15 15 15 15 15 16 16 15 14 14 14\n",
      " 14 16 15 15 15 14 14 14 13 14 14 14 14 14 14 14 14 14 14 14 14 14 14 14\n",
      " 15 15 16 16 17 17 17 17 17 17 17 18 18]\n",
      "The most common delay between the cumulative reports of cases and deaths is 18\n",
      "The most common delay between the cumulative reports of cases and recoveries is 14\n"
     ]
    }
   ],
   "source": [
    "delaysCumFDC=findHDistance(days,cumC,cumD,v1,v2,nPts=v2-v1)\n",
    "delaysCumFRC=findHDistance(days,cumC,cumR,v1,v2,nPts=v2-v1)\n",
    "print(delaysCumFDC)\n",
    "print(delaysCumFRC)\n",
    "mm = findMode(delaysCumFDC)\n",
    "MM = findMode(delaysCumFRC)\n",
    "print('The most common delay between the cumulative reports of cases and deaths is %d'%mm)\n",
    "print('The most common delay between the cumulative reports of cases and recoveries is %d'%MM)"
   ]
  },
  {
   "cell_type": "code",
   "execution_count": 122,
   "metadata": {
    "scrolled": true
   },
   "outputs": [
    {
     "name": "stdout",
     "output_type": "stream",
     "text": [
      "(53, 71, 13, 18)\n",
      "(36, 53, 54, 72)\n"
     ]
    },
    {
     "data": {
      "image/png": "[encoded data removed]",
      "text/plain": [
       "<Figure size 504x648 with 4 Axes>"
      ]
     },
     "metadata": {
      "needs_background": "light"
     },
     "output_type": "display_data"
    }
   ],
   "source": [
    "# \n",
    "a = 50; b = 136\n",
    "ia_cumC = np.where(cumC>a)[0].min()\n",
    "ia_cumD = np.where(cumD>a)[0].min()-1\n",
    "ib_cumC = np.where(cumC>b)[0].min()\n",
    "ib_cumD = np.where(cumD>=b)[0].min()\n",
    "ia_cumR = np.where(cumR>a)[0].min()-1\n",
    "ib_cumR = np.where(cumR>=b)[0].min()\n",
    "aa=ia_cumD-ia_cumC\n",
    "bb=ib_cumD-ib_cumC\n",
    "cc=ia_cumR-ia_cumC\n",
    "dd=ib_cumR-ib_cumC\n",
    "print(ib_cumC, ib_cumR, cc,dd)\n",
    "print(ia_cumC,ib_cumC,ia_cumD,ib_cumD)\n",
    "delaysFDC =sdFD-sdFC\n",
    "delaysFRC =sdFR-sdFC\n",
    "#\n",
    "fRepDelay= gr.figure(figsize=(7,9)); gr.ioff()\n",
    "rows=2; cols=2\n",
    "ax=fRepDelay.add_subplot(rows,cols,1); \n",
    "bx=fRepDelay.add_subplot(rows,cols,2); \n",
    "cx=fRepDelay.add_subplot(rows,cols,3); \n",
    "dx=fRepDelay.add_subplot(rows,cols,4); \n",
    "days = np.arange(nDays)\n",
    "cC = np.arange(nCountries)\n",
    "ticks= np.arange(0,nDays,7)\n",
    "bx.plot(cC, delaysFDC, '.', label='#case-death ')\n",
    "bx.plot(cC, mm*np.ones(nCountries),label=r'%d days'%delaysFDC.mean())\n",
    "dx.plot(cC, delaysFRC, '.', label='#case-death ')\n",
    "dx.plot(cC, MM*np.ones(nCountries),label=r'%d days'%delaysFRC.mean())\n",
    "ax.plot(days,cumC,label='Cases')\n",
    "ax.plot(days,cumD, label='Deaths')\n",
    "cx.plot(days,cumC,label='Cases')\n",
    "cx.plot(days,cumR, label='Recoveries')\n",
    "ax.plot(days,a*np.ones(nDays),':',color='orange',alpha=0.35)\n",
    "ax.plot(days,b*np.ones(nDays),':',color='orange',alpha=0.35)\n",
    "cx.plot(days,a*np.ones(nDays),':',color='orange',alpha=0.35)\n",
    "cx.plot(days,b*np.ones(nDays),':',color='orange',alpha=0.35)\n",
    "ax.plot( [days[ia_cumC],days[ia_cumC]], [cC[0],cC[-1]],':',color='orange',lw=1,alpha=0.35)\n",
    "ax.plot( [days[ia_cumD],days[ia_cumD]], [cC[0],cC[-1]],':',color='orange',lw=1,alpha=0.35)\n",
    "ax.plot( days[ib_cumC:ib_cumD], b*np.ones(bb),'k',lw=3,alpha=0.35)\n",
    "ax.plot( days[ia_cumC:ia_cumD], a*np.ones(aa),'k',lw=3,alpha=0.35)\n",
    "cx.plot( [days[ia_cumC],days[ia_cumC]], [cC[0],cC[-1]],':',color='orange',lw=1,alpha=0.35)\n",
    "cx.plot( [days[ia_cumR],days[ia_cumR]], [cC[0],cC[-1]],':',color='orange',lw=1,alpha=0.35)\n",
    "cx.plot( days[ib_cumC:ib_cumR], b*np.ones(dd),'k',lw=3,alpha=0.35)\n",
    "cx.plot( days[ia_cumC:ia_cumR], a*np.ones(cc),'k',lw=3,alpha=0.35)\n",
    "str1='Delay between first death and first case reports'\n",
    "str3='Delay between first recover and first case reports'\n",
    "str2='# Countries reporting cases or deaths'\n",
    "str4='# Countries reporting cases or recoveries'\n",
    "bx.set_ylabel(str1); dx.set_ylabel(str3)\n",
    "ax.set_xlabel(r'''Delay to first death and first case from $d_0$''')\n",
    "cx.set_xlabel(r'''Delay to first recovery and first case from $d_0$''')\n",
    "bx.set_xlabel(str2); dx.set_xlabel(str2)\n",
    "ax.set_ylabel(str2); cx.set_ylabel(str4)\n",
    "ax.legend(loc='upper left')\n",
    "ax.legend(loc='upper right')\n",
    "gr.ion(); gr.draw()\n",
    "fRepDelay.subplots_adjust(left=0.075,bottom=0.075,right=0.9,top=0.95,wspace=0.2,hspace=0.25)\n",
    "fRepDelay.savefig('./tsam_Covid19_figures/tsam_Covid19_JHU_delays_caseDeaths.png')\n",
    "\n",
    "#print(aa,bb)"
   ]
  },
  {
   "cell_type": "markdown",
   "metadata": {},
   "source": [
    "Now a comparison between those estimates of delays and the delays (not just the first case from the whole world)"
   ]
  },
  {
   "cell_type": "code",
   "execution_count": 123,
   "metadata": {
    "scrolled": true
   },
   "outputs": [
    {
     "name": "stdout",
     "output_type": "stream",
     "text": [
      "('Quantiles for delays D-C:', array([ 0.  ,  0.  ,  0.  ,  1.  ,  2.  ,  3.  ,  3.  ,  3.  ,  4.  ,\n",
      "        4.  ,  5.  ,  5.  ,  6.  ,  6.  ,  6.  ,  7.  ,  7.  ,  8.  ,\n",
      "        8.  ,  8.  ,  8.  ,  8.64,  9.  ,  9.  ,  9.16, 10.  , 10.  ,\n",
      "       11.  , 11.52, 12.  , 12.2 , 13.  , 13.  , 13.  , 13.  , 13.4 ,\n",
      "       14.  , 14.  , 14.92, 15.  , 15.  , 15.44, 16.  , 16.  , 16.  ,\n",
      "       16.  , 16.  , 16.48, 18.  , 18.  , 19.  , 19.  , 19.  , 19.  ,\n",
      "       20.  , 20.  , 20.04, 21.  , 21.  , 21.  , 22.  , 22.  , 22.  ,\n",
      "       22.  , 22.  , 22.6 , 23.  , 23.  , 23.  , 23.96, 24.  , 24.64,\n",
      "       25.  , 25.  , 25.  , 27.  , 27.84, 29.  , 29.  , 29.36, 30.  ,\n",
      "       30.  , 30.  , 30.  , 31.  , 31.4 , 32.  , 34.  , 34.92, 36.  ,\n",
      "       37.2 , 38.  , 38.28, 40.  , 40.96, 42.8 , 49.92, 52.  , 58.96,\n",
      "       77.32]))\n",
      "The median delay between first death and first case is 19 days\n",
      "The mode of the distribution for first death and case delays is 36\n",
      "The mode of the distribution for first recovery and case delays is 10\n",
      "[ 0  0  0  0  0  1  1  2  2  3  3  3  3  3  4  4  4  4  5  5  5  5  6  6\n",
      "  6  6  6  7  7  7  7  8  8  8  8  8  8  8  8  9  9  9  9  9  9 10 10 10\n",
      " 10 11 11 11 12 12 12 12 13 13 13 13 13 13 13 13 13 14 14 14 14 14 15 15\n",
      " 15 15 15 15 16 16 16 16 16 16 16 16 16 16 16 17 18 18 18 18 19 19 19 19\n",
      " 19 19 19 20 20 20 20 20 21 21 21 21 21 21 22 22 22 22 22 22 22 22 22 22\n",
      " 23 23 23 23 23 23 23 24 24 24 24 25 25 25 25 25 25 25 27 27 28 29 29 29\n",
      " 29 29 30 30 30 30 30 30 30 30 31 31 31 32 32 32 34 34 35 36 36 36 38 38\n",
      " 38 38 39 40 40 41 42 43 48 51 52 52 58 61 77 79 81]\n",
      "[ 0  1  3  4  4  4  4  5  5  6  6  6  6  7  7  7  7  7  7  8  8  8  8  8\n",
      "  8  8  8  8  9  9  9  9 10 10 10 10 10 10 10 10 11 11 11 11 11 11 11 11\n",
      " 11 11 11 11 11 11 12 12 12 12 12 12 12 12 12 12 12 12 12 12 13 13 13 13\n",
      " 13 13 13 13 13 13 13 13 13 13 14 14 14 14 14 14 14 14 14 14 14 15 15 15\n",
      " 15 15 15 15 15 15 16 16 16 16 16 16 16 16 16 16 16 16 16 16 16 16 16 16\n",
      " 16 17 17 17 17 17 17 17 17 17 17 17 17 17 18 18 18 18 18 18 19 19 19 19\n",
      " 19 19 19 19 19 19 19 19 19 20 20 20 20 20 21 21 21 21 21 22 22 22 22 22\n",
      " 23 23 23 24 24 24 25 25 25 25 27 29 30 31 33 33 38]\n"
     ]
    }
   ],
   "source": [
    "days = np.arange(nDays)\n",
    "qs = np.arange(0,1,0.01)\n",
    "delaysFDC = sdFD-sdFC\n",
    "qDelaysFDC = np.quantile(delaysFDC,qs)\n",
    "print('Quantiles for delays D-C:',qDelaysFDC)\n",
    "medianFDCdelay = np.int32(np.median(delaysFDC) )\n",
    "print('The median delay between first death and first case is %d days'%medianFDCdelay)\n",
    "print('The mode of the distribution for first death and case delays is %d'% findMode(dFD-dFC))\n",
    "print('The mode of the distribution for first recovery and case delays is %d'% findMode(dFR-dFC))\n",
    "print(np.sort(sdFD-sdFC))\n",
    "print(np.sort(sdFR-sdFC))"
   ]
  },
  {
   "cell_type": "code",
   "execution_count": 31,
   "metadata": {
    "scrolled": true
   },
   "outputs": [
    {
     "ename": "IndexError",
     "evalue": "invalid index to scalar variable.",
     "output_type": "error",
     "traceback": [
      "\u001b[0;31m---------------------------------------------------------------------------\u001b[0m",
      "\u001b[0;31mIndexError\u001b[0m                                Traceback (most recent call last)",
      "\u001b[0;32m<ipython-input-31-d0a6be45d95d>\u001b[0m in \u001b[0;36m<module>\u001b[0;34m()\u001b[0m\n\u001b[1;32m     14\u001b[0m \u001b[0;32mfor\u001b[0m \u001b[0mn\u001b[0m \u001b[0;32min\u001b[0m \u001b[0mrange\u001b[0m\u001b[0;34m(\u001b[0m\u001b[0mlen\u001b[0m\u001b[0;34m(\u001b[0m\u001b[0;34m[\u001b[0m\u001b[0moffsets\u001b[0m\u001b[0;34m]\u001b[0m\u001b[0;34m)\u001b[0m\u001b[0;34m)\u001b[0m\u001b[0;34m:\u001b[0m\u001b[0;34m\u001b[0m\u001b[0m\n\u001b[1;32m     15\u001b[0m     \u001b[0mo1\u001b[0m \u001b[0;34m=\u001b[0m \u001b[0moffsets\u001b[0m\u001b[0;34m[\u001b[0m\u001b[0mn\u001b[0m\u001b[0;34m]\u001b[0m\u001b[0;34m\u001b[0m\u001b[0m\n\u001b[0;32m---> 16\u001b[0;31m     \u001b[0;32mfor\u001b[0m \u001b[0mm\u001b[0m \u001b[0;32min\u001b[0m \u001b[0mrange\u001b[0m\u001b[0;34m(\u001b[0m\u001b[0mo1\u001b[0m\u001b[0;34m[\u001b[0m\u001b[0mn\u001b[0m\u001b[0;34m]\u001b[0m\u001b[0;34m,\u001b[0m\u001b[0mlen\u001b[0m\u001b[0;34m(\u001b[0m\u001b[0mii\u001b[0m\u001b[0;34m)\u001b[0m\u001b[0;34m-\u001b[0m\u001b[0mo1\u001b[0m\u001b[0;34m)\u001b[0m\u001b[0;34m:\u001b[0m\u001b[0;34m\u001b[0m\u001b[0m\n\u001b[0m\u001b[1;32m     17\u001b[0m         \u001b[0maxCD\u001b[0m\u001b[0;34m.\u001b[0m\u001b[0mplot\u001b[0m\u001b[0;34m(\u001b[0m\u001b[0mcumC\u001b[0m\u001b[0;34m[\u001b[0m\u001b[0mm\u001b[0m\u001b[0;34m]\u001b[0m\u001b[0;34m,\u001b[0m\u001b[0mcumD\u001b[0m\u001b[0;34m[\u001b[0m\u001b[0mm\u001b[0m\u001b[0;34m+\u001b[0m\u001b[0mo1\u001b[0m\u001b[0;34m]\u001b[0m\u001b[0;34m,\u001b[0m\u001b[0;34m'.'\u001b[0m\u001b[0;34m+\u001b[0m\u001b[0mcolors\u001b[0m\u001b[0;34m[\u001b[0m\u001b[0mn\u001b[0m\u001b[0;34m]\u001b[0m\u001b[0;34m)\u001b[0m\u001b[0;34m\u001b[0m\u001b[0m\n\u001b[1;32m     18\u001b[0m         \u001b[0mee\u001b[0m\u001b[0;34m=\u001b[0m\u001b[0mee\u001b[0m\u001b[0;34m+\u001b[0m\u001b[0mnp\u001b[0m\u001b[0;34m.\u001b[0m\u001b[0mabsolute\u001b[0m\u001b[0;34m(\u001b[0m\u001b[0mcumC\u001b[0m\u001b[0;34m[\u001b[0m\u001b[0mii\u001b[0m\u001b[0;34m]\u001b[0m\u001b[0;34m-\u001b[0m\u001b[0mcumD\u001b[0m\u001b[0;34m[\u001b[0m\u001b[0mm\u001b[0m\u001b[0;34m+\u001b[0m\u001b[0mo1\u001b[0m\u001b[0;34m]\u001b[0m\u001b[0;34m)\u001b[0m\u001b[0;34m**\u001b[0m\u001b[0;36m2\u001b[0m\u001b[0;34m\u001b[0m\u001b[0m\n",
      "\u001b[0;31mIndexError\u001b[0m: invalid index to scalar variable."
     ]
    },
    {
     "data": {
      "image/png": "[encoded data removed]",
      "text/plain": [
       "<Figure size 504x792 with 2 Axes>"
      ]
     },
     "metadata": {
      "needs_background": "light"
     },
     "output_type": "display_data"
    }
   ],
   "source": [
    "#\n",
    "cols=1\n",
    "fPoincare= gr.figure(figsize=(7,11)); gr.ioff()\n",
    "axCD=fPoincare.add_subplot(2,cols,1)\n",
    "axCR=fPoincare.add_subplot(2,cols,2)\n",
    "mCDerror=10**8; mCRerror=10**8\n",
    "\n",
    "le=30;ri=125; colors = ['blue','green','orange','red','magenta']\n",
    "ii = np.where( (cumC>le) & (cumC<ri) )[0];\n",
    "jj = np.where( (cumC<le) | (cumC>ri) )[0]\n",
    "cumCmain=cumC[ii]; cumD[ii+delay]\n",
    "cumCout=cumC[jj]\n",
    "ee=0; ff=0\n",
    "offsets = np.int32(np.arange(16,21)); \n",
    "for n in range(len([offsets])):\n",
    "    o1 = offsets[n]\n",
    "    for m in range(o1[n],len(ii)-o1):\n",
    "        axCD.plot(cumC[m],cumD[m+o1],'.'+colors[n]) \n",
    "        ee=ee+np.absolute(cumC[ii]-cumD[m+o1])**2\n",
    "    if mCDerror>ee:\n",
    "        offsetCD= o1 \n",
    "    for m in range(o1,len(jj)-o1):\n",
    "        axCD.plot(cumC[m],cumD[m+o1],'k.',alpha=0.35) \n",
    "\n",
    "offsets = np.int32(np.arange(12,17)); \n",
    "for n in len(offsets):\n",
    "    o2 = offsets[n]\n",
    "    for m in range(o2,len(ii)-o2):\n",
    "        axCR.plot(cumC[m],cumR[m+o2],'.')\n",
    "        ff=ff+ np.absolute(cumC[ii]-cumR[a])**2\n",
    "    if mCRerror>ff:\n",
    "        offsetCR= o2\n",
    "    for m in range(o2,len(jj)-o2):\n",
    "        axCR.plot(cumC[m],cumR[m+o2],'k.',alpha=0.35)\n",
    "\n",
    "axCD.plot([0,nCountries],[0,nCountries],'k:',alpha=0.35)\n",
    "axCR.plot([0,nCountries],[0,nCountries],'k:',alpha=0.35)\n",
    "axCD.legend(loc='lower right'); axCR.legend(loc='lower right')\n",
    "axCD.set_xlabel('Cumulative # countries reporting cases')\n",
    "axCD.set_ylabel('Cumulative # countries reporting deaths')\n",
    "axCR.set_xlabel('Cumulative # countries reporting cases')\n",
    "axCR.set_ylabel('Cumulative # countries reporting recoveries')\n",
    "gr.ion(); gr.draw(); gr.show()\n",
    "\n",
    "print('Deaths occur on average %d days after case detection'%offsetCD)\n",
    "print('Recoveries occur on average %d days after case detection'%offsetCR)\n",
    "print(cumC[ii])\n",
    "print(cumD[ii+offsetCD])\n",
    "print(cumR[ii+offsetCR])"
   ]
  },
  {
   "cell_type": "markdown",
   "metadata": {},
   "source": []
  },
  {
   "cell_type": "code",
   "execution_count": null,
   "metadata": {},
   "outputs": [],
   "source": [
    "#cFirstCases, binsC = np.histogram(dFC,np.arange(0,(iFD-iFC).max()))\n",
    "days = np.arange(nDays)\n",
    "cDelayDeaths2Case, binsD = np.histogram(dFD-dFC,days)\n",
    "cDelayRecovs2Case, binsR = np.histogram(dFR-dFC,days)\n",
    "days = np.arange(nDays)\n",
    "\n",
    "def plotReportingDelays():\n",
    "    fDelays= gr.figure(figsize=(7,10)); gr.ioff(); rows=2; cols=1;\n",
    "    ticks = np.arange(0,nDays,7)\n",
    "    ax=list(); tAx=list()\n",
    "    fDelays.suptitle('Delays in first case report, first death, and first recovery, all countries')\n",
    "    for m in range(rows*cols):\n",
    "        ax.append(fDelays.add_subplot(rows,cols,m+1))\n",
    "    tAx.append(ax[0].twinx())\n",
    "    ax[0].bar(binsD[:-1],cDelayDeaths2Case,width=0.8,label='Deaths')\n",
    "    ax[1].bar(binsR[:-1],cDelayRecovs2Case,width=0.8,label='Recoveries')\n",
    "    #\n",
    "    ax[0].set_xlabel('Days first case reported (same country)')\n",
    "    ax[1].set_xlabel('Days first case reported (same country)')\n",
    "\n",
    "    for m in range(rows*cols):\n",
    "        ax[m].set_yticks(np.arange(0,np.maximum(cRecovCases.max()+1,cCases.max()),2))\n",
    "        ax[m].set_ylabel('# Countries',rotation=90)\n",
    "        if m>0:\n",
    "            ax[m].legend(loc='upper right')\n",
    "        if m<1:\n",
    "            tAx[m].legend(loc='upper left')\n",
    "    fDelays.subplots_adjust(left=0.075,bottom=0.075,right=0.9,top=0.95,wspace=0.1,hspace=0.25)\n",
    "    gr.ion(); gr.draw(); gr.show()\n",
    "    fDelays.savefig('tsam_Covid19_figures/tsam_Covid19_JHU_delays_AllCountries.png')\n",
    "    return fDelays\n",
    "\n",
    "fDelays= plotReportingDelays()"
   ]
  },
  {
   "cell_type": "code",
   "execution_count": null,
   "metadata": {
    "scrolled": true
   },
   "outputs": [],
   "source": [
    "n=10; print(r'%d countries reported within the first %d days from $d_0$'%(len(siC[siC<n+1]),n))\n",
    "countries[iArrival[siC<n+1]]"
   ]
  },
  {
   "cell_type": "code",
   "execution_count": null,
   "metadata": {},
   "outputs": [],
   "source": [
    "n=30; print(r'%d countries reported within the first %d days from $d_0$'%(len(siC[siC<n+1]),n))\n",
    "countries[iArrival[siC<n+1]]"
   ]
  },
  {
   "cell_type": "code",
   "execution_count": null,
   "metadata": {},
   "outputs": [],
   "source": []
  },
  {
   "cell_type": "markdown",
   "metadata": {},
   "source": [
    "## Cases vs deaths in some subsets of countries taking the delay into account"
   ]
  },
  {
   "cell_type": "code",
   "execution_count": null,
   "metadata": {},
   "outputs": [],
   "source": [
    "# -------------------\n",
    "# Search regions to illustrate the case-fatality ratios\n",
    "# -------------------\n",
    "Pops_Millions = {'China':1439323776, 'Japan':126476461,'Korea, South':51269185, 'Indonesia':273523615, \n",
    "                 'Singapore':5850342, 'Mexico':128932753,'US':331002651, 'Canada':37742154, 'Argentina':45195774,\n",
    "                 'Brazil':212559417, 'Colombia':50882891, 'Niger':24206644, 'Algeria':43851044, 'Egypt':102334404, \n",
    "                 'South Africa':59308690,'Spain':46754778,'Italy':60461826,'France':67886011,'Germany':83783942, \n",
    "                 'Australia':25499884,'United Kingdom':67886011,'Iran':83992949,'Israel':8655535}"
   ]
  },
  {
   "cell_type": "code",
   "execution_count": null,
   "metadata": {},
   "outputs": [],
   "source": [
    "#\n",
    "def plotCasesDeathsTS(casesTS,deathsTS,regions,countries, convFactor=1000,saveFig=1):\n",
    "    ii = getIndsRegions(countries, regions)\n",
    "    figu= gr.figure(figsize=(7,9))\n",
    "    if convFactor <= 1000:\n",
    "        figu.suptitle('Deaths vs cases per {: d} habitants'.format(convFactor))\n",
    "    elif convFactor == 10**6:\n",
    "        figu.suptitle('Deaths vs cases per million ')\n",
    "    gr.ioff(); ax=list(); sax=list(); cols=1; rows =3\n",
    "    ticks= np.arange(0,nDays,7)\n",
    "    for n in range(len(regions)):\n",
    "        ax.append(figu.add_subplot(rows,cols,n+1))\n",
    "        sax.append(inset_axes(parent_axes=ax[n],\n",
    "                                width=\"30%\", # width = 30% of parent_bbox\n",
    "                                height=\"30%\", # height : 1 inch\n",
    "                                loc='lower right'))\n",
    "        region=ii[n]\n",
    "        if convFactor <= 1000:\n",
    "            strDeaths = 'Deaths x {: d}'.format(convFactor)\n",
    "        elif convFactor == 10**6:\n",
    "            strDeaths = 'Deaths per million'\n",
    "        for nn in range(len(region)):\n",
    "            cas[] =convFactor*np.float64(casesTS[region[nn]])/Pops_Millions[countries[region[nn]]]\n",
    "            dea=convFactor*np.float64(deathsTS[region[nn]])/Pops_Millions[countries[region[nn]]]\n",
    "            sax[n].plot(cas,dea,'-',label=countries[region[nn]])\n",
    "            ax[n].plot(cas,dea,'-',label=countries[region[nn]])\n",
    "            if convFactor <= 1000:\n",
    "                ax[n].set_xlabel(r'cases x %d'%convFactor);  ax[n].set_ylabel(r'deaths x %d'%convFactor)\n",
    "            elif convFactor == 10**6: \n",
    "                ax[n].set_xlabel(r'cases per million');  ax[n].set_ylabel(r'deaths per million')\n",
    "        ymm= ax[n].get_ylim()[1]/3\n",
    "        xmm= ax[n].get_xlim()[1]/3\n",
    "        sax[n].set_ylim(0.0,ymm);  sax[n].set_xlim(0.0,xmm);sax[n].set_xticklabels([])\n",
    "        ax[n].legend(ncol=3,loc='upper left',fontsize=8)\n",
    "    figu.subplots_adjust(left=0.075,bottom=0.075,right=0.97,top=0.95,wspace=0.2,hspace=0.25)\n",
    "    gr.ion(); gr.draw(); gr.show()\n",
    "    if saveFig>0:\n",
    "        figName='tsam_Covid19_figures/tsam_Covid19_JHU_cases-deaths_x%d_JHU.png'%convFactor\n",
    "        figu.savefig('./'+figName)\n",
    "    return figu\n"
   ]
  },
  {
   "cell_type": "code",
   "execution_count": null,
   "metadata": {
    "scrolled": true
   },
   "outputs": [],
   "source": [
    "# Setup regions\n",
    "R1=['China','Japan','Korea, South','Indonesia','Singapore','Australia']\n",
    "R2=['United Kingdom','Spain','Italy','France','Germany']\n",
    "#America=['Mexico','US','Argentina','Brazil','Colombia','Chile']\n",
    "LatinAmerica=['Argentina','Brazil','Colombia','Mexico']\n",
    "Africa=['Niger','Algeria','Egypt','South Africa']\n",
    "R3=['US','Canada']\n",
    "MiddleEast =['Iran','Israel']\n",
    "#MiddleEast =['Iran','Lebanon', 'West Bank and Gaza','Israel']\n",
    "regions=[R1,R2+MiddleEast+R3,LatinAmerica+Africa]\n",
    "#\n",
    "ii = getIndsRegions(countries, regions)\n",
    "figu=plotCasesDeathsTS(casesTS=totCases,deathsTS=totDeathCases,regions=regions,countries=countries, convFactor=10**6)\n",
    "\n"
   ]
  },
  {
   "cell_type": "markdown",
   "metadata": {},
   "source": [
    "## Case-fatality ratios "
   ]
  },
  {
   "cell_type": "markdown",
   "metadata": {},
   "source": [
    "The case fatality ratio is an approximation for the probability of death among cases in an epidemic. In fact, it is an upper bound for the proportion of deaths due to infection, assuming that people that have not been confirmed do not have a higher probability of dying because of the infection.\n",
    "\n",
    "The case-fatality ratios can be calculated by dividing each entry in the deaths data frame, by the corresponding entry in the cases data frame.\n"
   ]
  },
  {
   "cell_type": "code",
   "execution_count": null,
   "metadata": {},
   "outputs": [],
   "source": [
    "def delayCorrectTSPair(a,b,delay=18):\n",
    "    nPts = len(a)\n",
    "    a = a[:-DCdelay]\n",
    "    b = b[DCdelay:]\n",
    "    return a,b\n",
    "\n",
    "DCdelay=14; DRdelay=14\n",
    "DC_totCases,DC_totDeaths=delayCorrectTSPair(totCases.transpose(),totDeathCases.transpose(),delay=DCdelay)\n",
    "RC_totCases,RC_totRecovs=delayCorrectTSPair(totCases.transpose(),totRecovCases.transpose(),delay=DRdelay)\n",
    "#\n",
    "DC_totCases = DC_totCases.transpose()\n",
    "DC_totDeaths= DC_totDeaths.transpose()\n",
    "RC_totCases = RC_totCases.transpose()\n",
    "RC_totRecovs= RC_totRecovs.transpose()"
   ]
  },
  {
   "cell_type": "code",
   "execution_count": null,
   "metadata": {},
   "outputs": [],
   "source": [
    "def zeroCorrectCFR(c,d):\n",
    "    c[c==0]=1\n",
    "    print(c.shape,d.shape)\n",
    "    return d/c\n",
    "\n",
    "print(totCases.shape,totDeathCases.shape)\n",
    "print(DC_totCases.shape,DC_totDeaths.shape)\n",
    "cfr=zeroCorrectCFR(c=np.float64(totCases),d=totDeathCases)\n",
    "DC_cfr=zeroCorrectCFR(c=np.float64(DC_totCases),d=DC_totDeaths)\n",
    "print(cfr.shape,DC_cfr.shape)\n",
    "\n",
    "DC_cfr.max()"
   ]
  },
  {
   "cell_type": "code",
   "execution_count": null,
   "metadata": {},
   "outputs": [],
   "source": [
    "# Local example for comparison of CFRs with and without delay\n",
    "DCdelay =0\n",
    "i = np.where(countries=='Spain')[0][0]\n",
    "locCases = totCases[i]\n",
    "locDeaths = totDeathCases[i]\n",
    "DC_locCases= locCases[:-DCdelay]\n",
    "DC_locDeaths= locDeaths[DCdelay:]\n",
    "print(DC_locCases,DC_locDeaths)\n",
    "DC_locCFR =zeroCorrectCFR(c=np.int64(DC_locCases),d=DC_locDeaths)\n",
    "fLocalDC= gr.figure(figsize=(7,11)); \n",
    "gr.ioff(); ax=list(); rows=4; cols=1\n",
    "for n in range(rows*cols):\n",
    "    ax.append(fLocalDC.add_subplot(rows,cols,n+1))\n",
    "    \n",
    "delayDays = np.arange(DCdelay,nDays)\n",
    "ax[0].plot(DC_locCases,DC_locDeaths,label='(C,D) delay-corrected, %s'%countries[i]) \n",
    "ax[0].plot(locCases[DCdelay:],locDeaths[DCdelay:],label='(C,D) no correction, %s'%countries[i])\n",
    "ax[1].plot(delayDays,DC_locCases,label='shifted cases')\n",
    "ax[1].plot(delayDays,DC_locDeaths,label='deaths')\n",
    "ax[2].plot(delayDays[1:],DC_locCases[1:]-DC_locCases[:-1],label=r'$\\Delta$ cases')\n",
    "ax[2].plot(delayDays[1:],DC_locDeaths[1:]-DC_locDeaths[:-1],label=r'$\\Delta$ deaths')\n",
    "ax[3].plot(delayDays[1:],DC_locCFR,label=r'$\\frac{D(t+\\delta)}{C(t)}$')\n",
    "\n",
    "for n in range(rows*cols):\n",
    "    ax[n].legend()\n",
    "gr.ion(); gr.draw()"
   ]
  },
  {
   "cell_type": "markdown",
   "metadata": {},
   "source": [
    "Search regions to illustrate the case-fatality ratios"
   ]
  },
  {
   "cell_type": "markdown",
   "metadata": {},
   "source": [
    "Function to plot the CFR in different subsets of countries chosen specifically to illustrate different dynamics"
   ]
  },
  {
   "cell_type": "code",
   "execution_count": null,
   "metadata": {},
   "outputs": [],
   "source": [
    "#\n",
    "def plotCFRTS(cfr,dates,regions,countries,move2start=1):\n",
    "    cfr=100*cfr\n",
    "    delayDays = np.arange(DCdelay,nDays)\n",
    "    ii = getIndsRegions(countries, regions)\n",
    "    figu = gr.figure(figsize=(7,9))\n",
    "    figu.suptitle('Percentage of dead/confirmed between %s-%s'''%(dates[0],dates[-1]))\n",
    "    ax=list(); gr.ioff()\n",
    "    cols=1; rows = 3\n",
    "    ticks= np.arange(0,nDays,7)\n",
    "    for n in range(len(regions)):\n",
    "        ax.append(figu.add_subplot(rows,cols,n+1))\n",
    "        region=ii[n];\n",
    "        for nn in range(len(region)):\n",
    "            thisCFR=cfr[region[nn]]\n",
    "            ax[n].set_xticks(ticks)\n",
    "            if move2start:\n",
    "                startInd = np.maximum( np.where(thisCFR>0)[0].min(),0)\n",
    "                ax[n].plot(thisCFR[startInd:],'-',label=countries[region[nn]])\n",
    "                ax[n].set_xlabel('Days from first reported case')\n",
    "            else:\n",
    "                ax[n].plot(cfr[region[nn]],'-',label=countries[region[nn]])\n",
    "                ax[n].set_xticklabels(dates[ticks],{'fontsize':8})\n",
    "                for label in ax[n].get_xticklabels():\n",
    "                    label.set_rotation(45)\n",
    "                    label.set_horizontalalignment('center')\n",
    "                    label.set_fontsize(8)\n",
    "        #ax[n].set_xlim(ximin,len(dates))\n",
    "        ax[n].set_ylim(0,15);\n",
    "        ax[n].legend(ncol=4,loc='upper left',fontsize=8)\n",
    "    figu.subplots_adjust(left=0.075,bottom=0.075,right=0.97,top=0.95,wspace=0.2,hspace=0.25)\n",
    "    gr.ion(); gr.draw(); gr.show()\n",
    "    return figu"
   ]
  },
  {
   "cell_type": "markdown",
   "metadata": {},
   "source": [
    "Now let us plot the case fatality ratios of a few countries with reported cases. "
   ]
  },
  {
   "cell_type": "code",
   "execution_count": null,
   "metadata": {},
   "outputs": [],
   "source": [
    "# ---------------------------------------------\n",
    "# All relative to the starting days of the pandemia\n",
    "figu=plotCFRTS(DC_cfr,dates,regions,countries, move2start=1)\n",
    "strCFR='tsam_Covid19_figures/tsam_Covid19_JHU_cfr_fromFirstLocalCase.png'\n",
    "figu.savefig('./'+strCFR)\n"
   ]
  },
  {
   "cell_type": "code",
   "execution_count": null,
   "metadata": {},
   "outputs": [],
   "source": [
    "# ---------------------------------------------\n",
    "# From the day the first case was reported\n",
    "figu=plotCFRTS(cfr,dates,regions,countries, move2start=0)\n",
    "strCFR='tsam_Covid19_figures/tsam_Covid19_JHU_cfr_relative2d0.png'\n",
    "figu.savefig('./'+strCFR)\n",
    "# ---------------------------------------------\n"
   ]
  },
  {
   "cell_type": "markdown",
   "metadata": {},
   "source": [
    "It is important to consider that the first few reports of deaths usually are biased by the fact that those cases are almost "
   ]
  },
  {
   "cell_type": "markdown",
   "metadata": {},
   "source": [
    "### Case fatality ratios in detail for countries reporting cases by province\n",
    "\n",
    "The countries where there are reports by province are China, United Kingdom, Australia, and Canada. To see this, print the list of countries including repetitions."
   ]
  },
  {
   "cell_type": "code",
   "execution_count": null,
   "metadata": {
    "scrolled": true
   },
   "outputs": [],
   "source": [
    "countries_Cases"
   ]
  },
  {
   "cell_type": "markdown",
   "metadata": {},
   "source": [
    "The rows that contain the data from China, for instance, are between 42 and 82, inclusive."
   ]
  },
  {
   "cell_type": "markdown",
   "metadata": {},
   "source": [
    "### CFR analysis for China, UK, and Australia, taking into account the data by province\n",
    "\n",
    "The data will be separated into dictionaries, one for each country. "
   ]
  },
  {
   "cell_type": "markdown",
   "metadata": {},
   "source": [
    "China"
   ]
  },
  {
   "cell_type": "code",
   "execution_count": null,
   "metadata": {},
   "outputs": [],
   "source": [
    "China= {'Country name':'China'}\n",
    "China['cfrWC']=cfr[np.where(countries=='China')[0][0]]\n",
    "China['cases'], China['indsCases']= gatherDataSingleCountry(cases,'China')\n",
    "China['deathCases'], China['indsDeaths']= gatherDataSingleCountry(deathCases,'China')\n",
    "China['cfrs'] = correctedArrayRatio(China['deathCases'],China['cases'])\n",
    "China['provinces']=cases.iloc[China['indsCases'],0].to_numpy()\n",
    "China['nProvinces'] = len(China['provinces'])\n",
    "China['startDaysCases']= findCaseStarts(places=China['provinces'],cases=China['cases'])"
   ]
  },
  {
   "cell_type": "markdown",
   "metadata": {},
   "source": [
    "UK"
   ]
  },
  {
   "cell_type": "code",
   "execution_count": null,
   "metadata": {},
   "outputs": [],
   "source": [
    "UK =  {'Country name':'UK'}\n",
    "UK['cfrWC']=cfr[np.where(countries=='United Kingdom')[0][0]]\n",
    "UK['cases'], UK['indsCases']= gatherDataSingleCountry(cases,'United Kingdom')\n",
    "UK['deathCases'], UK['indsDeaths']= gatherDataSingleCountry(deathCases,'United Kingdom')\n",
    "UK['cfrs'] = correctedArrayRatio(UK['deathCases'],UK['cases'])\n",
    "UK['provinces']=cases.iloc[UK['indsCases'],0].to_numpy()\n",
    "UK['nProvinces'] = len(UK['provinces'])\n",
    "UK['startDaysCases']= findCaseStarts(places=UK['provinces'],cases=UK['cases'])\n",
    "print(UK['provinces'])\n",
    "UK['provinces'][6]= 'Great Britain'\n",
    "print(UK['provinces'])"
   ]
  },
  {
   "cell_type": "markdown",
   "metadata": {},
   "source": [
    "Australia"
   ]
  },
  {
   "cell_type": "code",
   "execution_count": null,
   "metadata": {},
   "outputs": [],
   "source": [
    "Australia =  {'Country name':'Australia'}\n",
    "Australia['cfrWC']=cfr[np.where(countries=='Australia')[0][0]]\n",
    "Australia['cases'], Australia['indsCases']= gatherDataSingleCountry(cases,'Australia')\n",
    "Australia['deathCases'], Australia['indsDeaths']= gatherDataSingleCountry(deathCases,'Australia')\n",
    "Australia['cfrs'] = correctedArrayRatio(Australia['deathCases'],Australia['cases'])\n",
    "Australia['provinces']=cases.iloc[Australia['indsCases'],0].to_numpy()\n",
    "Australia['nProvinces'] = len(Australia['provinces'])\n",
    "Australia['startDaysCases']= findCaseStarts(places=Australia['provinces'],cases=Australia['cases'])"
   ]
  },
  {
   "cell_type": "code",
   "execution_count": null,
   "metadata": {},
   "outputs": [],
   "source": [
    "Australia['startDaysCases']"
   ]
  },
  {
   "cell_type": "markdown",
   "metadata": {},
   "source": [
    "Plot comparisons for the three places with averages by region and comparison with the whole country average"
   ]
  },
  {
   "cell_type": "code",
   "execution_count": null,
   "metadata": {},
   "outputs": [],
   "source": [
    "def plotCFRTS_Provinces(place,dates,move2start=1):\n",
    "    figu = gr.figure(figsize=(7,5))\n",
    "    figu.suptitle('Percentage of dead/confirmed between %s-%s in %s'''%(dates[0],dates[-1],place['Country name']))\n",
    "    gr.ioff();cols=1; rows = 1\n",
    "    ax=figu.add_subplot(rows,cols,1)\n",
    "    print(place['Country name'])\n",
    "    ticks= np.arange(0,nDays,7)\n",
    "    si = place['startDaysCases'].min()\n",
    "    for nn in range(len(place['provinces'])):\n",
    "        #print(place['provinces'][nn])\n",
    "        thisCFR=100*place['cfrs'][nn]\n",
    "        ax.set_xticks(ticks)\n",
    "        if move2start==1:\n",
    "            ax.plot(thisCFR[si:],'-',label=place['provinces'][nn])\n",
    "            ax.set_xlabel('Days from first reported case')\n",
    "        else:\n",
    "            ticks= np.arange(si,nDays,7)\n",
    "            ax.plot(thisCFR,'-',label=place['provinces'][nn])\n",
    "            ax.set_xticklabels(dates[ticks],{'fontsize':8})\n",
    "            for label in ax.get_xticklabels():\n",
    "                label.set_rotation(0)\n",
    "                label.set_horizontalalignment('center')\n",
    "                label.set_fontsize(8)\n",
    "    avgCFR=100*place['cfrs'].mean(0)\n",
    "    if move2start==1:\n",
    "        ax.plot(avgCFR[si:],'k-',alpha=1, lw=3,label='Average CFR from provinces in %s'%place['Country name'])\n",
    "        ax.plot(100*place['cfrWC'][si:],'k-',alpha=0.35, lw=5,label='CFR from total cases')\n",
    "        strCFR='figures/tsam_Covid19_JHU_cfr_Provinces'+place['Country name']+'_fromDate0.png'\n",
    "    else:\n",
    "        ax.plot(avgCFR,'k-',alpha=1, lw=3,label='Average CFR from provinces in %s'%place['Country name'])\n",
    "        ax.plot(100*place['cfrWC'],'k-',alpha=0.35, lw=5,label='CFR from total cases')\n",
    "        strCFR='tsam_Covid19_figures/tsam_Covid19_JHU_cfr_Provinces'+place['Country name']+'_fromFirstLocalReport.png'\n",
    "    ax.set_ylim(0,10);\n",
    "    ax.legend(ncol=4,loc='upper center',fontsize=8)\n",
    "    figu.subplots_adjust(left=0.075,bottom=0.075,right=0.97,top=0.92,wspace=0.2,hspace=0.25)\n",
    "    figu.savefig('./'+strCFR)\n",
    "    gr.ion(); gr.draw(); gr.show()\n",
    "    return figu"
   ]
  },
  {
   "cell_type": "code",
   "execution_count": null,
   "metadata": {},
   "outputs": [],
   "source": [
    "figuChina=plotCFRTS_Provinces(China,dates,move2start=0)"
   ]
  },
  {
   "cell_type": "code",
   "execution_count": null,
   "metadata": {},
   "outputs": [],
   "source": [
    "figuUK=plotCFRTS_Provinces(UK,dates,move2start=0)\n",
    "print(UK['provinces'])"
   ]
  },
  {
   "cell_type": "code",
   "execution_count": null,
   "metadata": {},
   "outputs": [],
   "source": [
    "figuAust=plotCFRTS_Provinces(Australia,dates,move2start=0)"
   ]
  },
  {
   "cell_type": "markdown",
   "metadata": {},
   "source": [
    "### Predictions of CFR by age groups based on estimates from China and Italy"
   ]
  },
  {
   "cell_type": "markdown",
   "metadata": {},
   "source": [
    "The rates of mortality among cases by age group have been reported in some of the countries where COVID-19 has been detected.  The probability that a person with positive SARS-CoV-2 testing dies in the hospital depends on many different factors. Some of these factors depend on the individual, including age, comorbidities like hypertension, obesity and diabetes, etcetera [(10.1016/S0140-6736(20)30566-3)](https://www.sciencedirect.com/science/article/pii/S0140673620305663). Other factors hinge on the availability of health care, and the quality of care in different countries.  Of note, the mortality in Italy, South Korea, and China, are constrasting cases of study of the known patterns patterns for CFRs results due to different conditions in these countries, different population structures, and health care policies. \n",
    "\n",
    "As a means to generate estimates of the CFRs from different age groups, we propose a simple calculation of proportions based on cases. Depending on an unknown factor that would account for under reporting, these estimates can be used to generate time series of CFRs by age. "
   ]
  },
  {
   "cell_type": "markdown",
   "metadata": {},
   "source": [
    "The age groups to take into account are \\[0,10),\\[10,20), \\[20,30), \\[30,40), \\[40,50), \\[50,60), \\[60,70), \\[70,80), 80+. \n",
    "\n",
    "The data that will be used was last estimated in February 11, 2020 for China, March 17, 2020, for Italy, and March 24, 2020 for South Korea [(video of Kim Woo-Joo from the Guro University Hospital Guro, University of Korea (March 27, 2020)](https://www.youtube.com/watch?v=gAk7aX5hksU&feature=youtu.be).\n",
    "\n",
    "There are reports of up to 20% of symptomatic cases, and in South Korea, for instance, about 50% of hospitalizations are people 60 years old or older, it is important to obtain numbers to estimate the size of a population in need for critical care. "
   ]
  },
  {
   "cell_type": "code",
   "execution_count": null,
   "metadata": {},
   "outputs": [],
   "source": [
    "SKorea={'ageCFR': np.array([0,0,0,0.001,0.001,0.004,0.015,0.063,0.116]),'CFR_20200324':0.02,'Country name':'Korea, South'}\n",
    "Italy={'ageCFR': np.array([0,0,0,0.003,0.004,0.01,0.035,0.128,0.202]),'CFR_20200317':0.072,'Country name':'Italy'}\n",
    "China['ageCFR'] = np.array([0,0.002,0.002,0.002,0.004,0.013,0.036,0.08,0.14])\n",
    "China['CFR_20200211'] = 0.02\n",
    "aGroups=np.arange(0,90,10)\n"
   ]
  },
  {
   "cell_type": "code",
   "execution_count": null,
   "metadata": {},
   "outputs": [],
   "source": [
    "def sigmoid(a, aMax=0.1,a0=60.0,n=2): \n",
    "    aa = a**n\n",
    "    return aMax* aa /(aa + a0**n)"
   ]
  },
  {
   "cell_type": "code",
   "execution_count": null,
   "metadata": {},
   "outputs": [],
   "source": [
    "ageCountries=[China, SKorea, Italy]\n",
    "ages = np.arange(0,90)\n",
    "f11=gr.figure(figsize=(9,5)); gr.ioff(); rows =1;cols=1\n",
    "f11.suptitle('CFR by age')\n",
    "lshift=2.5;  ax=f11.add_subplot(rows,cols,1)\n",
    "for n in range(len(ageCountries)):\n",
    "    ax.bar(aGroups+ (n*lshift), 100*ageCountries[n]['ageCFR'],width=2,align='edge',label=ageCountries[n]['Country name']);\n",
    "ax.plot(ages, 100*sigmoid(a=ages,a0=75,aMax=0.22,n=9))\n",
    "ax.plot(ages, 100*sigmoid(a=ages,a0=80,aMax=0.17,n=9))\n",
    "ax.plot(ages, 100*sigmoid(a=ages,a0=82,aMax=0.33,n=9))\n",
    "ax.legend(loc='upper left')\n",
    "ax.set_xticks(aGroups)\n",
    "ax.set_yticks(np.arange(0,20+1,2))\n",
    "ax.set_xlabel('Age groups')\n",
    "gr.ion(); gr.draw();  gr.show()\n",
    "f11Name='tsam_Covid19_figures/tsam_Covid19_JHU_cfrByAge_China+SKorea+Italy.png'\n",
    "f11.savefig(f11Name)\n"
   ]
  },
  {
   "cell_type": "markdown",
   "metadata": {},
   "source": [
    "These profiles are similar in that they are all increasing as a function of age, reaching a half-maximum height at ages between 50 and 60 years of age. "
   ]
  },
  {
   "cell_type": "markdown",
   "metadata": {},
   "source": [
    "We can establish qualitative estimations of the percentage of deaths based on these age CFRs. To do so, we calculate the weights of the CFRs in each age group, which represent the proportion of deaths in each group.\n",
    "\n",
    "#### Calculation of proportions of death within cases, by age groups\n",
    "\n",
    "Let $c_i$ represent the case-fatality ratio in $i$th age group, $i \\in \\left\\{0,1,...,8\\right\\}$\n",
    "The weight of the $i$th age group on the total death reported via CFRs is\n",
    "$$w_i = \\frac{c_i}{\\sum_{j=0}^{n-1}} w_j.$$\n",
    "Then the probability of death in the $i$th age group can be estimated by multiplying the CFR and the weight of the $i$th age group on the CFR. Then, multiplication by the number of cases would yield the death toll by age group. \n",
    " "
   ]
  },
  {
   "cell_type": "markdown",
   "metadata": {},
   "source": [
    "A few sutile differences can be noted from these data. For instance, the CFRs for the first 3 groups in Italy and South Korea are very similar. In Italy, the percentage of dead cases is very large among the last two age groups, which in part is due to the fact that Italians implemented a triage system that sometimes denied respirators to patients with small chances of survival. "
   ]
  },
  {
   "cell_type": "code",
   "execution_count": null,
   "metadata": {},
   "outputs": [],
   "source": [
    "ageCountries=[China,SKorea,Italy]\n",
    "for n in range(len(ageCountries)):\n",
    "    C = ageCountries[n]\n",
    "    print(C['Country name'])\n",
    "    ageCFRweights = C['ageCFR'].sum()\n",
    "    C['ageDeadCaseProps'] = C['ageCFR']/ageCFRweights\n",
    "    C['cfrTotCases']=cfr[np.where(countries==C['Country name'])[0][0]]\n",
    "    C['totCases'] = totCases[np.where(countries==C['Country name'])[0][0]]\n",
    "    C['totDeathCases'] = totDeathCases[np.where(countries==C['Country name'])[0][0]]\n",
    "    C['totDeathCases_ageProps'] = np.zeros((len(aGroups),len(C['totDeathCases'])),'int64')\n",
    "    for nn in range(len(aGroups)):\n",
    "        C['totDeathCases_ageProps'][nn,:]= C['ageDeadCaseProps'][nn] * C['totCases']* C['cfrTotCases']\n",
    "        print(C['totDeathCases_ageProps'][nn])\n",
    "\n"
   ]
  },
  {
   "cell_type": "code",
   "execution_count": null,
   "metadata": {},
   "outputs": [],
   "source": [
    "ages = np.arange(0,90)\n",
    "f10b=gr.figure(figsize=(11,5)); gr.ioff(); rows =1;cols=2\n",
    "f10b.suptitle('Age related CFRs and their relative weights'); ax=list()\n",
    "for m in range(rows*cols):\n",
    "    ax.append(f10b.add_subplot(rows,cols,m+1))\n",
    "lshift=2.5;  \n",
    "for n in range(len(ageCountries)):\n",
    "    C=ageCountries[n]\n",
    "    ax[0].bar(aGroups+ (n*lshift), 100*C['ageCFR'],width=2,align='edge',label=ageCountries[n]['Country name']);\n",
    "    ax[1].bar(aGroups+ (n*lshift), 100*C['ageDeadCaseProps'],width=2,align='edge',label=ageCountries[n]['Country name']);\n",
    "ax[0].plot(ages, 100*sigmoid(a=ages,a0=75,aMax=0.22,n=9))\n",
    "ax[0].plot(ages, 100*sigmoid(a=ages,a0=79,aMax=0.17,n=9))\n",
    "ax[0].plot(ages, 100*sigmoid(a=ages,a0=81,aMax=0.33,n=9))\n",
    "ax[1].plot(ages, 100*sigmoid(a=ages,a0=75,aMax=0.78,n=9))\n",
    "ax[1].plot(ages, 100*sigmoid(a=ages,a0=80,aMax=0.9,n=9))\n",
    "ax[1].plot(ages, 100*sigmoid(a=ages,a0=84,aMax=0.92,n=9))\n",
    "for m in range(rows*cols):\n",
    "    ax[m].legend(loc='lower left'); \n",
    "    ax[m].set_xticks(aGroups)\n",
    "    ax[m].set_xlabel('Age groups')\n",
    "ax[0].set_yticks(np.arange(0,26,5))\n",
    "ax[1].set_yticks(np.arange(0,66,5))\n",
    "ax[0].text(0,20,'CFRs by age (percent)')\n",
    "ax[1].text(0,60,'Contributions to death within cases by age (percent)')\n",
    "f10b.subplots_adjust(left=0.075,bottom=0.075,right=0.97,top=0.9,wspace=0.2,hspace=0.25)\n",
    "gr.ion(); gr.draw();  gr.show()\n",
    "f10bName='tsam_Covid19_figures/tsam_Covid19_JHU_cfr+propDeathCases_ByAge_China+SKorea+Italy_OneFigure.png'\n",
    "f10b.savefig(f10bName)"
   ]
  },
  {
   "cell_type": "code",
   "execution_count": null,
   "metadata": {},
   "outputs": [],
   "source": [
    "ages = np.arange(0,90)\n",
    "f12=gr.figure(figsize=(13,9)); gr.ioff(); rows =3;cols=1\n",
    "f12.suptitle('Deaths due to COVID-19 by age')\n",
    "ax=list()\n",
    "ticks= np.arange(0,nDays,3)\n",
    "convFactor =1\n",
    "for n in range(len(ageCountries)):\n",
    "    ax.append(f12.add_subplot(rows,cols,n+1))\n",
    "    C = ageCountries[n]\n",
    "    print(C['Country name'])\n",
    "    ax[n].plot(C['totDeathCases'],'k--', alpha=1, lw=1,label='Deaths reported '+ C['Country name']);\n",
    "    ax[n].plot(C['totDeathCases_ageProps'].sum(0),'k',lw=1,label='Sum of estimates '+ C['Country name']);\n",
    "    for nn in range(len(aGroups)):\n",
    "        ax[n].plot(C['totDeathCases_ageProps'][nn],label=C['Country name']+ '[%d,%d)]'%(aGroups[nn],aGroups[nn]+10));\n",
    "    ax[n].legend(loc='upper left',ncol=2, fontsize=8)\n",
    "    ax[n].set_xticks(ticks)\n",
    "    ax[n].set_xticklabels(dates[ticks],{'fontsize':8})\n",
    "    for label in ax[n].get_xticklabels():\n",
    "        label.set_rotation(30)\n",
    "        label.set_horizontalalignment('center')\n",
    "        label.set_fontsize(8)\n",
    "f12.subplots_adjust(left=0.075,bottom=0.075,right=0.97,top=0.95,wspace=0.2,hspace=0.25)\n",
    "gr.ion(); gr.draw();  gr.show()\n",
    "\n",
    "f12Name='tsam_Covid19_figures/tsam_Covid19_JHU_cfr+propDeathCasesByAgeTS.png'\n",
    "f12.savefig(f12Name)\n",
    "\n",
    "print('%d days'%nDays)"
   ]
  },
  {
   "cell_type": "code",
   "execution_count": null,
   "metadata": {},
   "outputs": [],
   "source": [
    "print(SKorea['totDeathCases_ageProps'].sum(0)[-1])\n",
    "print(Italy['totDeathCases_ageProps'].sum(0)[-1])\n",
    "print(China['totDeathCases_ageProps'].sum(0)[-1])"
   ]
  },
  {
   "cell_type": "markdown",
   "metadata": {},
   "source": [
    "### Projections for Mexico"
   ]
  },
  {
   "cell_type": "code",
   "execution_count": null,
   "metadata": {},
   "outputs": [],
   "source": [
    "Mexico = dict()\n",
    "Mexico['cfr'] =cfr[np.where(countries=='Mexico')[0][0]]\n",
    "Mexico['totCases']=totCases[np.where(countries=='Mexico')[0][0]]\n",
    "Mexico['totDeathCases']=totDeathCases[np.where(countries=='Mexico')[0][0]]\n",
    "Mexico['startInd'] = np.where(Mexico['totCases']>0)[0].min()\n",
    "Mexico['popMillions']= Pops_Millions['Mexico']\n",
    "Mexico['delayFromReport0']=np.where(Mexico['totCases']>0)[0].min()\n",
    "print('First case reported %d days after Report 0'%Mexico['delayFromReport0'])"
   ]
  },
  {
   "cell_type": "code",
   "execution_count": null,
   "metadata": {},
   "outputs": [],
   "source": [
    "def estimateDeathsByAgeMexico(Mexico, dates, subReportFactor=1):\n",
    "    si = Mexico['delayFromReport0']\n",
    "    ticks= np.arange(0,len(dates),7)\n",
    "    casesMexico = subReportFactor * Mexico['totCases']\n",
    "    f13=gr.figure(figsize=(7,9)); gr.ioff(); rows =3;cols=1;ax=list()\n",
    "    for n in range(len(ageCountries)):\n",
    "        ax.append(f13.add_subplot(rows,cols,n+1))\n",
    "        C = ageCountries[n]\n",
    "        ax[n].plot(subReportFactor* Mexico['totDeathCases'],'k',lw=1,label='Deaths reported in Mexico');\n",
    "        ax[n].set_title('Projection based on contributions by age groups from %s using a subreport factor of %d'%(C['Country name'],subReportFactor))\n",
    "        for nn in range(len(aGroups)):\n",
    "            ff = casesMexico * Mexico['cfr'] * C['ageDeadCaseProps'][nn]\n",
    "            ax[n].plot(ff,label='Mexico [%d,%d)]'%(aGroups[nn],aGroups[nn]+10));\n",
    "            ax[n].legend(loc='upper left',ncol=3, fontsize=8)\n",
    "        ax[n].set_xticks(ticks)\n",
    "        ax[n].set_xticklabels(dates[ticks],{'fontsize':8})\n",
    "        for label in ax[n].get_xticklabels():\n",
    "            label.set_rotation(0)\n",
    "            label.set_horizontalalignment('center')\n",
    "            label.set_fontsize(8)\n",
    "        ax[n].set_xlim(si,len(Mexico['totDeathCases']))\n",
    "    f13.subplots_adjust(left=0.075,bottom=0.075,right=0.97,top=0.95,wspace=0.1,hspace=0.25)\n",
    "    f13Name='tsam_Covid19_figures/tsam_Covid19_JHU_cfr+propDeathCasesByAgeTS_EstimatesMexico_subReportFactor%d.png'%subReportFactor\n",
    "    gr.ion(); gr.draw();  gr.show()\n",
    "    f13.savefig(f13Name)\n",
    "    return f13\n",
    "\n"
   ]
  },
  {
   "cell_type": "markdown",
   "metadata": {},
   "source": [
    "### Estimates with a conversion factor of 1"
   ]
  },
  {
   "cell_type": "code",
   "execution_count": null,
   "metadata": {},
   "outputs": [],
   "source": [
    "f13_1 = estimateDeathsByAgeMexico(Mexico, dates,subReportFactor=1)\n"
   ]
  },
  {
   "cell_type": "markdown",
   "metadata": {},
   "source": [
    "### Estimates with a conversion factor of 10"
   ]
  },
  {
   "cell_type": "code",
   "execution_count": null,
   "metadata": {},
   "outputs": [],
   "source": [
    "f13_10 = estimateDeathsByAgeMexico(Mexico, dates,subReportFactor=10)\n"
   ]
  },
  {
   "cell_type": "markdown",
   "metadata": {},
   "source": [
    "### Estimates with a conversion factor of 12"
   ]
  },
  {
   "cell_type": "code",
   "execution_count": null,
   "metadata": {},
   "outputs": [],
   "source": [
    "f13_12 = estimateDeathsByAgeMexico(Mexico, dates,subReportFactor=12)\n"
   ]
  },
  {
   "cell_type": "code",
   "execution_count": null,
   "metadata": {},
   "outputs": [],
   "source": []
  }
 ],
 "metadata": {
  "celltoolbar": "Raw Cell Format",
  "kernelspec": {
   "display_name": "Python 3",
   "language": "python",
   "name": "python3"
  },
  "language_info": {
   "codemirror_mode": {
    "name": "ipython",
    "version": 2
   },
   "file_extension": ".py",
   "mimetype": "text/x-python",
   "name": "python",
   "nbconvert_exporter": "python",
   "pygments_lexer": "ipython2",
   "version": "2.7.16"
  }
 },
 "nbformat": 4,
 "nbformat_minor": 4
}
