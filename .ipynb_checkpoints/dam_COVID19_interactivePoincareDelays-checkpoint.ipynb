{
 "cells": [
  {
   "cell_type": "code",
   "execution_count": 6,
   "metadata": {},
   "outputs": [
    {
     "ename": "ImportError",
     "evalue": "No module named plotly.graph_objects",
     "output_type": "error",
     "traceback": [
      "\u001b[0;31m---------------------------------------------------------------------------\u001b[0m",
      "\u001b[0;31mImportError\u001b[0m                               Traceback (most recent call last)",
      "\u001b[0;32m<ipython-input-6-6025a8d3d889>\u001b[0m in \u001b[0;36m<module>\u001b[0;34m()\u001b[0m\n\u001b[0;32m----> 1\u001b[0;31m \u001b[0;32mimport\u001b[0m \u001b[0mplotly\u001b[0m\u001b[0;34m.\u001b[0m\u001b[0mgraph_objects\u001b[0m \u001b[0;32mas\u001b[0m \u001b[0mgo\u001b[0m\u001b[0;34m\u001b[0m\u001b[0m\n\u001b[0m\u001b[1;32m      2\u001b[0m \u001b[0;32mfrom\u001b[0m \u001b[0mipywidgets\u001b[0m \u001b[0;32mimport\u001b[0m \u001b[0mwidgets\u001b[0m\u001b[0;34m\u001b[0m\u001b[0m\n\u001b[1;32m      3\u001b[0m \u001b[0;32mimport\u001b[0m \u001b[0msys\u001b[0m\u001b[0;34m\u001b[0m\u001b[0m\n\u001b[1;32m      4\u001b[0m \u001b[0msys\u001b[0m\u001b[0;34m.\u001b[0m\u001b[0mpath\u001b[0m\u001b[0;34m.\u001b[0m\u001b[0minsert\u001b[0m\u001b[0;34m(\u001b[0m\u001b[0;36m1\u001b[0m\u001b[0;34m,\u001b[0m \u001b[0;34m'../'\u001b[0m\u001b[0;34m)\u001b[0m\u001b[0;34m\u001b[0m\u001b[0m\n\u001b[1;32m      5\u001b[0m \u001b[0;32mfrom\u001b[0m \u001b[0mdam_COVID19_baseCode\u001b[0m \u001b[0;32mimport\u001b[0m \u001b[0;34m*\u001b[0m\u001b[0;34m\u001b[0m\u001b[0m\n",
      "\u001b[0;31mImportError\u001b[0m: No module named plotly.graph_objects"
     ]
    }
   ],
   "source": [
    "import plotly.graph_objects as go\n",
    "from ipywidgets import widgets\n",
    "import sys\n",
    "sys.path.insert(1, '../')\n",
    "from dam_COVID19_baseCode import *\n",
    "%matplotlib inline \n"
   ]
  },
  {
   "cell_type": "code",
   "execution_count": 2,
   "metadata": {},
   "outputs": [],
   "source": [
    "cases, deathCases,recovCases = getCSSEGISandData(urlData=1)"
   ]
  },
  {
   "cell_type": "code",
   "execution_count": 3,
   "metadata": {},
   "outputs": [
    {
     "name": "stdout",
     "output_type": "stream",
     "text": [
      "Got data from 93 days between 1/22/20 and 4/23/20\n",
      "Considering data from 185 countries\n"
     ]
    }
   ],
   "source": [
    "# ------------------------------\n",
    "# Description of the data so that the headers and the columns\n",
    "# without case data are distinguished\n",
    "# ------------------------------\n",
    "nRows,nCols=cases.shape\n",
    "cases.head(10)\n",
    "nHeaderRows=1;\n",
    "#\n",
    "nHeaderCols=3\n",
    "# how to generate date lists from a baseline using the datetime\n",
    "dates = cases.columns[4:]\n",
    "nDays = len(dates)\n",
    "print('Got data from %d days between %s and %s'%(nDays,dates[0],dates[-1]))\n",
    "# -------------------\n",
    "npCases = cases.to_numpy()\n",
    "countries = np.unique(npCases[:,1])\n",
    "nCountries = len(countries)\n",
    "print('Considering data from {d} countries'.format(d=nCountries))"
   ]
  },
  {
   "cell_type": "code",
   "execution_count": 4,
   "metadata": {},
   "outputs": [
    {
     "name": "stdout",
     "output_type": "stream",
     "text": [
      "('Afghanistan', 33, 60, 54, 'rank: 36th')\n",
      "('Albania', 47, 49, 59, 'rank: 171th')\n",
      "('Algeria', 34, 50, 50, 'rank: 165th')\n",
      "('Andorra', 40, 60, 50, 'rank: 163th')\n",
      "('Angola', 58, 67, 69, 'rank: 86th')\n",
      "('Antigua and Barbuda', 51, 76, 83, 'rank: 90th')\n",
      "('Argentina', 41, 46, 52, 'rank: 179th')\n",
      "('Armenia', 39, 64, 55, 'rank: 150th')\n",
      "('Australia', 4, 39, 8, 'rank: 61th')\n",
      "('Austria', 34, 50, 47, 'rank: 119th')\n",
      "('Azerbaijan', 39, 51, 49, 'rank: 105th')\n",
      "('Bahamas', 54, 70, 62, 'rank: 32th')\n",
      "('Bahrain', 33, 54, 44, 'rank: 8th')\n",
      "('Bangladesh', 46, 56, 54, 'rank: 65th')\n",
      "('Barbados', 55, 74, 74, 'rank: 30th')\n",
      "('Belarus', 37, 69, 47, 'rank: 157th')\n",
      "('Belgium', 13, 49, 26, 'rank: 60th')\n",
      "('Belize', 61, 75, 88, 'rank: 174th')\n",
      "('Benin', 54, 75, 69, 'rank: 78th')\n",
      "('Bhutan', 44, 92, 71, 'rank: 133th')\n",
      "('Bolivia', 49, 67, 70, 'rank: 160th')\n",
      "('Bosnia and Herzegovina', 43, 59, 55, 'rank: 84th')\n",
      "('Botswana', 68, 69, 92, 'rank: 175th')\n",
      "('Brazil', 35, 55, 54, 'rank: 138th')\n",
      "('Brunei', 47, 66, 58, 'rank: 156th')\n",
      "('Bulgaria', 46, 49, 59, 'rank: 16th')\n",
      "('Burkina Faso', 48, 56, 59, 'rank: 47th')\n",
      "('Burma', 65, 69, 78, 'rank: 52th')\n",
      "('Burundi', 69, 82, 89, 'rank: 80th')\n",
      "('Cabo Verde', 58, 62, 75, 'rank: 83th')\n",
      "('Cambodia', 5, 92, 21, 'rank: 96th')\n",
      "('Cameroon', 44, 63, 63, 'rank: 81th')\n",
      "('Canada', 4, 47, 21, 'rank: 127th')\n",
      "('Central African Republic', 53, 92, 82, 'rank: 0th')\n",
      "('Chad', 57, 92, 76, 'rank: 92th')\n",
      "('Chile', 41, 60, 58, 'rank: 12th')\n",
      "('China', 0, 0, 0, 'rank: 9th')\n"
     ]
    }
   ],
   "source": [
    "# -------------------\n",
    "# Gather same country data\n",
    "# -------------------\n",
    "gCases, countries_Cases= sortDataByCountry(cases, nHeaderCols)\n",
    "gDeaths,countries_DeathCases = sortDataByCountry(deathCases, nHeaderCols)\n",
    "gRecovCases,countries_RecovCases = sortDataByCountry(recovCases, nHeaderCols)\n",
    "\n",
    "# -------------------\n",
    "# Sum the counts from each country and construct a new array\n",
    "# -------------------\n",
    "# These arrays have the same size as the countries array (unique countries)\n",
    "totCases=gatherDataByCountry(df=cases,nHeaderCols=4)\n",
    "totDeathCases=gatherDataByCountry(df=deathCases,nHeaderCols=4)\n",
    "totRecovCases=gatherDataByCountry(df=recovCases,nHeaderCols=4)\n",
    "# -------------------\n",
    "# Describe the order of appearance of cases\n",
    "# -------------------\n",
    "dFC=findFirstCaseDates(totCases)\n",
    "dFD=findFirstCaseDates(totDeathCases)\n",
    "dFR=findFirstCaseDates(totRecovCases)\n",
    "iArrival = dFC.argsort()\n",
    "for n in range(37):\n",
    "    print(countries[n],dFC[n],dFD[n],dFR[n],'rank: %dth'%iArrival[n])\n",
    " \n",
    "d0SortedCountries = countries[iArrival]\n",
    "sdFC = dFC[iArrival]\n",
    "sdFD = dFD[iArrival]\n",
    "sdFR = dFR[iArrival]"
   ]
  },
  {
   "cell_type": "code",
   "execution_count": 5,
   "metadata": {},
   "outputs": [],
   "source": [
    "nCountriesFCByDate= list()\n",
    "nCountriesFDByDate= list()\n",
    "nCountriesFRByDate= list()\n",
    "for m in range(nDays):\n",
    "    # Find the indices of those who reported their first case on day m\n",
    "    nCountriesFCByDate.append(len(np.where(dFC==m)[0])) \n",
    "    # Find the indices of those who reported their first death on day m\n",
    "    nCountriesFDByDate.append(len(np.where(dFD==m)[0])) \n",
    "    nCountriesFRByDate.append(len(np.where(dFR==m)[0])) \n",
    "nCountriesFCByDate = np.array(nCountriesFCByDate)\n",
    "nCountriesFDByDate = np.array(nCountriesFDByDate)\n",
    "nCountriesFRByDate = np.array(nCountriesFRByDate)\n",
    "cumC=nCountriesFCByDate.cumsum()\n",
    "cumD=nCountriesFDByDate.cumsum()\n",
    "cumR=nCountriesFRByDate.cumsum()"
   ]
  },
  {
   "cell_type": "code",
   "execution_count": null,
   "metadata": {},
   "outputs": [],
   "source": [
    "\n",
    "delayedD = cumD[mm:]\n",
    "delayedR = cumR[MM:]\n",
    "adjustedCD = cumC[:-mm] \n",
    "adjustedCR = cumC[:-MM]\n",
    "print(len(delayedD),len(adjustedCD), len(delayedR),len(adjustedCR))\n",
    "\n"
   ]
  }
 ],
 "metadata": {
  "kernelspec": {
   "display_name": "Python 3",
   "language": "python",
   "name": "python3"
  },
  "language_info": {
   "codemirror_mode": {
    "name": "ipython",
    "version": 2
   },
   "file_extension": ".py",
   "mimetype": "text/x-python",
   "name": "python",
   "nbconvert_exporter": "python",
   "pygments_lexer": "ipython2",
   "version": "2.7.16"
  }
 },
 "nbformat": 4,
 "nbformat_minor": 2
}
