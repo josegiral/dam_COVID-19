{
 "cells": [
  {
   "cell_type": "markdown",
   "metadata": {},
   "source": [
    "## Analysis of pandemic dynamics assuming SIR-like evolution\n",
    "### Carlos Ignacio Herrera-Nolasco$^{1}$, Marco Arieli Herrera-Valdez$^{1}$\n",
    "#### $^{1}$ Laboratorio de Fisiología de Sistemas, Facultad de Ciencias, UNAM\n",
    "\n",
    "\n",
    "### Epidemic dynamics \n",
    "\n",
    "Assume that the population is divided in three subsets representing the non-infected and susceptible, the infected, and those that can no-longer participate in the chain of infections due to immunity or death. \n",
    "Let the densities of those subpopulations be represented by $x$, $y$, and $z$ respectively, with $1=x+y+z$. As a consequence,  $\\partial_t x = -\\partial_t y - \\partial_t z$. Let  $\\alpha$ represent the infection rate given an infectious contact, and $\\tau$ the average waiting time until an individual is no longer infected. The dynamics for $y$ can be written as \n",
    "\\begin{equation}\n",
    "\\partial_t y = \\alpha y \\bigg( 1- z - y \\bigg) - \\beta y,\n",
    "\\end{equation}\n",
    "and the evolution for $z$ is then\n",
    "\\begin{equation}\n",
    "\\partial_t z = \\beta y\n",
    "\\end{equation}\n",
    "\n",
    "The incidence of cases is the number of new infected. From the equation for the change in $y$, the incidence is given by  $$f(y,z;\\alpha) =\\alpha y \\bigg( 1- z - y \\bigg),$$ which means that the incidence in the SIR model is a cuadratic function of the prevalence, but it also depends on $z$, the density of no-longer infected people. Since $z$ is an increasing function, then the graph of the incidence can be thought of as a curve in 3D space with quadratic shape. \n",
    "\n",
    "\n",
    "#### Parameters for modeling \n",
    "If $\\gamma$ is the rate of removal by recovery and acquisition of immunity and $\\delta$ is the fatality rate due to infection, we can try to obtain the parameters for the model from the data. To do so, consider the equation for $z$ to obtain,\n",
    "\\begin{equation}\\beta = \\frac{\\partial_t z}{y},\\end{equation} \n",
    "and also \n",
    "\\begin{equation}\\alpha = \\frac{\\partial_t y + \\partial_t z}{y \\bigg( 1 -z - y  \\bigg)}. \\end{equation} \n",
    "The problem is then to link the data to the variables $y$ and $z$."
   ]
  },
  {
   "cell_type": "markdown",
   "metadata": {},
   "source": [
    "### Linking the data to the modeling variables \n",
    "\n",
    "If $h$ is the time step for sampling, let $Y_{n}$ represent the number of cases at time $t=nh$. Note that $Y_n$ may be thought of in terms of the density of cases $y_n$. Explicitly, $y_n = Y_n/T $ here $T$ is the size of the local population.  From data, the cumulative number of cases at step $nh$ can be written as \n",
    "$$C_{n} = \\sum_{k=0}^{n} Y_k$$\n",
    "which means that the number of new cases (incidence) at time nh is \n",
    "$$Y_n = C_n - C_{n-1}.$$\n",
    "The cumulative recoveries and deaths are \n",
    "$$Z_n = R_{n}+D_{n}.$$\n",
    "The incidence is then \n",
    "$$C_n - R_n - D_n$$\n",
    "\n",
    "#### Parameters for modeling \n",
    "We can try to obtain the parameters for the model from the data by approximated by substitution of the discrete differences \n",
    "$$\n",
    "\\partial_t y \\approx \\frac{u(t+h)-u(t)}{h},  \\quad u \\in \\left\\{Y,Z \\right\\}\n",
    "$$\n",
    "The parameters $\\alpha$ and $\\beta$ can then be estimated from the data. \n"
   ]
  },
  {
   "cell_type": "code",
   "execution_count": 4,
   "metadata": {},
   "outputs": [
    {
     "name": "stdout",
     "output_type": "stream",
     "text": [
      "['', './', './', './', '../', '/usr/local/Cellar/python@2/2.7.16/Frameworks/Python.framework/Versions/2.7/lib/python27.zip', '/usr/local/Cellar/python@2/2.7.16/Frameworks/Python.framework/Versions/2.7/lib/python2.7', '/usr/local/Cellar/python@2/2.7.16/Frameworks/Python.framework/Versions/2.7/lib/python2.7/plat-darwin', '/usr/local/Cellar/python@2/2.7.16/Frameworks/Python.framework/Versions/2.7/lib/python2.7/plat-mac', '/usr/local/Cellar/python@2/2.7.16/Frameworks/Python.framework/Versions/2.7/lib/python2.7/plat-mac/lib-scriptpackages', '/usr/local/Cellar/python@2/2.7.16/Frameworks/Python.framework/Versions/2.7/lib/python2.7/lib-tk', '/usr/local/Cellar/python@2/2.7.16/Frameworks/Python.framework/Versions/2.7/lib/python2.7/lib-old', '/usr/local/Cellar/python@2/2.7.16/Frameworks/Python.framework/Versions/2.7/lib/python2.7/lib-dynload', '/usr/local/lib/python2.7/site-packages', '/usr/local/lib/python2.7/site-packages/IPython/extensions', '/Users/curandero/.ipython']\n"
     ]
    },
    {
     "ename": "ImportError",
     "evalue": "No module named dam_COVID19_baseCode",
     "output_type": "error",
     "traceback": [
      "\u001b[0;31m---------------------------------------------------------------------------\u001b[0m",
      "\u001b[0;31mImportError\u001b[0m                               Traceback (most recent call last)",
      "\u001b[0;32m<ipython-input-4-a23137af0c34>\u001b[0m in \u001b[0;36m<module>\u001b[0;34m()\u001b[0m\n\u001b[1;32m      2\u001b[0m \u001b[0msys\u001b[0m\u001b[0;34m.\u001b[0m\u001b[0mpath\u001b[0m\u001b[0;34m.\u001b[0m\u001b[0minsert\u001b[0m\u001b[0;34m(\u001b[0m\u001b[0;36m1\u001b[0m\u001b[0;34m,\u001b[0m \u001b[0;34m'./'\u001b[0m\u001b[0;34m)\u001b[0m\u001b[0;34m\u001b[0m\u001b[0m\n\u001b[1;32m      3\u001b[0m \u001b[0;32mprint\u001b[0m\u001b[0;34m(\u001b[0m\u001b[0msys\u001b[0m\u001b[0;34m.\u001b[0m\u001b[0mpath\u001b[0m\u001b[0;34m)\u001b[0m\u001b[0;34m\u001b[0m\u001b[0m\n\u001b[0;32m----> 4\u001b[0;31m \u001b[0;32mfrom\u001b[0m \u001b[0mdam_COVID19_baseCode\u001b[0m \u001b[0;32mimport\u001b[0m \u001b[0;34m*\u001b[0m\u001b[0;34m\u001b[0m\u001b[0m\n\u001b[0m\u001b[1;32m      5\u001b[0m \u001b[0;32mimport\u001b[0m \u001b[0mmatplotlib\u001b[0m\u001b[0;34m.\u001b[0m\u001b[0mpylab\u001b[0m \u001b[0;32mas\u001b[0m \u001b[0mgr\u001b[0m\u001b[0;34m\u001b[0m\u001b[0m\n\u001b[1;32m      6\u001b[0m \u001b[0msmall\u001b[0m\u001b[0;34m=\u001b[0m\u001b[0;34m{\u001b[0m\u001b[0;34m'family'\u001b[0m \u001b[0;34m:\u001b[0m \u001b[0;34m'normal'\u001b[0m\u001b[0;34m,\u001b[0m\u001b[0;34m'weight'\u001b[0m \u001b[0;34m:\u001b[0m \u001b[0;34m'normal'\u001b[0m\u001b[0;34m,\u001b[0m\u001b[0;34m'size'\u001b[0m   \u001b[0;34m:\u001b[0m \u001b[0;36m8\u001b[0m\u001b[0;34m}\u001b[0m\u001b[0;34m\u001b[0m\u001b[0m\n",
      "\u001b[0;31mImportError\u001b[0m: No module named dam_COVID19_baseCode"
     ]
    }
   ],
   "source": [
    "#import sys\n",
    "#sys.path.insert(1, './')\n",
    "#print(sys.path)\n",
    "from dam_COVID19_baseCode import *\n",
    "import matplotlib.pylab as gr\n",
    "small={'family' : 'normal','weight' : 'normal','size'   : 8}\n",
    "medium={'family' : 'normal','weight' : 'normal','size'   : 10}\n",
    "large={'family' : 'normal','weight' : 'bold','size'   : 13}\n",
    "gr.rc('font', size=small['size'], weight='normal')          # controls default text sizes\n",
    "gr.rc('axes', titlesize=medium['size'])     # fontsize of the axes title\n",
    "gr.rc('axes', labelsize=medium['size'])    # fontsize of the x and y labels\n",
    "gr.rc('xtick', labelsize=small['size'])    # fontsize of the tick labels\n",
    "gr.rc('ytick', labelsize=small['size'])    # fontsize of the tick labels\n",
    "gr.rc('legend', fontsize=small['size'])    # legend fontsize\n",
    "gr.rc('figure', titlesize=large['size'])  # fontsize of the figure title\n",
    "%matplotlib inline "
   ]
  },
  {
   "cell_type": "code",
   "execution_count": null,
   "metadata": {},
   "outputs": [],
   "source": [
    "cases, deathCases,recovCases = getCSSEGISandData(urlData=1)"
   ]
  },
  {
   "cell_type": "code",
   "execution_count": null,
   "metadata": {},
   "outputs": [],
   "source": [
    "cases.head(10)"
   ]
  },
  {
   "cell_type": "code",
   "execution_count": null,
   "metadata": {},
   "outputs": [],
   "source": [
    "# ------------------------------\n",
    "# Description of the data so that the headers and the columns\n",
    "# without case data are distinguished\n",
    "# ------------------------------\n",
    "nRows,nCols=cases.shape\n",
    "cases.head(10)\n",
    "nHeaderRows=1;\n",
    "#\n",
    "nHeaderCols=3\n",
    "# how to generate date lists from a baseline using the datetime\n",
    "dates = cases.columns[4:]\n",
    "nDays = len(dates)\n",
    "days = np.arange(nDays)\n",
    "print('Got data from %d days between %s and %s'%(nDays,dates[0],dates[-1]))\n",
    "# -------------------\n",
    "print(\"\"\"\"\"\")\n",
    "# -------------------\n",
    "npCases = cases.to_numpy()\n",
    "countries = np.unique(npCases[:,1])\n",
    "nCountries = len(countries)\n",
    "print('Considering data from {d} countries'.format(d=nCountries))\n",
    "# -------------------\n",
    "# Sum the counts from each country and construct a new array\n",
    "# -------------------\n",
    "# These arrays have the same size as the countries array (unique countries)\n",
    "totCases=gatherDataByCountry(df=cases,nHeaderCols=4)\n",
    "totDeathCases=gatherDataByCountry(df=deathCases,nHeaderCols=4)\n",
    "totRecovCases=gatherDataByCountry(df=recovCases,nHeaderCols=4)\n",
    "# Save all into a dictionary\n",
    "G = {'cCases':totCases,'cDeaths':totDeathCases,'cRecovs':totRecovCases,'countries':countries}\n",
    "# -------------------\n",
    "# Search regions to illustrate the case-fatality ratios\n",
    "# -------------------\n",
    "Pops_Millions = {'Algeria':43851044, 'Argentina':45195774,'Australia':25499884,'Belgica':11433256,\n",
    "                 'Brazil':212559417, \n",
    "                 'Canada':37742154, 'China':1439323776, 'Colombia':50882891,'Egypt':102334404,\n",
    "                 'France':67886011,'Germany':83783942, 'Japan':126476461,'Korea, South':51269185,\n",
    "                 'Indonesia':273523615, 'Iran':83992949,'Israel':8655535,'Italy':60461826,\n",
    "                 'Mexico':128932753, 'Niger':24206644, 'Singapore':5850342, \n",
    "                 'South Africa':59308690,'Spain':46754778,\n",
    "                 'United Kingdom':67886011, 'US':331002651, 'Venezuela':28870195}"
   ]
  },
  {
   "cell_type": "code",
   "execution_count": null,
   "metadata": {},
   "outputs": [],
   "source": [
    "print(type(totCases))\n",
    "print(totCases.shape)"
   ]
  },
  {
   "cell_type": "markdown",
   "metadata": {},
   "source": [
    "#### Parabola describing the incidence as a function of the cases"
   ]
  },
  {
   "cell_type": "code",
   "execution_count": null,
   "metadata": {},
   "outputs": [],
   "source": [
    "def getSingleCountryData(G, cou):\n",
    "    cInd = np.where(G['countries']==cou)[0][0]\n",
    "    cases= np.float64(G['cCases'][cInd,:])\n",
    "    recovs= np.float64(G['cRecovs'][cInd,:])\n",
    "    deaths= np.float64(G['cDeaths'][cInd,:])\n",
    "    print(deaths.shape)\n",
    "    if cases.shape\n",
    "    country= {'cCases':cases,'cDeaths':deaths,'cRecovs':recovs}\n",
    "    return country\n",
    "    \n",
    "def dataSIR_Country(country):\n",
    "    # Prevalence time series\n",
    "    y = G['cCases'] - G['cRecovs'] - G['cDeaths'] # The time series of cumulative cases without cumulative recovs \n",
    "    # \"Prevalence\" of deaths and recoveries \n",
    "    z = G['cRecovs'] + G['cDeaths']\n",
    "    dy=np.zeros(len(z)); dy[1:]= y[1:]-y[:1]\n",
    "    dz=np.zeros(len(z)); dz[1:]= z[1:]-z[:1]\n",
    "    incidence = dy-dz\n",
    "    country.update({'r':z,'dy':dy,'newr':dz,'preval':y,'incid':incidence})\n",
    "    return country\n"
   ]
  },
  {
   "cell_type": "code",
   "execution_count": null,
   "metadata": {},
   "outputs": [],
   "source": [
    "Italy= getSingleCountryData(G, cou='Italy')\n",
    "Italy=dataSIR_Country(G)"
   ]
  },
  {
   "cell_type": "code",
   "execution_count": null,
   "metadata": {},
   "outputs": [],
   "source": [
    "\n",
    "\n",
    "def gammaDelta_Estimate(y, dz):\n",
    "    return (dz/y)\n",
    "\n",
    "def betaEstimate(y,z,dy, dz):\n",
    "    return (dy+dz)/((1-z-y)*y)\n",
    "\n",
    "def dataIncidence(dy,dz):\n",
    "    # Incidence \n",
    "    inc = dy - dz\n",
    "    \n",
    "def incidenceSIR(y,z,a):\n",
    "    # Incidence \n",
    "    fy = a*y*(1-z-y) \n",
    "    return \n",
    "    \n",
    "def plotDataPhasePortraits(y,z,dy,dz):\n",
    "    ff =gr.figure(figsize=(17,5)); gr.ioff(); rows=1; cols=3\n",
    "    ax1= ff.add_subplot(rows,cols,1); tax1= ax1.twinx()\n",
    "    ax2= ff.add_subplot(rows,cols,2); \n",
    "    ax3= ff.add_subplot(rows,cols,3); \n",
    "    ax1.plot(days, y,'o',markeredgecolor='blue', markerfacecolor='white',label=r'$y_k$')\n",
    "    #ax1.plot(days, tCases,'.',label=r'$(k,C_k)$')\n",
    "    tax1.plot(days, beta/gammaDelta,'.',label=r'$\\beta/\\gamma$')\n",
    "    ax1.plot(days, tDeaths,'.',label=r'$D_k$')\n",
    "    ax1.plot(days, tRecovs,'.',label=r'$R_k$')\n",
    "    ax1.plot(days, z,'.',label=r'$z_k=D_k + R_k$')\n",
    "    ax2.plot(dy,y,'o',markeredgecolor='blue', markerfacecolor='white',label=r'$(y_k - y_{k-1}, y)$')\n",
    "    ax2.plot(fy,y,'.',color='orange',label=r'$(a (b-z-y)y,y)$')\n",
    "    ax3.plot(1-z-y,y,'.',label=r'$(1-z-y, y)$')\n",
    "    ax2.plot([0,0],[0,y.max()],'k:')\n",
    "    ax1.set_ylim(0,1.1* y.max())\n",
    "    ax2.set_ylim(0,1.1* y.max())    \n",
    "    ax2.set_xlim(dy.min(),1.3*dy.max())\n",
    "    ax1.set_xlabel(r'$t$ (days)');ax2.set_xlabel(r'$y_k - y_{k-1}$')\n",
    "    ax1.set_ylabel(r'$y_k$');ax2.set_ylabel(r'$y_k$')\n",
    "    ax2.legend(loc='lower right'); ax3.legend(loc='upper right'); \n",
    "    ax1.legend(loc='center left'); tax1.legend(loc='upper left')\n",
    "    gr.ion(); gr.draw()\n",
    "    fN= 'figures_COVID19_dataAnalysis/dam_COVID19_JHU_phasePlane_%s.png'%cou\n",
    "    ff.suptitle('Phase plane, %s'%cou)\n",
    "    ff.subplots_adjust(left=0.075,bottom=0.075,right=0.9,top=0.92,wspace=0.2,hspace=0.25)\n",
    "    ff.savefig(fN)\n",
    "    print('Saving file to %s'%fN)\n",
    "    return ff"
   ]
  },
  {
   "cell_type": "markdown",
   "metadata": {},
   "source": [
    "Examples of phase plane dynamics"
   ]
  },
  {
   "cell_type": "code",
   "execution_count": null,
   "metadata": {},
   "outputs": [],
   "source": [
    "Italy= getSingleCountryData(G, cou='Italy')"
   ]
  },
  {
   "cell_type": "code",
   "execution_count": null,
   "metadata": {},
   "outputs": [],
   "source": [
    "\n",
    "y,z, dy,dz= data(cumInfected=totCases, cumRemoved=totRecovCases+totDeathCases, popSize=Pops_Millions, cou='Italy')\n",
    "ff = plotDataPhasePortraits(y,z,dy,dz)\n",
    "inciData= dataIncidence(dy,dz)\n",
    "inciSIR = incidenceSIR(y,z,a)"
   ]
  },
  {
   "cell_type": "code",
   "execution_count": null,
   "metadata": {},
   "outputs": [],
   "source": [
    "y,z, dy,dz,beta,gammaDelta,ff=casePhasePlane(cou='Spain',b=0.002,a=110)"
   ]
  },
  {
   "cell_type": "code",
   "execution_count": null,
   "metadata": {},
   "outputs": [],
   "source": [
    "y,z, dy,dz,beta,gammaDelta,ff=casePhasePlane(cou='US',a=0.0023,b=70)"
   ]
  },
  {
   "cell_type": "code",
   "execution_count": null,
   "metadata": {},
   "outputs": [],
   "source": [
    "#y,z, dy,dz,beta,gammaDelta,ff=casePhasePlane(cou='Italy',a=0.00175,b=90)\n",
    "y,z, dy,dz,beta,gammaDelta,ff=casePhasePlane(cou='China',a=0.00004,b=6000)\n",
    "#print((1-y-z)*beta/gammaDelta )\n"
   ]
  },
  {
   "cell_type": "code",
   "execution_count": null,
   "metadata": {},
   "outputs": [],
   "source": [
    "y,z, dy,dz,beta,gammaDelta,ff=casePhasePlane(cou='Mexico',a=0.00006,b=4000)"
   ]
  },
  {
   "cell_type": "code",
   "execution_count": null,
   "metadata": {},
   "outputs": [],
   "source": []
  },
  {
   "cell_type": "code",
   "execution_count": null,
   "metadata": {},
   "outputs": [],
   "source": []
  }
 ],
 "metadata": {
  "kernelspec": {
   "display_name": "Python 3",
   "language": "python",
   "name": "python3"
  },
  "language_info": {
   "codemirror_mode": {
    "name": "ipython",
    "version": 2
   },
   "file_extension": ".py",
   "mimetype": "text/x-python",
   "name": "python",
   "nbconvert_exporter": "python",
   "pygments_lexer": "ipython2",
   "version": "2.7.16"
  }
 },
 "nbformat": 4,
 "nbformat_minor": 2
}
