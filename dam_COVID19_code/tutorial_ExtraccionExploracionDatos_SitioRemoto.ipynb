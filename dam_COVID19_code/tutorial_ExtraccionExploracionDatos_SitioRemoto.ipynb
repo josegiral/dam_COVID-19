{
 "cells": [
  {
   "cell_type": "markdown",
   "metadata": {},
   "source": [
    "# Apertura de archivos con datos con pandas y exploración inicial\n",
    "## Marco Arieli Herrera-Valdez$^1$\n",
    "### $^1$Facultad de Ciencias, UNAM\n",
    "\n",
    "\n",
    "\n",
    "##### Financiado por DGAPA-UNAM, PAPIME PE114919"
   ]
  },
  {
   "cell_type": "markdown",
   "metadata": {},
   "source": [
    "Primero importemos el módulo [pandas](https://pandas.pydata.org) (para ver tutorial haz click [aquí](https://pandas.pydata.org/pandas-docs/stable/getting_started/10min.html))"
   ]
  },
  {
   "cell_type": "code",
   "execution_count": 1,
   "metadata": {},
   "outputs": [],
   "source": [
    "import pandas as pd\n",
    "import numpy as np"
   ]
  },
  {
   "cell_type": "markdown",
   "metadata": {},
   "source": [
    "Para abrir archivos csv del internet es posible utilizar el comando read_csv del módulo pandas de python. Para ello, necesitamos tener la dirección del servidor donde están los archivos. Por ejemplo, para los archivos de casos sobre la pandemia de COVID-19 del sitio de CSSEGISandData,"
   ]
  },
  {
   "cell_type": "code",
   "execution_count": 2,
   "metadata": {},
   "outputs": [
    {
     "name": "stdout",
     "output_type": "stream",
     "text": [
      "Datos de casos extraidos desde https://raw.githubusercontent.com/CSSEGISandData/COVID-19/master/csse_covid_19_data/csse_covid_19_time_series/time_series_covid19_confirmed_global.csv\n"
     ]
    }
   ],
   "source": [
    "# Los nombres de los archivos y del sitio de internet deben escribirse en variables de tipo <cadenas de caracteres>\n",
    "sitio='https://raw.githubusercontent.com/CSSEGISandData/COVID-19/master/csse_covid_19_data/csse_covid_19_time_series/'\n",
    "archCasos='time_series_covid19_confirmed_global.csv'\n",
    "\n",
    "print('Datos de casos extraidos desde %s'%(sitio+archCasos))"
   ]
  },
  {
   "cell_type": "markdown",
   "metadata": {},
   "source": [
    "Para extraer los archivos csv a un cuadro de datos en pandas, es necesario saber el tipo de codificación de los caracteres y si están comprimidos, el tipo de compresión. Un cuadro de datos es un objeto (definición de objeto en python [aquí](https://docs.python.org/3/tutorial/classes.html)) en python cuyos datos son la información del archivo csv, y los métodos son funciones u otras secuencias de operaciones que se pueden realizar sobre los datos.  \n",
    "\n",
    "Por ejemplo, "
   ]
  },
  {
   "cell_type": "code",
   "execution_count": 3,
   "metadata": {},
   "outputs": [],
   "source": [
    "data=pd.read_csv(sitio+archCasos, compression=None,encoding='latin-1')"
   ]
  },
  {
   "cell_type": "markdown",
   "metadata": {},
   "source": [
    "En la medida de lo posible, siempre es conveniente construir funciones para poder llevar a cabo procesos que pudiera interesarnos repetir. En este caso, una función para abrir archivos con pandas con la que podemos repetir el proceso de apertura para varios archivos. Por ejemplo, "
   ]
  },
  {
   "cell_type": "code",
   "execution_count": 4,
   "metadata": {},
   "outputs": [],
   "source": [
    "def openCSV_DB(path, comp='zip',enc='latin-1'):\n",
    "    data=pd.read_csv(path, compression=comp,encoding=enc)\n",
    "    print('Data obtained from %s'%path)\n",
    "    return data"
   ]
  },
  {
   "cell_type": "markdown",
   "metadata": {},
   "source": [
    "Si queremos abrir otros tres archivos, podemos usar la función openCSV_DB. "
   ]
  },
  {
   "cell_type": "code",
   "execution_count": 5,
   "metadata": {},
   "outputs": [
    {
     "name": "stdout",
     "output_type": "stream",
     "text": [
      "Data obtained from https://raw.githubusercontent.com/CSSEGISandData/COVID-19/master/csse_covid_19_data/csse_covid_19_time_series/time_series_covid19_confirmed_global.csv\n",
      "Data obtained from https://raw.githubusercontent.com/CSSEGISandData/COVID-19/master/csse_covid_19_data/csse_covid_19_time_series/time_series_covid19_recovered_global.csv\n",
      "Data obtained from https://raw.githubusercontent.com/CSSEGISandData/COVID-19/master/csse_covid_19_data/csse_covid_19_time_series/time_series_covid19_deaths_global.csv\n"
     ]
    }
   ],
   "source": [
    "archFatal='time_series_covid19_deaths_global.csv'\n",
    "archRecov='time_series_covid19_recovered_global.csv'\n",
    "compr=None; codif='latin-1'\n",
    "cases = openCSV_DB(sitio+archCasos,compr,codif)\n",
    "# Los argumentos de una función pueden aparecer en orden distinto al orden en que fueron introducidos\n",
    "recovs= openCSV_DB(enc=codif,path=sitio+archRecov,comp=compr)\n",
    "# Usando los valores para los argumentos que están previamente especificados\n",
    "deaths= openCSV_DB(path=sitio+archFatal,comp=compr)"
   ]
  },
  {
   "cell_type": "markdown",
   "metadata": {},
   "source": [
    "Si los archivos no están comprimidos, "
   ]
  },
  {
   "cell_type": "code",
   "execution_count": 6,
   "metadata": {},
   "outputs": [
    {
     "name": "stdout",
     "output_type": "stream",
     "text": [
      "Data obtained from http://187.191.75.115/gobmx/salud/datos_abiertos/datos_abiertos_covid19.zip\n"
     ]
    }
   ],
   "source": [
    "sitioCOVID19Mexico='http://187.191.75.115/gobmx/salud/datos_abiertos/'\n",
    "archCOVID19Mexico = 'datos_abiertos_covid19.zip'\n",
    "datosMexico = openCSV_DB(sitioCOVID19Mexico+archCOVID19Mexico,enc='latin-1',comp='zip')"
   ]
  },
  {
   "cell_type": "markdown",
   "metadata": {},
   "source": [
    "### Exploración de los datos\n",
    "\n",
    "Para ver tutorial de pandas haz click [aquí](https://pandas.pydata.org/pandas-docs/stable/getting_started/10min.html).\n",
    "\n",
    "Para ver en general el principio y el final del cuadro de datos, se usan los métodos head y tail. "
   ]
  },
  {
   "cell_type": "code",
   "execution_count": 7,
   "metadata": {},
   "outputs": [
    {
     "data": {
      "text/html": [
       "<div>\n",
       "<style scoped>\n",
       "    .dataframe tbody tr th:only-of-type {\n",
       "        vertical-align: middle;\n",
       "    }\n",
       "\n",
       "    .dataframe tbody tr th {\n",
       "        vertical-align: top;\n",
       "    }\n",
       "\n",
       "    .dataframe thead th {\n",
       "        text-align: right;\n",
       "    }\n",
       "</style>\n",
       "<table border=\"1\" class=\"dataframe\">\n",
       "  <thead>\n",
       "    <tr style=\"text-align: right;\">\n",
       "      <th></th>\n",
       "      <th>FECHA_ACTUALIZACION</th>\n",
       "      <th>ID_REGISTRO</th>\n",
       "      <th>ORIGEN</th>\n",
       "      <th>SECTOR</th>\n",
       "      <th>ENTIDAD_UM</th>\n",
       "      <th>SEXO</th>\n",
       "      <th>ENTIDAD_NAC</th>\n",
       "      <th>ENTIDAD_RES</th>\n",
       "      <th>MUNICIPIO_RES</th>\n",
       "      <th>TIPO_PACIENTE</th>\n",
       "      <th>...</th>\n",
       "      <th>CARDIOVASCULAR</th>\n",
       "      <th>OBESIDAD</th>\n",
       "      <th>RENAL_CRONICA</th>\n",
       "      <th>TABAQUISMO</th>\n",
       "      <th>OTRO_CASO</th>\n",
       "      <th>RESULTADO</th>\n",
       "      <th>MIGRANTE</th>\n",
       "      <th>PAIS_NACIONALIDAD</th>\n",
       "      <th>PAIS_ORIGEN</th>\n",
       "      <th>UCI</th>\n",
       "    </tr>\n",
       "  </thead>\n",
       "  <tbody>\n",
       "    <tr>\n",
       "      <th>0</th>\n",
       "      <td>2020-05-06</td>\n",
       "      <td>z166d5</td>\n",
       "      <td>1</td>\n",
       "      <td>12</td>\n",
       "      <td>1</td>\n",
       "      <td>1</td>\n",
       "      <td>1</td>\n",
       "      <td>1</td>\n",
       "      <td>1</td>\n",
       "      <td>2</td>\n",
       "      <td>...</td>\n",
       "      <td>2</td>\n",
       "      <td>2</td>\n",
       "      <td>2</td>\n",
       "      <td>2</td>\n",
       "      <td>2</td>\n",
       "      <td>1</td>\n",
       "      <td>99</td>\n",
       "      <td>MÃ©xico</td>\n",
       "      <td>99</td>\n",
       "      <td>2</td>\n",
       "    </tr>\n",
       "    <tr>\n",
       "      <th>1</th>\n",
       "      <td>2020-05-06</td>\n",
       "      <td>0a34f3</td>\n",
       "      <td>1</td>\n",
       "      <td>4</td>\n",
       "      <td>32</td>\n",
       "      <td>2</td>\n",
       "      <td>32</td>\n",
       "      <td>32</td>\n",
       "      <td>17</td>\n",
       "      <td>2</td>\n",
       "      <td>...</td>\n",
       "      <td>2</td>\n",
       "      <td>1</td>\n",
       "      <td>2</td>\n",
       "      <td>2</td>\n",
       "      <td>99</td>\n",
       "      <td>1</td>\n",
       "      <td>99</td>\n",
       "      <td>MÃ©xico</td>\n",
       "      <td>99</td>\n",
       "      <td>2</td>\n",
       "    </tr>\n",
       "    <tr>\n",
       "      <th>2</th>\n",
       "      <td>2020-05-06</td>\n",
       "      <td>029c12</td>\n",
       "      <td>1</td>\n",
       "      <td>4</td>\n",
       "      <td>21</td>\n",
       "      <td>1</td>\n",
       "      <td>21</td>\n",
       "      <td>21</td>\n",
       "      <td>156</td>\n",
       "      <td>1</td>\n",
       "      <td>...</td>\n",
       "      <td>2</td>\n",
       "      <td>2</td>\n",
       "      <td>2</td>\n",
       "      <td>1</td>\n",
       "      <td>99</td>\n",
       "      <td>2</td>\n",
       "      <td>99</td>\n",
       "      <td>MÃ©xico</td>\n",
       "      <td>99</td>\n",
       "      <td>97</td>\n",
       "    </tr>\n",
       "    <tr>\n",
       "      <th>3</th>\n",
       "      <td>2020-05-06</td>\n",
       "      <td>002579</td>\n",
       "      <td>1</td>\n",
       "      <td>4</td>\n",
       "      <td>3</td>\n",
       "      <td>1</td>\n",
       "      <td>3</td>\n",
       "      <td>3</td>\n",
       "      <td>3</td>\n",
       "      <td>2</td>\n",
       "      <td>...</td>\n",
       "      <td>2</td>\n",
       "      <td>2</td>\n",
       "      <td>2</td>\n",
       "      <td>2</td>\n",
       "      <td>99</td>\n",
       "      <td>2</td>\n",
       "      <td>99</td>\n",
       "      <td>MÃ©xico</td>\n",
       "      <td>99</td>\n",
       "      <td>2</td>\n",
       "    </tr>\n",
       "  </tbody>\n",
       "</table>\n",
       "<p>4 rows × 35 columns</p>\n",
       "</div>"
      ],
      "text/plain": [
       "  FECHA_ACTUALIZACION ID_REGISTRO  ORIGEN  SECTOR  ENTIDAD_UM  SEXO  \\\n",
       "0          2020-05-06      z166d5       1      12           1     1   \n",
       "1          2020-05-06      0a34f3       1       4          32     2   \n",
       "2          2020-05-06      029c12       1       4          21     1   \n",
       "3          2020-05-06      002579       1       4           3     1   \n",
       "\n",
       "   ENTIDAD_NAC  ENTIDAD_RES  MUNICIPIO_RES  TIPO_PACIENTE  ... CARDIOVASCULAR  \\\n",
       "0            1            1              1              2  ...              2   \n",
       "1           32           32             17              2  ...              2   \n",
       "2           21           21            156              1  ...              2   \n",
       "3            3            3              3              2  ...              2   \n",
       "\n",
       "  OBESIDAD RENAL_CRONICA  TABAQUISMO  OTRO_CASO  RESULTADO  MIGRANTE  \\\n",
       "0        2             2           2          2          1        99   \n",
       "1        1             2           2         99          1        99   \n",
       "2        2             2           1         99          2        99   \n",
       "3        2             2           2         99          2        99   \n",
       "\n",
       "   PAIS_NACIONALIDAD  PAIS_ORIGEN  UCI  \n",
       "0            MÃ©xico           99    2  \n",
       "1            MÃ©xico           99    2  \n",
       "2            MÃ©xico           99   97  \n",
       "3            MÃ©xico           99    2  \n",
       "\n",
       "[4 rows x 35 columns]"
      ]
     },
     "execution_count": 7,
     "metadata": {},
     "output_type": "execute_result"
    }
   ],
   "source": [
    "datosMexico.head(4)"
   ]
  },
  {
   "cell_type": "markdown",
   "metadata": {},
   "source": [
    "En el caso de los datos de la Secretaría de Salud de México, es necesario tiener otros archivos CSV con las claves para algunas de las columnas de datos. Para ver sólo algunos datos de una columna en específico (los registros 11-20), hay que especificar el nombre de la columna y los índices que corresponden a las filas que deseamos ver. En este caso,"
   ]
  },
  {
   "cell_type": "code",
   "execution_count": 8,
   "metadata": {},
   "outputs": [
    {
     "data": {
      "text/plain": [
       "10     5\n",
       "11     2\n",
       "12    21\n",
       "13    26\n",
       "14    14\n",
       "15    26\n",
       "16    19\n",
       "17     5\n",
       "18    24\n",
       "Name: ENTIDAD_UM, dtype: int64"
      ]
     },
     "execution_count": 8,
     "metadata": {},
     "output_type": "execute_result"
    }
   ],
   "source": [
    "datosMexico['ENTIDAD_UM'][10:19]"
   ]
  },
  {
   "cell_type": "markdown",
   "metadata": {},
   "source": [
    "El sitio donde están los archivos se llama [diccionario de datos](http://187.191.75.115/gobmx/salud/datos_abiertos/diccionario_datos_covid19.zip). \n",
    "Al bajarlos podemos darnos cuenta de en un zip con archivos xls ['diccionario_datos_covid19/Catalogos_0412.xlsx', 'diccionario_datos_covid19/Descriptores_0419.xlsx']. Además de ser varios archivos, cada archivo en excel tiene varias hojas de cálculo, por lo que primero hay que identificar cada hoja, y después abrirlas por separado. En este caso es más conveniente tener los archivos en un directorio local, y abrirlos de ahi. A diferencia de los archivos con series de tiempo que se van actualizando, esos archivos no deberían cambiar mucho con el tiempo. Los archivos en este caso son guardados en un directorio local llamado [dataBases](./dataBases)."
   ]
  },
  {
   "cell_type": "code",
   "execution_count": 28,
   "metadata": {},
   "outputs": [
    {
     "name": "stdout",
     "output_type": "stream",
     "text": [
      "Catálogo ORIGEN\n",
      "Catálogo SECTOR\n",
      "Catálogo SEXO\n",
      "Catálogo TIPO_PACIENTE\n",
      "Catálogo SI_NO\n",
      "Catálogo NACIONALIDAD\n",
      "Catálogo RESULTADO\n",
      "Catálogo de ENTIDADES\n",
      "Catálogo MUNICIPIOS\n"
     ]
    }
   ],
   "source": [
    "import xlrd #rutaDicc= 'diccionario_datos_covid19.zip'\n",
    "direc = './dataBases/diccionario_datos_covid19/'\n",
    "archCatalogos= 'Catalogos_0412.xlsx'\n",
    "archDescriptores= 'Descriptores_0419.xlsx'\n",
    "\n",
    "cataXLS = pd.ExcelFile(direc+archCatalogos)\n",
    "catalogos=dict()\n",
    "for sn in cataXLS.sheet_names:  # see all sheet names\n",
    "    print(sn)\n",
    "    catalogos[sn]= pd.read_excel(direc+archCatalogos,sheet_name=sn)\n",
    "\n",
    "\n",
    "\n",
    "\n",
    "descriptores=pd.read_excel(direc+archDescriptores)\n"
   ]
  },
  {
   "cell_type": "markdown",
   "metadata": {},
   "source": [
    "Para ver sólo uno de los catálogos, por ejemplo, el de ENTIDADES, "
   ]
  },
  {
   "cell_type": "code",
   "execution_count": 30,
   "metadata": {},
   "outputs": [
    {
     "name": "stdout",
     "output_type": "stream",
     "text": [
      "    CLAVE_ENTIDAD               ENTIDAD_FEDERATIVA ABREVIATURA\n",
      "0               1                   AGUASCALIENTES          AS\n",
      "1               2                  BAJA CALIFORNIA          BC\n",
      "2               3              BAJA CALIFORNIA SUR          BS\n",
      "3               4                         CAMPECHE          CC\n",
      "4               5             COAHUILA DE ZARAGOZA          CL\n",
      "5               6                           COLIMA          CM\n",
      "6               7                          CHIAPAS          CS\n",
      "7               8                        CHIHUAHUA          CH\n",
      "8               9                 CIUDAD DE MÉXICO          DF\n",
      "9              10                          DURANGO          DG\n",
      "10             11                       GUANAJUATO          GT\n",
      "11             12                         GUERRERO          GR\n",
      "12             13                          HIDALGO          HG\n",
      "13             14                          JALISCO          JC\n",
      "14             15                           MÉXICO          MC\n",
      "15             16              MICHOACÁN DE OCAMPO          MN\n",
      "16             17                          MORELOS          MS\n",
      "17             18                          NAYARIT          NT\n",
      "18             19                       NUEVO LEÓN          NL\n",
      "19             20                           OAXACA          OC\n",
      "20             21                           PUEBLA          PL\n",
      "21             22                        QUERÉTARO          QT\n",
      "22             23                     QUINTANA ROO          QR\n",
      "23             24                  SAN LUIS POTOSÍ          SP\n",
      "24             25                          SINALOA          SL\n",
      "25             26                           SONORA          SR\n",
      "26             27                          TABASCO          TC\n",
      "27             28                       TAMAULIPAS          TS\n",
      "28             29                         TLAXCALA          TL\n",
      "29             30  VERACRUZ DE IGNACIO DE LA LLAVE          VZ\n",
      "30             31                          YUCATÁN          YN\n",
      "31             32                        ZACATECAS          ZS\n",
      "32             36         ESTADOS UNIDOS MEXICANOS         EUM\n",
      "33             97                        NO APLICA         NaN\n",
      "34             98                        SE IGNORA          SI\n",
      "35             99                  NO ESPECIFICADO          NE\n"
     ]
    }
   ],
   "source": [
    "print(catalogos['Catálogo de ENTIDADES'])"
   ]
  },
  {
   "cell_type": "code",
   "execution_count": 33,
   "metadata": {},
   "outputs": [
    {
     "name": "stdout",
     "output_type": "stream",
     "text": [
      "      CLAVE_MUNICIPIO        MUNICIPIO  CLAVE_ENTIDAD\n",
      "0                   1   AGUASCALIENTES              1\n",
      "1                   2         ASIENTOS              1\n",
      "2                   3         CALVILLO              1\n",
      "3                   4            COSÍO              1\n",
      "4                   5      JESÚS MARÍA              1\n",
      "...               ...              ...            ...\n",
      "2496              999  NO ESPECIFICADO             32\n",
      "2497              999  NO ESPECIFICADO             36\n",
      "2498              997        NO APLICA             97\n",
      "2499              998        SE IGNORA             98\n",
      "2500              999  NO ESPECIFICADO             99\n",
      "\n",
      "[2501 rows x 3 columns]\n"
     ]
    }
   ],
   "source": [
    "print(catalogos['Catálogo MUNICIPIOS'])"
   ]
  },
  {
   "cell_type": "code",
   "execution_count": 10,
   "metadata": {},
   "outputs": [
    {
     "data": {
      "text/html": [
       "<div>\n",
       "<style scoped>\n",
       "    .dataframe tbody tr th:only-of-type {\n",
       "        vertical-align: middle;\n",
       "    }\n",
       "\n",
       "    .dataframe tbody tr th {\n",
       "        vertical-align: top;\n",
       "    }\n",
       "\n",
       "    .dataframe thead th {\n",
       "        text-align: right;\n",
       "    }\n",
       "</style>\n",
       "<table border=\"1\" class=\"dataframe\">\n",
       "  <thead>\n",
       "    <tr style=\"text-align: right;\">\n",
       "      <th></th>\n",
       "      <th>Province/State</th>\n",
       "      <th>Country/Region</th>\n",
       "      <th>Lat</th>\n",
       "      <th>Long</th>\n",
       "      <th>1/22/20</th>\n",
       "      <th>1/23/20</th>\n",
       "      <th>1/24/20</th>\n",
       "      <th>1/25/20</th>\n",
       "      <th>1/26/20</th>\n",
       "      <th>1/27/20</th>\n",
       "      <th>...</th>\n",
       "      <th>4/27/20</th>\n",
       "      <th>4/28/20</th>\n",
       "      <th>4/29/20</th>\n",
       "      <th>4/30/20</th>\n",
       "      <th>5/1/20</th>\n",
       "      <th>5/2/20</th>\n",
       "      <th>5/3/20</th>\n",
       "      <th>5/4/20</th>\n",
       "      <th>5/5/20</th>\n",
       "      <th>5/6/20</th>\n",
       "    </tr>\n",
       "  </thead>\n",
       "  <tbody>\n",
       "    <tr>\n",
       "      <th>263</th>\n",
       "      <td>NaN</td>\n",
       "      <td>Yemen</td>\n",
       "      <td>15.552727</td>\n",
       "      <td>48.516388</td>\n",
       "      <td>0</td>\n",
       "      <td>0</td>\n",
       "      <td>0</td>\n",
       "      <td>0</td>\n",
       "      <td>0</td>\n",
       "      <td>0</td>\n",
       "      <td>...</td>\n",
       "      <td>1</td>\n",
       "      <td>1</td>\n",
       "      <td>6</td>\n",
       "      <td>6</td>\n",
       "      <td>7</td>\n",
       "      <td>10</td>\n",
       "      <td>10</td>\n",
       "      <td>12</td>\n",
       "      <td>22</td>\n",
       "      <td>25</td>\n",
       "    </tr>\n",
       "    <tr>\n",
       "      <th>264</th>\n",
       "      <td>NaN</td>\n",
       "      <td>Comoros</td>\n",
       "      <td>-11.645500</td>\n",
       "      <td>43.333300</td>\n",
       "      <td>0</td>\n",
       "      <td>0</td>\n",
       "      <td>0</td>\n",
       "      <td>0</td>\n",
       "      <td>0</td>\n",
       "      <td>0</td>\n",
       "      <td>...</td>\n",
       "      <td>0</td>\n",
       "      <td>0</td>\n",
       "      <td>0</td>\n",
       "      <td>1</td>\n",
       "      <td>1</td>\n",
       "      <td>3</td>\n",
       "      <td>3</td>\n",
       "      <td>3</td>\n",
       "      <td>3</td>\n",
       "      <td>8</td>\n",
       "    </tr>\n",
       "    <tr>\n",
       "      <th>265</th>\n",
       "      <td>NaN</td>\n",
       "      <td>Tajikistan</td>\n",
       "      <td>38.861034</td>\n",
       "      <td>71.276093</td>\n",
       "      <td>0</td>\n",
       "      <td>0</td>\n",
       "      <td>0</td>\n",
       "      <td>0</td>\n",
       "      <td>0</td>\n",
       "      <td>0</td>\n",
       "      <td>...</td>\n",
       "      <td>0</td>\n",
       "      <td>0</td>\n",
       "      <td>0</td>\n",
       "      <td>15</td>\n",
       "      <td>15</td>\n",
       "      <td>76</td>\n",
       "      <td>128</td>\n",
       "      <td>230</td>\n",
       "      <td>293</td>\n",
       "      <td>379</td>\n",
       "    </tr>\n",
       "  </tbody>\n",
       "</table>\n",
       "<p>3 rows × 110 columns</p>\n",
       "</div>"
      ],
      "text/plain": [
       "    Province/State Country/Region        Lat       Long  1/22/20  1/23/20  \\\n",
       "263            NaN          Yemen  15.552727  48.516388        0        0   \n",
       "264            NaN        Comoros -11.645500  43.333300        0        0   \n",
       "265            NaN     Tajikistan  38.861034  71.276093        0        0   \n",
       "\n",
       "     1/24/20  1/25/20  1/26/20  1/27/20  ...  4/27/20  4/28/20  4/29/20  \\\n",
       "263        0        0        0        0  ...        1        1        6   \n",
       "264        0        0        0        0  ...        0        0        0   \n",
       "265        0        0        0        0  ...        0        0        0   \n",
       "\n",
       "     4/30/20  5/1/20  5/2/20  5/3/20  5/4/20  5/5/20  5/6/20  \n",
       "263        6       7      10      10      12      22      25  \n",
       "264        1       1       3       3       3       3       8  \n",
       "265       15      15      76     128     230     293     379  \n",
       "\n",
       "[3 rows x 110 columns]"
      ]
     },
     "execution_count": 10,
     "metadata": {},
     "output_type": "execute_result"
    }
   ],
   "source": [
    "cases.tail(3)"
   ]
  },
  {
   "cell_type": "markdown",
   "metadata": {},
   "source": [
    "En los cuadros de datos de pandas los renglones están asociados al método <index> y las columnas al método <columns>. Para las filas"
   ]
  },
  {
   "cell_type": "code",
   "execution_count": 9,
   "metadata": {},
   "outputs": [
    {
     "data": {
      "text/plain": [
       "RangeIndex(start=0, stop=110994, step=1)"
      ]
     },
     "execution_count": 9,
     "metadata": {},
     "output_type": "execute_result"
    }
   ],
   "source": [
    "datosMexico.index"
   ]
  },
  {
   "cell_type": "markdown",
   "metadata": {},
   "source": [
    "que indica que las filas son números enteros entre 0 y 110994. Para las columnas será útil guardar los nombres en una lista. Explícitamente,"
   ]
  },
  {
   "cell_type": "code",
   "execution_count": null,
   "metadata": {},
   "outputs": [],
   "source": [
    "colsDatosMexico=datosMexico.columns\n",
    "print(colsDatosMexico)"
   ]
  },
  {
   "cell_type": "markdown",
   "metadata": {},
   "source": [
    "Entonces, para ver los datos que corresponden a la Ciudad de México, hay que seleccionar la columna correspondiente del catálogo de Entidades."
   ]
  },
  {
   "cell_type": "code",
   "execution_count": null,
   "metadata": {},
   "outputs": [],
   "source": []
  },
  {
   "cell_type": "markdown",
   "metadata": {},
   "source": [
    "### Visualización de los datos\n",
    "\n",
    "Los datos se pueden graficar de varias formas. Una manera es usar [bokeh](https://docs.bokeh.org) (para ver tutorial haz click [aquí](https://docs.bokeh.org/en/0.10.0/docs/user_guide/setup.html))"
   ]
  },
  {
   "cell_type": "code",
   "execution_count": null,
   "metadata": {},
   "outputs": [],
   "source": [
    "from bokeh.plotting import figure, output_file, output_notebook, show\n",
    "output_file(\"test.html\")\n",
    "p = figure()\n",
    "p.line(cases[], line_width=2)\n",
    "show(p)"
   ]
  },
  {
   "cell_type": "code",
   "execution_count": null,
   "metadata": {},
   "outputs": [],
   "source": []
  }
 ],
 "metadata": {
  "kernelspec": {
   "display_name": "Python 3",
   "language": "python",
   "name": "python3"
  },
  "language_info": {
   "codemirror_mode": {
    "name": "ipython",
    "version": 3
   },
   "file_extension": ".py",
   "mimetype": "text/x-python",
   "name": "python",
   "nbconvert_exporter": "python",
   "pygments_lexer": "ipython3",
   "version": "3.8.1"
  }
 },
 "nbformat": 4,
 "nbformat_minor": 2
}
