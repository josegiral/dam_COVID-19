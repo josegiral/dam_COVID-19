{
 "cells": [
  {
   "cell_type": "markdown",
   "metadata": {},
   "source": [
    "# Initial mortality and recovery in reported cases of COVID-19 a few weeks into the pandemic\n",
    "\n",
    "## Carlos Ignacio Herrera-Nolasco$^1$, Alejandro Joel Herrera-McKiernan$^2$, \n",
    "## Emilio Arieli Herrera-McKiernan$^3$, Eugenia O'Reilly-Regueiro$^4$,\n",
    "## Marco Arieli Herrera-Valdez$^1$\n",
    "\n",
    "#### $^1$ Departamento de Matemáticas, Facultad de Ciencias, Universidad Nacional Autónoma de México\n",
    "#### $^2$ Escuela Primaria República de Guatemala, Secretaría de Educación Pública, México\n",
    "#### $^3$ Escuela Secundaria Vicente Guerrero, Secretaría de Educación Pública, México\n",
    "#### $^4$ Instituto de Matemáticas, Facultad de Ciencias, Universidad Nacional Autónoma de México\n",
    "\n",
    "Last modified: MAHV, 20200506\n",
    "\n",
    "### Abstract\n",
    "The time series of cases, recoveries, and deaths during a pandemic are usually contaminated by different problems including under report,  and delays that in many cases can be justified by late reactions by government agencies. \n",
    "However, it should be possible to find general characteristics, and also important differences between the dynamics observed in different countries. Both could be important macroscopic markers to understand the global dynamics as a function of the local (country) dynamics of the disease caused by the pandemic pathogen. \n",
    "In an attempt to extract general information from the global dynamics of COVID-19 cases, we analyzed the time series of cases, recoveries, and deaths reported up until April 24, 2020, and focused on delays between different types of reports, with special attention to the relationships between cases and fatalities.\n",
    "The first countries to report cases also reported fatalities within short or no delay. However, as more countries reported cases, consistent delay patterns showing a relatively constant delay between cases and recoveres, and between cases and fatalities within cases.  We also found a consistent contribution to of the case fatalities by age in countries like China, South Korea, and Italy, which have different health care systems, different mitigation capacities, and different population structures. We also examine the long term behaviour of the whole country CFR calculated from the time series of cases and deaths, both cumulative and from incidence, taking possible deaths-cases delays  between 0 and 30 days. The global data shows a strong indication of an asymptotic convergence toward a small interval of values in the delayed quotients, both cumulative and from incidence, in most countries that have at least 6 weeks reporting cases. For single countries, the values of the CFRs with delays between 0 and 30 days  for the last few days show an increasing trend as a function of the delay, but still between 0.05 and 0.3 for most countries with enough reports. Although the converging trend will not be clear until more data is available, the trend  shows that CFRs calculated by simply dividing deaths by cases without taking delays into account from macroscopic time series are not as incorrect as some reports indicate, at least with respect to delay, and without taking other biases like under-reporting into account.  \n",
    "\n",
    "\n",
    "### Methods and data sources\n",
    "\n",
    "The data was downloaded from the repository for the 2019 Novel Coronavirus Visual Dashboard operated by the Johns Hopkins University Center for Systems Science and Engineering (JHU CSSE) (https://github.com/CSSEGISandData/COVID-19). All calculations were performed using Python version 3.82 (https://www.python.org/) and the modules numpy (https://numpy.org/), matplotlib (https://matplotlib.org/), and pandas (https://pandas.pydata.org/). A JuPyTeR notebook with the analysis and calculations performed here can be found at (https://scab-unam.github.io/dam_COVID-19/).\n",
    "\n"
   ]
  },
  {
   "cell_type": "markdown",
   "metadata": {},
   "source": [
    "Module imports (all basic functions and other module specs can be found in [dam_COVID19_baseCode.py](dam_COVID19_baseCode.py)"
   ]
  },
  {
   "cell_type": "code",
   "execution_count": 14,
   "metadata": {},
   "outputs": [],
   "source": [
    "import sys\n",
    "sys.path.insert(1, '../')\n",
    "from dam_COVID19_baseCode import *\n",
    "import matplotlib.pylab as gr\n",
    "small={'family' : 'normal','weight' : 'normal','size'   : 8}\n",
    "medium={'family' : 'normal','weight' : 'normal','size'   : 10}\n",
    "large={'family' : 'normal','weight' : 'bold','size'   : 13}\n",
    "gr.rc('font', size=small['size'], weight='normal')          # controls default text sizes\n",
    "gr.rc('axes', titlesize=medium['size'])     # fontsize of the axes title\n",
    "gr.rc('axes', labelsize=medium['size'])    # fontsize of the x and y labels\n",
    "gr.rc('xtick', labelsize=small['size'])    # fontsize of the tick labels\n",
    "gr.rc('ytick', labelsize=small['size'])    # fontsize of the tick labels\n",
    "gr.rc('legend', fontsize=small['size'])    # legend fontsize\n",
    "gr.rc('figure', titlesize=large['size'])  # fontsize of the figure title\n",
    "%matplotlib inline \n"
   ]
  },
  {
   "cell_type": "code",
   "execution_count": 15,
   "metadata": {},
   "outputs": [
    {
     "name": "stdout",
     "output_type": "stream",
     "text": [
      "Data obtained from https://raw.githubusercontent.com/CSSEGISandData/COVID-19/master/csse_covid_19_data/csse_covid_19_time_series/time_series_covid19_confirmed_global.csv\n",
      "Data obtained from https://raw.githubusercontent.com/CSSEGISandData/COVID-19/master/csse_covid_19_data/csse_covid_19_time_series/time_series_covid19_deaths_global.csv\n",
      "Data obtained from https://raw.githubusercontent.com/CSSEGISandData/COVID-19/master/csse_covid_19_data/csse_covid_19_time_series/time_series_covid19_recovered_global.csv\n"
     ]
    }
   ],
   "source": [
    "cases, deathCases,recovCases = getCSSEGISandData(urlData=1)"
   ]
  },
  {
   "cell_type": "markdown",
   "metadata": {},
   "source": [
    "Let us first describe the data set. The data has been transposed so that the cases, deaths, and recovered the different regions of the world are stored in columns, each with the data from different dates starting from January 22, 2020. "
   ]
  },
  {
   "cell_type": "code",
   "execution_count": 16,
   "metadata": {},
   "outputs": [
    {
     "data": {
      "text/html": [
       "<div>\n",
       "<style scoped>\n",
       "    .dataframe tbody tr th:only-of-type {\n",
       "        vertical-align: middle;\n",
       "    }\n",
       "\n",
       "    .dataframe tbody tr th {\n",
       "        vertical-align: top;\n",
       "    }\n",
       "\n",
       "    .dataframe thead th {\n",
       "        text-align: right;\n",
       "    }\n",
       "</style>\n",
       "<table border=\"1\" class=\"dataframe\">\n",
       "  <thead>\n",
       "    <tr style=\"text-align: right;\">\n",
       "      <th></th>\n",
       "      <th>Province/State</th>\n",
       "      <th>Country/Region</th>\n",
       "      <th>Lat</th>\n",
       "      <th>Long</th>\n",
       "      <th>1/22/20</th>\n",
       "      <th>1/23/20</th>\n",
       "      <th>1/24/20</th>\n",
       "      <th>1/25/20</th>\n",
       "      <th>1/26/20</th>\n",
       "      <th>1/27/20</th>\n",
       "      <th>...</th>\n",
       "      <th>4/28/20</th>\n",
       "      <th>4/29/20</th>\n",
       "      <th>4/30/20</th>\n",
       "      <th>5/1/20</th>\n",
       "      <th>5/2/20</th>\n",
       "      <th>5/3/20</th>\n",
       "      <th>5/4/20</th>\n",
       "      <th>5/5/20</th>\n",
       "      <th>5/6/20</th>\n",
       "      <th>5/7/20</th>\n",
       "    </tr>\n",
       "  </thead>\n",
       "  <tbody>\n",
       "    <tr>\n",
       "      <th>0</th>\n",
       "      <td>NaN</td>\n",
       "      <td>Afghanistan</td>\n",
       "      <td>33.0000</td>\n",
       "      <td>65.0000</td>\n",
       "      <td>0</td>\n",
       "      <td>0</td>\n",
       "      <td>0</td>\n",
       "      <td>0</td>\n",
       "      <td>0</td>\n",
       "      <td>0</td>\n",
       "      <td>...</td>\n",
       "      <td>1828</td>\n",
       "      <td>1939</td>\n",
       "      <td>2171</td>\n",
       "      <td>2335</td>\n",
       "      <td>2469</td>\n",
       "      <td>2704</td>\n",
       "      <td>2894</td>\n",
       "      <td>3224</td>\n",
       "      <td>3392</td>\n",
       "      <td>3563</td>\n",
       "    </tr>\n",
       "    <tr>\n",
       "      <th>1</th>\n",
       "      <td>NaN</td>\n",
       "      <td>Albania</td>\n",
       "      <td>41.1533</td>\n",
       "      <td>20.1683</td>\n",
       "      <td>0</td>\n",
       "      <td>0</td>\n",
       "      <td>0</td>\n",
       "      <td>0</td>\n",
       "      <td>0</td>\n",
       "      <td>0</td>\n",
       "      <td>...</td>\n",
       "      <td>750</td>\n",
       "      <td>766</td>\n",
       "      <td>773</td>\n",
       "      <td>782</td>\n",
       "      <td>789</td>\n",
       "      <td>795</td>\n",
       "      <td>803</td>\n",
       "      <td>820</td>\n",
       "      <td>832</td>\n",
       "      <td>842</td>\n",
       "    </tr>\n",
       "    <tr>\n",
       "      <th>2</th>\n",
       "      <td>NaN</td>\n",
       "      <td>Algeria</td>\n",
       "      <td>28.0339</td>\n",
       "      <td>1.6596</td>\n",
       "      <td>0</td>\n",
       "      <td>0</td>\n",
       "      <td>0</td>\n",
       "      <td>0</td>\n",
       "      <td>0</td>\n",
       "      <td>0</td>\n",
       "      <td>...</td>\n",
       "      <td>3649</td>\n",
       "      <td>3848</td>\n",
       "      <td>4006</td>\n",
       "      <td>4154</td>\n",
       "      <td>4295</td>\n",
       "      <td>4474</td>\n",
       "      <td>4648</td>\n",
       "      <td>4838</td>\n",
       "      <td>4997</td>\n",
       "      <td>5182</td>\n",
       "    </tr>\n",
       "    <tr>\n",
       "      <th>3</th>\n",
       "      <td>NaN</td>\n",
       "      <td>Andorra</td>\n",
       "      <td>42.5063</td>\n",
       "      <td>1.5218</td>\n",
       "      <td>0</td>\n",
       "      <td>0</td>\n",
       "      <td>0</td>\n",
       "      <td>0</td>\n",
       "      <td>0</td>\n",
       "      <td>0</td>\n",
       "      <td>...</td>\n",
       "      <td>743</td>\n",
       "      <td>743</td>\n",
       "      <td>745</td>\n",
       "      <td>745</td>\n",
       "      <td>747</td>\n",
       "      <td>748</td>\n",
       "      <td>750</td>\n",
       "      <td>751</td>\n",
       "      <td>751</td>\n",
       "      <td>752</td>\n",
       "    </tr>\n",
       "    <tr>\n",
       "      <th>4</th>\n",
       "      <td>NaN</td>\n",
       "      <td>Angola</td>\n",
       "      <td>-11.2027</td>\n",
       "      <td>17.8739</td>\n",
       "      <td>0</td>\n",
       "      <td>0</td>\n",
       "      <td>0</td>\n",
       "      <td>0</td>\n",
       "      <td>0</td>\n",
       "      <td>0</td>\n",
       "      <td>...</td>\n",
       "      <td>27</td>\n",
       "      <td>27</td>\n",
       "      <td>27</td>\n",
       "      <td>30</td>\n",
       "      <td>35</td>\n",
       "      <td>35</td>\n",
       "      <td>35</td>\n",
       "      <td>36</td>\n",
       "      <td>36</td>\n",
       "      <td>36</td>\n",
       "    </tr>\n",
       "    <tr>\n",
       "      <th>5</th>\n",
       "      <td>NaN</td>\n",
       "      <td>Antigua and Barbuda</td>\n",
       "      <td>17.0608</td>\n",
       "      <td>-61.7964</td>\n",
       "      <td>0</td>\n",
       "      <td>0</td>\n",
       "      <td>0</td>\n",
       "      <td>0</td>\n",
       "      <td>0</td>\n",
       "      <td>0</td>\n",
       "      <td>...</td>\n",
       "      <td>24</td>\n",
       "      <td>24</td>\n",
       "      <td>24</td>\n",
       "      <td>25</td>\n",
       "      <td>25</td>\n",
       "      <td>25</td>\n",
       "      <td>25</td>\n",
       "      <td>25</td>\n",
       "      <td>25</td>\n",
       "      <td>25</td>\n",
       "    </tr>\n",
       "  </tbody>\n",
       "</table>\n",
       "<p>6 rows × 111 columns</p>\n",
       "</div>"
      ],
      "text/plain": [
       "  Province/State       Country/Region      Lat     Long  1/22/20  1/23/20  \\\n",
       "0            NaN          Afghanistan  33.0000  65.0000        0        0   \n",
       "1            NaN              Albania  41.1533  20.1683        0        0   \n",
       "2            NaN              Algeria  28.0339   1.6596        0        0   \n",
       "3            NaN              Andorra  42.5063   1.5218        0        0   \n",
       "4            NaN               Angola -11.2027  17.8739        0        0   \n",
       "5            NaN  Antigua and Barbuda  17.0608 -61.7964        0        0   \n",
       "\n",
       "   1/24/20  1/25/20  1/26/20  1/27/20  ...  4/28/20  4/29/20  4/30/20  5/1/20  \\\n",
       "0        0        0        0        0  ...     1828     1939     2171    2335   \n",
       "1        0        0        0        0  ...      750      766      773     782   \n",
       "2        0        0        0        0  ...     3649     3848     4006    4154   \n",
       "3        0        0        0        0  ...      743      743      745     745   \n",
       "4        0        0        0        0  ...       27       27       27      30   \n",
       "5        0        0        0        0  ...       24       24       24      25   \n",
       "\n",
       "   5/2/20  5/3/20  5/4/20  5/5/20  5/6/20  5/7/20  \n",
       "0    2469    2704    2894    3224    3392    3563  \n",
       "1     789     795     803     820     832     842  \n",
       "2    4295    4474    4648    4838    4997    5182  \n",
       "3     747     748     750     751     751     752  \n",
       "4      35      35      35      36      36      36  \n",
       "5      25      25      25      25      25      25  \n",
       "\n",
       "[6 rows x 111 columns]"
      ]
     },
     "execution_count": 16,
     "metadata": {},
     "output_type": "execute_result"
    }
   ],
   "source": [
    "cases.head(6)"
   ]
  },
  {
   "cell_type": "code",
   "execution_count": 17,
   "metadata": {},
   "outputs": [
    {
     "data": {
      "text/html": [
       "<div>\n",
       "<style scoped>\n",
       "    .dataframe tbody tr th:only-of-type {\n",
       "        vertical-align: middle;\n",
       "    }\n",
       "\n",
       "    .dataframe tbody tr th {\n",
       "        vertical-align: top;\n",
       "    }\n",
       "\n",
       "    .dataframe thead th {\n",
       "        text-align: right;\n",
       "    }\n",
       "</style>\n",
       "<table border=\"1\" class=\"dataframe\">\n",
       "  <thead>\n",
       "    <tr style=\"text-align: right;\">\n",
       "      <th></th>\n",
       "      <th>Province/State</th>\n",
       "      <th>Country/Region</th>\n",
       "      <th>Lat</th>\n",
       "      <th>Long</th>\n",
       "      <th>1/22/20</th>\n",
       "      <th>1/23/20</th>\n",
       "      <th>1/24/20</th>\n",
       "      <th>1/25/20</th>\n",
       "      <th>1/26/20</th>\n",
       "      <th>1/27/20</th>\n",
       "      <th>...</th>\n",
       "      <th>4/28/20</th>\n",
       "      <th>4/29/20</th>\n",
       "      <th>4/30/20</th>\n",
       "      <th>5/1/20</th>\n",
       "      <th>5/2/20</th>\n",
       "      <th>5/3/20</th>\n",
       "      <th>5/4/20</th>\n",
       "      <th>5/5/20</th>\n",
       "      <th>5/6/20</th>\n",
       "      <th>5/7/20</th>\n",
       "    </tr>\n",
       "  </thead>\n",
       "  <tbody>\n",
       "    <tr>\n",
       "      <th>262</th>\n",
       "      <td>NaN</td>\n",
       "      <td>Sao Tome and Principe</td>\n",
       "      <td>0.186360</td>\n",
       "      <td>6.613081</td>\n",
       "      <td>0</td>\n",
       "      <td>0</td>\n",
       "      <td>0</td>\n",
       "      <td>0</td>\n",
       "      <td>0</td>\n",
       "      <td>0</td>\n",
       "      <td>...</td>\n",
       "      <td>0</td>\n",
       "      <td>0</td>\n",
       "      <td>0</td>\n",
       "      <td>1</td>\n",
       "      <td>1</td>\n",
       "      <td>1</td>\n",
       "      <td>3</td>\n",
       "      <td>3</td>\n",
       "      <td>3</td>\n",
       "      <td>4</td>\n",
       "    </tr>\n",
       "    <tr>\n",
       "      <th>263</th>\n",
       "      <td>NaN</td>\n",
       "      <td>Yemen</td>\n",
       "      <td>15.552727</td>\n",
       "      <td>48.516388</td>\n",
       "      <td>0</td>\n",
       "      <td>0</td>\n",
       "      <td>0</td>\n",
       "      <td>0</td>\n",
       "      <td>0</td>\n",
       "      <td>0</td>\n",
       "      <td>...</td>\n",
       "      <td>0</td>\n",
       "      <td>0</td>\n",
       "      <td>2</td>\n",
       "      <td>2</td>\n",
       "      <td>2</td>\n",
       "      <td>2</td>\n",
       "      <td>2</td>\n",
       "      <td>4</td>\n",
       "      <td>5</td>\n",
       "      <td>5</td>\n",
       "    </tr>\n",
       "    <tr>\n",
       "      <th>264</th>\n",
       "      <td>NaN</td>\n",
       "      <td>Comoros</td>\n",
       "      <td>-11.645500</td>\n",
       "      <td>43.333300</td>\n",
       "      <td>0</td>\n",
       "      <td>0</td>\n",
       "      <td>0</td>\n",
       "      <td>0</td>\n",
       "      <td>0</td>\n",
       "      <td>0</td>\n",
       "      <td>...</td>\n",
       "      <td>0</td>\n",
       "      <td>0</td>\n",
       "      <td>0</td>\n",
       "      <td>0</td>\n",
       "      <td>0</td>\n",
       "      <td>0</td>\n",
       "      <td>0</td>\n",
       "      <td>0</td>\n",
       "      <td>1</td>\n",
       "      <td>1</td>\n",
       "    </tr>\n",
       "    <tr>\n",
       "      <th>265</th>\n",
       "      <td>NaN</td>\n",
       "      <td>Tajikistan</td>\n",
       "      <td>38.861034</td>\n",
       "      <td>71.276093</td>\n",
       "      <td>0</td>\n",
       "      <td>0</td>\n",
       "      <td>0</td>\n",
       "      <td>0</td>\n",
       "      <td>0</td>\n",
       "      <td>0</td>\n",
       "      <td>...</td>\n",
       "      <td>0</td>\n",
       "      <td>0</td>\n",
       "      <td>0</td>\n",
       "      <td>0</td>\n",
       "      <td>2</td>\n",
       "      <td>2</td>\n",
       "      <td>3</td>\n",
       "      <td>5</td>\n",
       "      <td>8</td>\n",
       "      <td>12</td>\n",
       "    </tr>\n",
       "  </tbody>\n",
       "</table>\n",
       "<p>4 rows × 111 columns</p>\n",
       "</div>"
      ],
      "text/plain": [
       "    Province/State         Country/Region        Lat       Long  1/22/20  \\\n",
       "262            NaN  Sao Tome and Principe   0.186360   6.613081        0   \n",
       "263            NaN                  Yemen  15.552727  48.516388        0   \n",
       "264            NaN                Comoros -11.645500  43.333300        0   \n",
       "265            NaN             Tajikistan  38.861034  71.276093        0   \n",
       "\n",
       "     1/23/20  1/24/20  1/25/20  1/26/20  1/27/20  ...  4/28/20  4/29/20  \\\n",
       "262        0        0        0        0        0  ...        0        0   \n",
       "263        0        0        0        0        0  ...        0        0   \n",
       "264        0        0        0        0        0  ...        0        0   \n",
       "265        0        0        0        0        0  ...        0        0   \n",
       "\n",
       "     4/30/20  5/1/20  5/2/20  5/3/20  5/4/20  5/5/20  5/6/20  5/7/20  \n",
       "262        0       1       1       1       3       3       3       4  \n",
       "263        2       2       2       2       2       4       5       5  \n",
       "264        0       0       0       0       0       0       1       1  \n",
       "265        0       0       2       2       3       5       8      12  \n",
       "\n",
       "[4 rows x 111 columns]"
      ]
     },
     "execution_count": 17,
     "metadata": {},
     "output_type": "execute_result"
    }
   ],
   "source": [
    "deathCases.tail(4)"
   ]
  },
  {
   "cell_type": "markdown",
   "metadata": {},
   "source": [
    "This means there are 4 columns before the time series begins, and the data contains 248 regions from the world. The data that can be used for calculations involving the cases in the epidemic can be found from the fifth row on.  Since the dates in the original data have only two numbers for the year, let us create a date range with the dates formatted with a four figures, and use the new dates later for the plots and illustrations."
   ]
  },
  {
   "cell_type": "code",
   "execution_count": 18,
   "metadata": {},
   "outputs": [
    {
     "name": "stdout",
     "output_type": "stream",
     "text": [
      "Got data from 107 days between 1/22/20 and 5/7/20\n"
     ]
    }
   ],
   "source": [
    "# ------------------------------\n",
    "# Description of the data so that the headers and the columns\n",
    "# without case data are distinguished\n",
    "# ------------------------------\n",
    "nRows,nCols=cases.shape\n",
    "cases.head(10)\n",
    "nHeaderRows=1;\n",
    "#\n",
    "nHeaderCols=3\n",
    "# how to generate date lists from a baseline using the datetime\n",
    "dates = cases.columns[4:]\n",
    "nDays = len(dates)\n",
    "print('Got data from %d days between %s and %s'%(nDays,dates[0],dates[-1]))\n"
   ]
  },
  {
   "cell_type": "code",
   "execution_count": 22,
   "metadata": {},
   "outputs": [
    {
     "name": "stdout",
     "output_type": "stream",
     "text": [
      "\n",
      "Considering data from 187 countries\n"
     ]
    }
   ],
   "source": [
    "# -------------------\n",
    "print(\"\"\"\"\"\")\n",
    "# -------------------\n",
    "npCases = cases.to_numpy()\n",
    "countries = np.unique(npCases[:,1]) \n",
    "nCountries = len(countries)\n",
    "print('Considering data from {d} countries'.format(d=nCountries))"
   ]
  },
  {
   "cell_type": "code",
   "execution_count": 20,
   "metadata": {},
   "outputs": [],
   "source": [
    "def findFirstCaseIndices(a):\n",
    "    fIndex = list()\n",
    "    for m in range(len(a)):\n",
    "        i =  np.where(a[m]>0)[0]\n",
    "        if len(i)>0:\n",
    "            ii =i.min()\n",
    "        else:\n",
    "            ii = len(a[m])-1\n",
    "        fIndex.append(ii)\n",
    "    return np.array(fIndex)\n",
    "\n",
    "def gatherDataByCountry(df,nHeaderCols=4):\n",
    "    \"\"\"\n",
    "    Gather data from the same country\n",
    "    \"\"\"\n",
    "    cc = df.iloc[:,1].to_numpy()\n",
    "    countries = np.unique(df.iloc[:,1].to_numpy())\n",
    "    nCountries = len(countries);\n",
    "    x = list()\n",
    "    for n in range(nCountries):\n",
    "        iC= np.where(cc== countries[n])[0]\n",
    "        a =df.iloc[iC,nHeaderCols:].to_numpy()\n",
    "        x.append(a.sum(0))\n",
    "    return np.array(x).transpose()\n"
   ]
  },
  {
   "cell_type": "markdown",
   "metadata": {},
   "source": [
    "Data curation observations.\n",
    "- Some countries report by province. This allows examination of the time series with a better spatial resolution.\n",
    "The countries where there are reports by province are China, United Kingdom, Australia, and Canada.\n",
    "- Arrays that include whole country cases, deaths, and recovered obtained\n",
    "and separated for analysis\n",
    "- Recovered are treated separately because reports do not include as many places as cases or deaths\n",
    "- Case fatality ratios are calculated to analyse the epidemia in different provinces and contrast with whole country estimates\n"
   ]
  },
  {
   "cell_type": "code",
   "execution_count": 21,
   "metadata": {},
   "outputs": [],
   "source": [
    "# -------------------\n",
    "# Gather same country data\n",
    "# -------------------\n",
    "gCases, countries_Cases= sortDataByCountry(cases, nHeaderCols)\n",
    "gDeaths,countries_DeathCases = sortDataByCountry(deathCases, nHeaderCols)\n",
    "gRecovCases,countries_RecovCases = sortDataByCountry(recovCases, nHeaderCols)\n",
    "\n",
    "# -------------------\n",
    "# Sum the counts from each country and construct a new array\n",
    "# -------------------\n",
    "# These arrays have the same size as the countries array (unique countries)\n",
    "totCases=gatherDataByCountry(df=cases,nHeaderCols=4)\n",
    "totDeathCases=gatherDataByCountry(df=deathCases,nHeaderCols=4)\n",
    "totRecovCases=gatherDataByCountry(df=recovCases,nHeaderCols=4)\n"
   ]
  },
  {
   "cell_type": "markdown",
   "metadata": {},
   "source": [
    "## Delays relative to the first case report in different countries\n",
    "\n",
    "To get an idea of the initial the dynamics of the pandemic, we calculated the delays to the first case reports and compare to the first deaths reported by country. "
   ]
  },
  {
   "cell_type": "code",
   "execution_count": 13,
   "metadata": {},
   "outputs": [
    {
     "name": "stdout",
     "output_type": "stream",
     "text": [
      "['Egypt' 'Hungary' 'Honduras' 'Holy See' 'Haiti' 'Guyana' 'Guinea-Bissau'\n",
      " 'Guinea' 'Guatemala' 'Grenada' 'Greece' 'Ghana' 'Germany' 'Georgia'\n",
      " 'Gambia' 'Gabon' 'France' 'Finland' 'Fiji' 'Ethiopia']\n",
      "[0 0 0 0 0 0 0 0 0 0 0 0 0 0 0 0 0 0 0 0]\n",
      "Afghanistan 36 36 36 rank: 53th\n",
      "Albania 36 36 36 rank: 77th\n",
      "Algeria 36 36 36 rank: 76th\n",
      "Andorra 36 36 36 rank: 75th\n",
      "Angola 8 36 36 rank: 74th\n",
      "Antigua and Barbuda 8 36 36 rank: 73th\n",
      "Argentina 8 36 36 rank: 72th\n",
      "Armenia 8 36 36 rank: 71th\n",
      "Australia 8 36 8 rank: 70th\n",
      "Austria 8 36 8 rank: 69th\n",
      "Azerbaijan 8 36 8 rank: 68th\n",
      "Bahamas 8 36 8 rank: 67th\n",
      "Bahrain 8 36 8 rank: 66th\n",
      "Bangladesh 8 36 8 rank: 65th\n",
      "Barbados 8 36 8 rank: 64th\n",
      "Belarus 8 36 8 rank: 63th\n",
      "Belgium 8 36 8 rank: 62th\n",
      "Belize 8 36 8 rank: 61th\n",
      "Benin 8 36 8 rank: 60th\n",
      "Bhutan 8 36 8 rank: 59th\n",
      "Bolivia 8 36 8 rank: 58th\n",
      "Bosnia and Herzegovina 8 36 8 rank: 57th\n",
      "Botswana 8 36 8 rank: 56th\n",
      "Brazil 8 36 8 rank: 55th\n",
      "Brunei 8 36 8 rank: 78th\n",
      "Bulgaria 8 36 8 rank: 54th\n",
      "Burkina Faso 8 36 8 rank: 79th\n",
      "Burma 8 36 8 rank: 81th\n",
      "Burundi 8 36 8 rank: 104th\n",
      "Cabo Verde 8 36 8 rank: 103th\n",
      "Cambodia 8 36 8 rank: 102th\n",
      "Cameroon 8 36 8 rank: 101th\n",
      "Canada 8 36 8 rank: 100th\n",
      "Central African Republic 0 36 8 rank: 99th\n",
      "Chad 0 36 8 rank: 98th\n",
      "Chile 0 36 8 rank: 97th\n",
      "China 0 36 8 rank: 96th\n"
     ]
    }
   ],
   "source": [
    "\n",
    "dFC=findFirstCaseDates(totCases)\n",
    "dFD=findFirstCaseDates(totDeathCases)\n",
    "dFR=findFirstCaseDates(totRecovCases)\n",
    "iArrival = dFC.argsort()\n",
    "print(countries[iArrival[0:20]])\n",
    "print(dFC[iArrival[0:20]])\n",
    "for n in range(37):\n",
    "    print(countries[n],dFC[n],dFD[n],dFR[n],'rank: %dth'%iArrival[n])\n",
    " \n",
    "d0SortedCountries = countries[iArrival]\n",
    "sdFC = dFC[iArrival]\n",
    "sdFD = dFD[iArrival]\n",
    "sdFR = dFR[iArrival]"
   ]
  },
  {
   "cell_type": "code",
   "execution_count": 9,
   "metadata": {},
   "outputs": [
    {
     "name": "stdout",
     "output_type": "stream",
     "text": [
      "%First case, & to first death & to first recovery \\\\\n",
      "\\hline &&&\\\\\n",
      "Egypt & 1/22/20 (0)  & 1/23/20 (1)  & 1/24/20 (2) \\\\\n",
      "Hungary & 1/22/20 (0)  & 1/22/20 (0)  & 1/22/20 (0) \\\\\n",
      "Honduras & 1/22/20 (0)  & 1/22/20 (0)  & 1/22/20 (0) \\\\\n",
      "Holy See & 1/22/20 (0)  & 1/22/20 (0)  & 1/22/20 (0) \\\\\n",
      "Haiti & 1/22/20 (0)  & 1/22/20 (0)  & 1/22/20 (0) \\\\\n",
      "Guyana & 1/22/20 (0)  & 1/22/20 (0)  & 1/22/20 (0) \\\\\n",
      "Guinea-Bissau & 1/22/20 (0)  & 1/22/20 (0)  & 1/22/20 (0) \\\\\n",
      "Guinea & 1/22/20 (0)  & 1/22/20 (0)  & 1/22/20 (0) \\\\\n",
      "Guatemala & 1/22/20 (0)  & 1/22/20 (0)  & 1/22/20 (0) \\\\\n",
      "Grenada & 1/22/20 (0)  & 1/22/20 (0)  & 1/22/20 (0) \\\\\n",
      "Greece & 1/22/20 (0)  & 1/22/20 (0)  & 1/22/20 (0) \\\\\n",
      "Ghana & 1/22/20 (0)  & 1/22/20 (0)  & 1/22/20 (0) \\\\\n",
      "Germany & 1/22/20 (0)  & 1/22/20 (0)  & 1/22/20 (0) \\\\\n",
      "Georgia & 1/22/20 (0)  & 1/22/20 (0)  & 1/22/20 (0) \\\\\n",
      "Gambia & 1/22/20 (0)  & 1/22/20 (0)  & 1/22/20 (0) \\\\\n",
      "Gabon & 1/22/20 (0)  & 1/22/20 (0)  & 1/22/20 (0) \\\\\n",
      "France & 1/22/20 (0)  & 1/22/20 (0)  & 1/22/20 (0) \\\\\n",
      "Finland & 1/22/20 (0)  & 1/22/20 (0)  & 1/22/20 (0) \\\\\n",
      "Fiji & 1/22/20 (0)  & 1/22/20 (0)  & 1/22/20 (0) \\\\\n",
      "Ethiopia & 1/22/20 (0)  & 1/23/20 (1)  & 1/22/20 (0) \\\\\n",
      "Eswatini & 1/22/20 (0)  & 1/23/20 (1)  & 1/22/20 (0) \\\\\n",
      "Estonia & 1/22/20 (0)  & 1/23/20 (1)  & 1/22/20 (0) \\\\\n",
      "Eritrea & 1/22/20 (0)  & 1/23/20 (1)  & 1/22/20 (0) \\\\\n",
      "Equatorial Guinea & 1/22/20 (0)  & 1/23/20 (1)  & 1/22/20 (0) \\\\\n",
      "Iceland & 1/22/20 (0)  & 1/22/20 (0)  & 1/22/20 (0) \\\\\n",
      "El Salvador & 1/22/20 (0)  & 1/23/20 (1)  & 1/22/20 (0) \\\\\n",
      "India & 1/22/20 (0)  & 1/22/20 (0)  & 1/22/20 (0) \\\\\n",
      "Iran & 1/22/20 (0)  & 1/22/20 (0)  & 1/22/20 (0) \\\\\n",
      "Madagascar & 1/22/20 (0)  & 1/22/20 (0)  & 1/22/20 (0) \\\\\n",
      "MS Zaandam & 1/22/20 (0)  & 1/22/20 (0)  & 1/22/20 (0) \\\\\n",
      "Luxembourg & 1/22/20 (0)  & 1/22/20 (0)  & 1/22/20 (0) \\\\\n",
      "Lithuania & 1/22/20 (0)  & 1/22/20 (0)  & 1/22/20 (0) \\\\\n",
      "Liechtenstein & 1/22/20 (0)  & 1/22/20 (0)  & 1/22/20 (0) \\\\\n",
      "Libya & 1/22/20 (0)  & 1/22/20 (0)  & 1/22/20 (0) \\\\\n",
      "Liberia & 1/22/20 (0)  & 1/22/20 (0)  & 1/22/20 (0) \\\\\n",
      "Lebanon & 1/22/20 (0)  & 1/22/20 (0)  & 1/22/20 (0) \\\\\n",
      "Latvia & 1/22/20 (0)  & 1/22/20 (0)  & 1/22/20 (0) \\\\\n",
      "Laos & 1/22/20 (0)  & 1/22/20 (0)  & 1/22/20 (0) \\\\\n",
      "Kyrgyzstan & 1/22/20 (0)  & 1/22/20 (0)  & 1/22/20 (0) \\\\\n",
      "Kuwait & 1/22/20 (0)  & 1/22/20 (0)  & 1/22/20 (0) \\\\\n",
      "Kosovo & 1/22/20 (0)  & 1/22/20 (0)  & 1/22/20 (0) \\\\\n",
      "Korea, South & 1/22/20 (0)  & 1/22/20 (0)  & 1/22/20 (0) \\\\\n",
      "Kenya & 1/22/20 (0)  & 1/22/20 (0)  & 1/22/20 (0) \\\\\n",
      "Kazakhstan & 1/22/20 (0)  & 1/22/20 (0)  & 1/22/20 (0) \\\\\n",
      "Jordan & 1/22/20 (0)  & 1/22/20 (0)  & 1/22/20 (0) \\\\\n",
      "Japan & 1/22/20 (0)  & 1/22/20 (0)  & 1/22/20 (0) \\\\\n",
      "Jamaica & 1/22/20 (0)  & 1/22/20 (0)  & 1/22/20 (0) \\\\\n",
      "Italy & 1/22/20 (0)  & 1/22/20 (0)  & 1/22/20 (0) \\\\\n",
      "Israel & 1/22/20 (0)  & 1/22/20 (0)  & 1/22/20 (0) \\\\\n",
      "Ireland & 1/22/20 (0)  & 1/22/20 (0)  & 1/22/20 (0) \\\\\n",
      "Iraq & 1/22/20 (0)  & 1/22/20 (0)  & 1/22/20 (0) \\\\\n",
      "Indonesia & 1/22/20 (0)  & 1/22/20 (0)  & 1/22/20 (0) \\\\\n",
      "Malawi & 1/22/20 (0)  & 1/22/20 (0)  & 1/22/20 (0) \\\\\n",
      "Malaysia & 1/22/20 (0)  & 1/22/20 (0)  & 1/22/20 (0) \\\\\n",
      "Dominican Republic & 1/22/20 (0)  & 1/23/20 (1)  & 1/24/20 (2) \\\\\n",
      "Ecuador & 1/22/20 (0)  & 1/23/20 (1)  & 1/24/20 (2) \\\\\n",
      "Central African Republic & 1/22/20 (0)  & 2/27/20 (36)  & 1/30/20 (8) \\\\\n",
      "Chad & 1/22/20 (0)  & 2/27/20 (36)  & 1/30/20 (8) \\\\\n",
      "China & 1/22/20 (0)  & 2/27/20 (36)  & 1/30/20 (8) \\\\\n",
      "Colombia & 1/22/20 (0)  & 2/27/20 (36)  & 1/30/20 (8) \\\\\n",
      "Comoros & 1/22/20 (0)  & 2/27/20 (36)  & 1/30/20 (8) \\\\\n",
      "Congo (Brazzaville) & 1/22/20 (0)  & 1/30/20 (8)  & 1/30/20 (8) \\\\\n",
      "Congo (Kinshasa) & 1/22/20 (0)  & 1/30/20 (8)  & 1/30/20 (8) \\\\\n",
      "Costa Rica & 1/22/20 (0)  & 1/30/20 (8)  & 1/30/20 (8) \\\\\n",
      "Chile & 1/22/20 (0)  & 2/27/20 (36)  & 1/30/20 (8) \\\\\n",
      "Croatia & 1/22/20 (0)  & 1/30/20 (8)  & 1/30/20 (8) \\\\\n",
      "Cuba & 1/22/20 (0)  & 1/30/20 (8)  & 1/30/20 (8) \\\\\n",
      "Cyprus & 1/22/20 (0)  & 1/30/20 (8)  & 1/30/20 (8) \\\\\n",
      "Czechia & 1/22/20 (0)  & 1/28/20 (6)  & 1/30/20 (8) \\\\\n",
      "Denmark & 1/22/20 (0)  & 1/28/20 (6)  & 1/30/20 (8) \\\\\n",
      "Diamond Princess & 1/22/20 (0)  & 1/28/20 (6)  & 1/30/20 (8) \\\\\n",
      "Djibouti & 1/22/20 (0)  & 1/23/20 (1)  & 1/30/20 (8) \\\\\n",
      "Cote d'Ivoire & 1/22/20 (0)  & 1/30/20 (8)  & 1/30/20 (8) \\\\\n",
      "Dominica & 1/22/20 (0)  & 1/23/20 (1)  & 1/24/20 (2) \\\\\n",
      "\\hline \n",
      "Belarus & 1/30/20 (8)  & 2/27/20 (28)  & 1/30/20 (0) \\\\\n",
      "Barbados & 1/30/20 (8)  & 2/27/20 (28)  & 1/30/20 (0) \\\\\n",
      "Bangladesh & 1/30/20 (8)  & 2/27/20 (28)  & 1/30/20 (0) \\\\\n",
      "Bahrain & 1/30/20 (8)  & 2/27/20 (28)  & 1/30/20 (0) \\\\\n",
      "Bahamas & 1/30/20 (8)  & 2/27/20 (28)  & 1/30/20 (0) \\\\\n",
      "Armenia & 1/30/20 (8)  & 2/27/20 (28)  & 2/27/20 (28) \\\\\n",
      "Austria & 1/30/20 (8)  & 2/27/20 (28)  & 1/30/20 (0) \\\\\n",
      "Australia & 1/30/20 (8)  & 2/27/20 (28)  & 1/30/20 (0) \\\\\n",
      "Argentina & 1/30/20 (8)  & 2/27/20 (28)  & 2/27/20 (28) \\\\\n",
      "Antigua and Barbuda & 1/30/20 (8)  & 2/27/20 (28)  & 2/27/20 (28) \\\\\n",
      "Angola & 1/30/20 (8)  & 2/27/20 (28)  & 2/27/20 (28) \\\\\n",
      "Belgium & 1/30/20 (8)  & 2/27/20 (28)  & 1/30/20 (0) \\\\\n",
      "Azerbaijan & 1/30/20 (8)  & 2/27/20 (28)  & 1/30/20 (0) \\\\\n",
      "Belize & 1/30/20 (8)  & 2/27/20 (28)  & 1/30/20 (0) \\\\\n",
      "Bulgaria & 1/30/20 (8)  & 2/27/20 (28)  & 1/30/20 (0) \\\\\n",
      "Bhutan & 1/30/20 (8)  & 2/27/20 (28)  & 1/30/20 (0) \\\\\n",
      "Canada & 1/30/20 (8)  & 2/27/20 (28)  & 1/30/20 (0) \\\\\n",
      "Cameroon & 1/30/20 (8)  & 2/27/20 (28)  & 1/30/20 (0) \\\\\n",
      "Cambodia & 1/30/20 (8)  & 2/27/20 (28)  & 1/30/20 (0) \\\\\n",
      "Cabo Verde & 1/30/20 (8)  & 2/27/20 (28)  & 1/30/20 (0) \\\\\n",
      "Benin & 1/30/20 (8)  & 2/27/20 (28)  & 1/30/20 (0) \\\\\n",
      "Burma & 1/30/20 (8)  & 2/27/20 (28)  & 1/30/20 (0) \\\\\n",
      "Burundi & 1/30/20 (8)  & 2/27/20 (28)  & 1/30/20 (0) \\\\\n",
      "Brunei & 1/30/20 (8)  & 2/27/20 (28)  & 1/30/20 (0) \\\\\n",
      "Brazil & 1/30/20 (8)  & 2/27/20 (28)  & 1/30/20 (0) \\\\\n",
      "Botswana & 1/30/20 (8)  & 2/27/20 (28)  & 1/30/20 (0) \\\\\n",
      "Bosnia and Herzegovina & 1/30/20 (8)  & 2/27/20 (28)  & 1/30/20 (0) \\\\\n",
      "Bolivia & 1/30/20 (8)  & 2/27/20 (28)  & 1/30/20 (0) \\\\\n",
      "Burkina Faso & 1/30/20 (8)  & 2/27/20 (28)  & 1/30/20 (0) \\\\\n",
      "\\hline \n",
      "Andorra & 2/27/20 (36)  & 2/27/20 (0)  & 2/27/20 (0) \\\\\n",
      "Algeria & 2/27/20 (36)  & 2/27/20 (0)  & 2/27/20 (0) \\\\\n",
      "Albania & 2/27/20 (36)  & 2/27/20 (0)  & 2/27/20 (0) \\\\\n",
      "Afghanistan & 2/27/20 (36)  & 2/27/20 (0)  & 2/27/20 (0) \\\\\n"
     ]
    },
    {
     "ename": "IndexError",
     "evalue": "index 107 is out of bounds for axis 0 with size 107",
     "output_type": "error",
     "traceback": [
      "\u001b[0;31m---------------------------------------------------------------------------\u001b[0m",
      "\u001b[0;31mIndexError\u001b[0m                                Traceback (most recent call last)",
      "\u001b[0;32m<ipython-input-9-205095b67609>\u001b[0m in \u001b[0;36m<module>\u001b[0;34m\u001b[0m\n\u001b[1;32m      8\u001b[0m     \u001b[0mprint\u001b[0m\u001b[0;34m(\u001b[0m\u001b[0;34m'{s[0]} & {s[1]} ({s[2]})  & {s[3]} ({s[4]})  & {s[5]} ({s[6]}) \\\\\\\\'\u001b[0m\u001b[0;34m.\u001b[0m\u001b[0mformat\u001b[0m\u001b[0;34m(\u001b[0m\u001b[0ms\u001b[0m\u001b[0;34m=\u001b[0m\u001b[0msss\u001b[0m\u001b[0;34m)\u001b[0m\u001b[0;34m)\u001b[0m\u001b[0;34m\u001b[0m\u001b[0;34m\u001b[0m\u001b[0m\n\u001b[1;32m      9\u001b[0m     \u001b[0;32mif\u001b[0m \u001b[0;34m(\u001b[0m\u001b[0mmm\u001b[0m\u001b[0;34m<\u001b[0m\u001b[0mnCountries\u001b[0m\u001b[0;34m-\u001b[0m\u001b[0;36m1\u001b[0m\u001b[0;34m)\u001b[0m\u001b[0;34m:\u001b[0m\u001b[0;34m\u001b[0m\u001b[0;34m\u001b[0m\u001b[0m\n\u001b[0;32m---> 10\u001b[0;31m         \u001b[0;32mif\u001b[0m \u001b[0;34m(\u001b[0m\u001b[0msdFC\u001b[0m\u001b[0;34m[\u001b[0m\u001b[0mmm\u001b[0m\u001b[0;34m]\u001b[0m\u001b[0;34m<\u001b[0m\u001b[0msdFC\u001b[0m\u001b[0;34m[\u001b[0m\u001b[0mmm\u001b[0m\u001b[0;34m+\u001b[0m\u001b[0;36m1\u001b[0m\u001b[0;34m]\u001b[0m\u001b[0;34m)\u001b[0m\u001b[0;34m:\u001b[0m\u001b[0;34m\u001b[0m\u001b[0;34m\u001b[0m\u001b[0m\n\u001b[0m\u001b[1;32m     11\u001b[0m             \u001b[0mprint\u001b[0m\u001b[0;34m(\u001b[0m\u001b[0;34m'\\hline '\u001b[0m\u001b[0;34m)\u001b[0m\u001b[0;34m\u001b[0m\u001b[0;34m\u001b[0m\u001b[0m\n",
      "\u001b[0;31mIndexError\u001b[0m: index 107 is out of bounds for axis 0 with size 107"
     ]
    }
   ],
   "source": [
    "# As many as countries\n",
    "print('%First case, & to first death & to first recovery \\\\\\\\')\n",
    "print('\\hline &&&\\\\\\\\')\n",
    "for mm in range(nCountries):\n",
    "    #print('%s & %s & %s & %s\\\\\\\\'%(countries[jj[mm]], dates[siC[mm]], dates[siD[mm]], dates[siR[mm]]))\n",
    "    #print('& %d & %d & %d \\\\\\\\ '%(siC[mm],siD[mm]-siC[mm],siR[mm]-siC[mm]))\n",
    "    sss = [d0SortedCountries[mm], dates[sdFC[mm]], sdFC[mm], dates[sdFD[mm]], sdFD[mm]-sdFC[mm], dates[sdFR[mm]], sdFR[mm]-sdFC[mm]]\n",
    "    print('{s[0]} & {s[1]} ({s[2]})  & {s[3]} ({s[4]})  & {s[5]} ({s[6]}) \\\\\\\\'.format(s=sss))\n",
    "    if (mm<nCountries-1):\n",
    "        if (sdFC[mm]<sdFC[mm+1]):\n",
    "            print('\\hline ')"
   ]
  },
  {
   "cell_type": "markdown",
   "metadata": {},
   "source": [
    "## The time course of reports"
   ]
  },
  {
   "cell_type": "code",
   "execution_count": null,
   "metadata": {},
   "outputs": [],
   "source": [
    "nCountriesFCByDate= list()\n",
    "nCountriesFDByDate= list()\n",
    "nCountriesFRByDate= list()\n",
    "for m in range(nDays):\n",
    "    # Find the indices of those who reported their first case on day m\n",
    "    nCountriesFCByDate.append(len(np.where(dFC==m)[0])) \n",
    "    # Find the indices of those who reported their first death on day m\n",
    "    nCountriesFDByDate.append(len(np.where(dFD==m)[0])) \n",
    "    nCountriesFRByDate.append(len(np.where(dFR==m)[0])) \n",
    "nCountriesFCByDate = np.array(nCountriesFCByDate)\n",
    "nCountriesFDByDate = np.array(nCountriesFDByDate)\n",
    "nCountriesFRByDate = np.array(nCountriesFRByDate)\n",
    "cumC=nCountriesFCByDate.cumsum()\n",
    "cumD=nCountriesFDByDate.cumsum()\n",
    "cumR=nCountriesFRByDate.cumsum()"
   ]
  },
  {
   "cell_type": "code",
   "execution_count": null,
   "metadata": {},
   "outputs": [],
   "source": [
    "print(nCountriesFCByDate,len(nCountriesFCByDate))\n",
    "print(nCountriesFDByDate,len(nCountriesFDByDate))\n",
    "print(nCountriesFRByDate,len(nCountriesFRByDate))"
   ]
  },
  {
   "cell_type": "markdown",
   "metadata": {},
   "source": [
    "The first countries that reported cases of COVID-19 on January 22, 2020 ($d_0$) were South Korea, China, Taiwan, US, Japan, and Thailand. Australia reported their first case 4 days later, together with Canada, on January 26, 2020. The first reports from Europe came 5 days later from Germany, on January 27. The first report in the Middle East came from the United Arab Emirates on January 29, 7 days after the first case reported. \n",
    "Therefore, the COVID-19 epidemic had been reported from all continents but Africa one week after the first case was reported, and the first report from Africa arrived 23 days later from Egypt, on February 14, 2020.\n",
    "These data indicate that the COVID-19 epidemic was wide spread throughout the globe within 2 weeks of the first case, strongly suggesting that the dissemination of the SARS-CoV-2 virus among the human population occurred with a delay of approximately 2 weeks. \n",
    "\n",
    "These data reflect the delay in reports from different countries relative to $d_0$. Of note, 25 countries reported cases within 10 days from $d_0$, and 31 countries had reports within the first 30 days. \n",
    "Of interest to the authors, Mexico reported their first case 37 days later, on February 28, 2020, together with Nigeria, New Zealand, Lithuania, Iceland, and Belarous. The last country that reported cases was Sao Tome and Principe, on April 6th, 2020, 75 days after the first report.\n"
   ]
  },
  {
   "cell_type": "markdown",
   "metadata": {},
   "source": [
    "### Delays between first case, first recovery, and first death reports"
   ]
  },
  {
   "cell_type": "code",
   "execution_count": null,
   "metadata": {},
   "outputs": [],
   "source": [
    "#cFirstCases, binsC = np.histogram(dFC,np.arange(0,(iFD-iFC).max()))\n",
    "days = np.arange(nDays)\n",
    "\n",
    "def plotCaseArrivals():\n",
    "    shift=0.3; W=.7\n",
    "    fRepArrivals= gr.figure(figsize=(7,9)); \n",
    "    gr.ioff(); rows=3; cols=1;\n",
    "    ticks = np.arange(0,nDays,7)\n",
    "    ax=list(); tAx=list()\n",
    "    for m in range(cols*rows):\n",
    "        ax.append(fRepArrivals.add_subplot(rows,cols,m+1))\n",
    "        tAx.append(ax[m].twinx())\n",
    "    tAx[0].plot(cumC,'b',lw=2, label='Cumulative # countries reporting cases')\n",
    "    tAx[1].plot(cumC,'b',lw=2, label='Cumulative # countries reporting cases')\n",
    "    tAx[1].plot(cumR,'orange',lw=2,label='Cumulative # countries reporting deaths')\n",
    "    tAx[2].plot(cumC,'b',lw=2, label='Cumulative # countries reporting cases')\n",
    "    tAx[2].plot(cumD,'k',lw=2,label='Cumulative # countries reporting deaths')\n",
    "    tAx[2].plot(cumR,'orange',lw=2, label='Cumulative # countries reporting recoveries')\n",
    "    ax[0].bar(days,nCountriesFCByDate,color='blue',align='center',width=W,label='First case report')\n",
    "    ax[2].bar(days,nCountriesFDByDate,color='black',align='center',width=W,label='First death report')\n",
    "    ax[1].bar(days,nCountriesFRByDate,color='orange',align='center',width=W,label='First recovery report')\n",
    "    for m in range(cols*rows):\n",
    "        ax[m].set_xticks(ticks)\n",
    "        tAx[m].set_yticks(np.arange(0,nCountries+1,10))\n",
    "        ax[m].set_yticks(np.arange(0,nCountriesFCByDate.max()+1,2))\n",
    "        ax[m].set_ylabel('# Countries',rotation=90)\n",
    "        tAx[m].set_ylabel('# Countries',rotation=-90,labelpad=15)\n",
    "        ax[m].legend(loc='center left')\n",
    "        tAx[m].legend(loc='upper left')\n",
    "    ax[2].set_xticklabels(dates[ticks],{'fontsize':8})\n",
    "    for label in ax[2].get_xticklabels():\n",
    "        label.set_rotation(45)\n",
    "        label.set_horizontalalignment('center')\n",
    "        label.set_fontsize(8)\n",
    "        label.set_horizontaloffset=-15\n",
    "    for mm in range(rows*cols):\n",
    "        ax[mm].set_xlabel('Days from $d_0$')\n",
    "    fRepArrivals.subplots_adjust(left=0.075,bottom=0.075,right=0.9,top=0.95,wspace=0.1,hspace=0.25)\n",
    "    fRepArrivals.suptitle('Delays in first case report, first death, and first recovery, all countries')\n",
    "    gr.ion(); gr.draw(); gr.show()\n",
    "    fRepArrivals.savefig('./figures_COVID19_dataAnalysis/dam_COVID19_JHU_reportArrivals_AllCountries.png')\n",
    "    return fRepArrivals\n",
    "\n",
    "fRepArrivals= plotCaseArrivals()"
   ]
  },
  {
   "cell_type": "markdown",
   "metadata": {},
   "source": [
    "Approximately around 30 days after $d_0$, a relatively constant delay between first cases reported and the corresponding first recoveries and first deaths reported, lasting approximately 40 days. The biases in reports show up again after day 70 from $d_0$. In the beginning of the pandemic the biases are caused by short or no-delays between first cases and deaths. In the last portion of the period under consideration, the biases are caused by long delays in the first case, first recoveries, and first deaths.  \n",
    "The large bar in the recoveries from February 12, 2020, is caused by a large adjustment in the reports from China and the first recoveries reported in other countries. The large bar from the deaths at on April 23, 2020, is caused by late reporting from Africa. "
   ]
  },
  {
   "cell_type": "code",
   "execution_count": null,
   "metadata": {},
   "outputs": [],
   "source": [
    "n=7; print(r'%d countries reported within the first %d days from $d_0$'%(len(sdFC[sdFC<n+1]),n))\n",
    "countries[iArrival[(sdFD-sdFC) <n+1]]"
   ]
  },
  {
   "cell_type": "markdown",
   "metadata": {},
   "source": [
    "The difference between the curve of cumulative number of countries reporting cases and the cumulative number of countries reporting deaths is very similar for a large interval of days. \n",
    "The descriptive statistics of delay between death and case reports are as follows. "
   ]
  },
  {
   "cell_type": "markdown",
   "metadata": {},
   "source": [
    "The delays between the first case reported and the first death reported within a single country have a wide distribution, between 0 and 76 days. \n",
    "However, the bulk of the distribution can be found between 0 and 30 days, with a mode at 16 days. In consideration of the time course of the infection by SARS-CoV-2 reported in the literature \\citep{}, the delay between death and contagion can be 21 or more days \\citep{}. \n",
    "\n",
    "Assuming that the testing started at least one week before the date of the first case reported, the data suggest that the epidemic in those countries contributing to left portion of the histogram had started at least 3 weeks before their report. The mode at 16 days fits within the 5-7 days incubation periods reported plus the 2 weeks to develop severe symptoms. For those countries that reported their first death at the mode or after, these data suggest that the epidemic started in those countries at least one week before their first case reported.\n",
    "\n",
    "The delays between the first recovery and the first case reported within a single country are distributed between 0 and 38 days. However, for most countries this delay is between 0 and 27 days approximately, with two clear modes at 12 and 16 days.  "
   ]
  },
  {
   "cell_type": "markdown",
   "metadata": {},
   "source": [
    "### Simple estimation of the temporal bias induced by delays between first case, and first death or first recovery reports"
   ]
  },
  {
   "cell_type": "code",
   "execution_count": null,
   "metadata": {},
   "outputs": [],
   "source": [
    "def findHDistance(t,x,y,m,M,nPts=100):\n",
    "    if (len(t)!=len(x)) | (len(x)!=len(y) ):\n",
    "        return \n",
    "    v = np.linspace(m,M,nPts)\n",
    "    d=list()\n",
    "    for n in range(len(v)):\n",
    "        a = np.where(x>v[n])[0][0]\n",
    "        b = np.where(y>v[n])[0][0]\n",
    "        d.append(b-a)\n",
    "    return np.array(d)\n",
    "\n",
    "def findMode(x):\n",
    "    xbins = np.unique(x)\n",
    "    counts,bins =np.histogram(x,xbins)\n",
    "    return x[counts.argmax()] \n"
   ]
  },
  {
   "cell_type": "markdown",
   "metadata": {},
   "source": [
    "There is an interval where the delays are relatively constant. "
   ]
  },
  {
   "cell_type": "code",
   "execution_count": null,
   "metadata": {},
   "outputs": [],
   "source": [
    "v1 = 40; v2=150\n",
    "delaysCumFDC=findHDistance(days,cumC,cumD,v1,v2,nPts=v2-v1)\n",
    "delaysCumFRC=findHDistance(days,cumC,cumR,v1,v2,nPts=v2-v1)\n",
    "print(delaysCumFDC)\n",
    "print(delaysCumFRC)\n",
    "mm = findMode(delaysCumFDC)\n",
    "MM = findMode(delaysCumFRC)\n",
    "print('The most common delay between the cumulative reports of cases and deaths is %d'%mm)\n",
    "print('The most common delay between the cumulative reports of cases and recoveries is %d'%MM)"
   ]
  },
  {
   "cell_type": "code",
   "execution_count": null,
   "metadata": {
    "scrolled": true
   },
   "outputs": [],
   "source": [
    "# \n",
    "a = 50; b = 136\n",
    "ia_cumC = np.where(cumC>a)[0].min()\n",
    "ia_cumD = np.where(cumD>a)[0].min()-1\n",
    "ib_cumC = np.where(cumC>b)[0].min()\n",
    "ib_cumD = np.where(cumD>=b)[0].min()\n",
    "ia_cumR = np.where(cumR>a)[0].min()-1\n",
    "ib_cumR = np.where(cumR>=b)[0].min()\n",
    "aa=ia_cumD-ia_cumC\n",
    "bb=ib_cumD-ib_cumC\n",
    "cc=ia_cumR-ia_cumC\n",
    "dd=ib_cumR-ib_cumC\n",
    "print(ib_cumC, ib_cumR, cc,dd)\n",
    "print(ia_cumC,ib_cumC,ia_cumD,ib_cumD)\n",
    "delaysFDC =sdFD-sdFC\n",
    "delaysFRC =sdFR-sdFC\n",
    "#\n",
    "fRepDelay= gr.figure(figsize=(7,9)); gr.ioff()\n",
    "rows=2; cols=2\n",
    "ax=fRepDelay.add_subplot(rows,cols,1); \n",
    "bx=fRepDelay.add_subplot(rows,cols,2); \n",
    "cx=fRepDelay.add_subplot(rows,cols,3); \n",
    "dx=fRepDelay.add_subplot(rows,cols,4); \n",
    "days = np.arange(nDays)\n",
    "cC = np.arange(nCountries)\n",
    "ticks= np.arange(0,nDays,7)\n",
    "bx.plot(cC, delaysFDC, '.', label='#case-death ')\n",
    "bx.plot(cC, mm*np.ones(nCountries),label=r'%d days'%delaysFDC.mean())\n",
    "dx.plot(cC, delaysFRC, '.', label='#case-death ')\n",
    "dx.plot(cC, MM*np.ones(nCountries),label=r'%d days'%delaysFRC.mean())\n",
    "ax.plot(days,cumC,label='Cases')\n",
    "ax.plot(days,cumD, label='Deaths')\n",
    "cx.plot(days,cumC,label='Cases')\n",
    "cx.plot(days,cumR, label='Recoveries')\n",
    "ax.plot(days,a*np.ones(nDays),':',color='orange',alpha=0.35)\n",
    "ax.plot(days,b*np.ones(nDays),':',color='orange',alpha=0.35)\n",
    "cx.plot(days,a*np.ones(nDays),':',color='orange',alpha=0.35)\n",
    "cx.plot(days,b*np.ones(nDays),':',color='orange',alpha=0.35)\n",
    "ax.plot( [days[ia_cumC],days[ia_cumC]], [cC[0],cC[-1]],':',color='orange',lw=1,alpha=0.35)\n",
    "ax.plot( [days[ia_cumD],days[ia_cumD]], [cC[0],cC[-1]],':',color='orange',lw=1,alpha=0.35)\n",
    "ax.plot( days[ib_cumC:ib_cumD], b*np.ones(bb),'k',lw=3,alpha=0.35)\n",
    "ax.plot( days[ia_cumC:ia_cumD], a*np.ones(aa),'k',lw=3,alpha=0.35)\n",
    "cx.plot( [days[ia_cumC],days[ia_cumC]], [cC[0],cC[-1]],':',color='orange',lw=1,alpha=0.35)\n",
    "cx.plot( [days[ia_cumR],days[ia_cumR]], [cC[0],cC[-1]],':',color='orange',lw=1,alpha=0.35)\n",
    "cx.plot( days[ib_cumC:ib_cumR], b*np.ones(dd),'k',lw=3,alpha=0.35)\n",
    "cx.plot( days[ia_cumC:ia_cumR], a*np.ones(cc),'k',lw=3,alpha=0.35)\n",
    "str1='Delay between first death and first case reports'\n",
    "str3='Delay between first recover and first case reports'\n",
    "str2='# Countries reporting'\n",
    "str4='# Countries reporting'\n",
    "bx.set_ylabel(str1); dx.set_ylabel(str3)\n",
    "ax.set_xlabel(r'''Delay to first death and first case from $d_0$''')\n",
    "cx.set_xlabel(r'''Delay to first recovery and first case from $d_0$''')\n",
    "bx.set_xlabel(str2); dx.set_xlabel(str2)\n",
    "ax.set_ylabel(str2); cx.set_ylabel(str4)\n",
    "ax.legend(loc='upper left')\n",
    "cx.legend(loc='upper left')\n",
    "gr.ion(); gr.draw()\n",
    "fRepDelay.subplots_adjust(left=0.075,bottom=0.075,right=0.9,top=0.95,wspace=0.2,hspace=0.25)\n",
    "fRepDelay.savefig('./figures_COVID19_dataAnalysis/dam_COVID19_JHU_delays_caseDeaths.png')\n",
    "\n",
    "#print(aa,bb)"
   ]
  },
  {
   "cell_type": "markdown",
   "metadata": {},
   "source": [
    "Now a comparison between those estimates of delays and the delays (not just the first case from the whole world)"
   ]
  },
  {
   "cell_type": "code",
   "execution_count": null,
   "metadata": {
    "scrolled": true
   },
   "outputs": [],
   "source": [
    "days = np.arange(nDays)\n",
    "qs = np.arange(0,1,0.01)\n",
    "delaysFDC = sdFD-sdFC\n",
    "qDelaysFDC = np.quantile(delaysFDC,qs)\n",
    "print('Quantiles for delays D-C:',qDelaysFDC)\n",
    "medianFDCdelay = np.int32(np.median(delaysFDC) )\n",
    "print('The median delay between first death and first case is %d days'%medianFDCdelay)\n",
    "print('The mode of the distribution for first death and case delays is %d'% findMode(dFD-dFC))\n",
    "print('The mode of the distribution for first recovery and case delays is %d'% findMode(dFR-dFC))\n",
    "print(np.sort(sdFD-sdFC))\n",
    "print(np.sort(sdFR-sdFC))"
   ]
  },
  {
   "cell_type": "code",
   "execution_count": null,
   "metadata": {
    "scrolled": true
   },
   "outputs": [],
   "source": [
    "# -----------------------------------\n",
    "\"\"\"Poincaré diagram to plot delays in reports from cumulative counts\n",
    "of first case to first recovery or death\n",
    "\"\"\"\n",
    "# -----------------------------------\n",
    "# prepare some data\n",
    "v1 = 33; v2=145\n",
    "delay=18\n",
    "iStart = np.where(cumC>v1)[0].min()\n",
    "iStop = np.where(cumC>v2)[0].min()\n",
    "x=cumC[iStart:iStop]\n",
    "y=cumD[iStart:iStop]\n",
    "dd0= days[iStart:iStop]\n",
    "#\n",
    "shift=2\n",
    "gDelay= gr.figure(figsize=(7,5)); gr.ioff()\n",
    "title=\"Delay between first case and first death\"\n",
    "gDelay.suptitle(title)\n",
    "ax = gDelay.add_subplot(111)\n",
    "ax.plot(days, cumC, 'b', lw=1, alpha=1, label=r'First case report')\n",
    "ax.plot(days, cumD, 'k', lw=1, alpha=1, label=r'First death report')\n",
    "d1=delay-shift; d2=delay+shift\n",
    "ax.plot(days+d1, cumC, 'b', lw=1, alpha=0.5, label=r'First case report + %d days'%d1)\n",
    "ax.plot(days+d2, cumC, 'b', lw=1, alpha=0.5, label=r'First case report + %d days'%d2)\n",
    "ax.plot([0,d2+days.max()],[v1,v1],'k:',lw=1)\n",
    "ax.plot([0,d2+days.max()],[v2,v2],'k:',lw=1)\n",
    "ax.set_ylabel('# Countries reporting')\n",
    "ax.set_xlabel('Days from $d_0$')\n",
    "ax.legend()\n",
    "gr.ion(); gr.draw();gr.show()\n",
    "fName=\"./figures_COVID19_dataAnalysis/dam_COVID19_delaysCumFDC.png\"\n",
    "gDelay.savefig(fName)\n"
   ]
  },
  {
   "cell_type": "markdown",
   "metadata": {},
   "source": []
  },
  {
   "cell_type": "code",
   "execution_count": null,
   "metadata": {},
   "outputs": [],
   "source": [
    "#cFirstCases, binsC = np.histogram(dFC,np.arange(0,(iFD-iFC).max()))\n",
    "days = np.arange(nDays)\n",
    "cDelayDeaths2Case, binsD = np.histogram(dFD-dFC,days)\n",
    "cDelayRecovs2Case, binsR = np.histogram(dFR-dFC,days)\n",
    "days = np.arange(nDays)\n",
    "\n",
    "def plotReportingDelays():\n",
    "    fDelays= gr.figure(figsize=(7,10)); gr.ioff(); rows=2; cols=1;\n",
    "    ticks = np.arange(0,nDays,7)\n",
    "    ax=list(); tAx=list()\n",
    "    fDelays.suptitle('Delays in first case report, first death, and first recovery, all countries')\n",
    "    for m in range(rows*cols):\n",
    "        ax.append(fDelays.add_subplot(rows,cols,m+1))\n",
    "    tAx.append(ax[0].twinx())\n",
    "    ax[0].bar(binsD[:-1],cDelayDeaths2Case,width=0.8,label='Deaths')\n",
    "    ax[1].bar(binsR[:-1],cDelayRecovs2Case,width=0.8,label='Recoveries')\n",
    "    #\n",
    "    ax[0].set_xlabel('Days first case reported (same country)')\n",
    "    ax[1].set_xlabel('Days first case reported (same country)')\n",
    "\n",
    "    for m in range(rows*cols):\n",
    "        #ax[m].set_yticks(np.arange(0,np.maximum(cDelayRecovs2Case.max()+1,cumC.max()),2))\n",
    "        ax[m].set_ylabel('# Countries',rotation=90)\n",
    "        if m>0:\n",
    "            ax[m].legend(loc='upper right')\n",
    "        if m<1:\n",
    "            tAx[m].legend(loc='upper left')\n",
    "    fDelays.subplots_adjust(left=0.075,bottom=0.075,right=0.9,top=0.95,wspace=0.1,hspace=0.25)\n",
    "    gr.ion(); gr.draw(); gr.show()\n",
    "    fDelays.savefig('figures_COVID19_dataAnalysis/dam_COVID19_JHU_delays_AllCountries.png')\n",
    "    return fDelays\n",
    "\n",
    "fDelays= plotReportingDelays()"
   ]
  },
  {
   "cell_type": "code",
   "execution_count": null,
   "metadata": {
    "scrolled": true
   },
   "outputs": [],
   "source": [
    "n=10; print(r'%d countries reported within the first %d days from $d_0$'%(len(sdFC[sdFC<n+1]),n))\n",
    "countries[iArrival[sdFC<n+1]]"
   ]
  },
  {
   "cell_type": "code",
   "execution_count": null,
   "metadata": {},
   "outputs": [],
   "source": [
    "n=30; print(r'%d countries reported within the first %d days from $d_0$'%(len(sdFC[sdFC<n+1]),n))\n",
    "countries[iArrival[sdFC<n+1]]"
   ]
  },
  {
   "cell_type": "markdown",
   "metadata": {},
   "source": []
  },
  {
   "cell_type": "markdown",
   "metadata": {},
   "source": [
    "## Cases vs deaths in some subsets of countries taking the delay into account"
   ]
  },
  {
   "cell_type": "code",
   "execution_count": null,
   "metadata": {},
   "outputs": [],
   "source": [
    "\n",
    "#\n",
    "def plotCasesDeathsTS(casesTS,deathsTS,regions,countries, delay=0, convFactor=1000):\n",
    "    \n",
    "    ii = getIndsRegions(countries, regions)\n",
    "    figu= gr.figure(figsize=(7,9))\n",
    "    strSup='Deaths vs cases delayed %g days, per %d habitants, %s'%(delay,convFactor, dates[-1])\n",
    "    #if convFactor <= 1000:\n",
    "    #    figu.suptitle('Deaths vs cases per %d habitants, %s'%(convFactor,dates[-1]))\n",
    "    #elif convFactor == 10**6:\n",
    "    #    figu.suptitle('Deaths vs cases per million, %s'%(dates[-1]))\n",
    "    gr.ioff(); ax=list(); sax=list(); cols=1; rows =3\n",
    "    ticks= np.arange(0,nDays,7)\n",
    "    for n in range(len(regions)):\n",
    "        ax.append(figu.add_subplot(rows,cols,n+1))\n",
    "        sax.append(inset_axes(parent_axes=ax[n],\n",
    "                                width=\"30%\", # width = 30% of parent_bbox\n",
    "                                height=\"30%\", # height : 1 inch\n",
    "                                loc='lower right'))\n",
    "        region=ii[n]\n",
    "        if convFactor <= 1000:\n",
    "            strDeaths = 'Deaths x {: d}'.format(convFactor)\n",
    "        elif convFactor == 10**6:\n",
    "            strDeaths = 'Deaths per million'\n",
    "        for nn in range(len(region)):\n",
    "            if delay>0:\n",
    "                cas=convFactor*np.float64(casesTS[region[nn],:-delay]) /Pops_Millions[countries[region[nn]]]\n",
    "                dea=convFactor*np.float64(deathsTS[region[nn],delay:]) /Pops_Millions[countries[region[nn]]]\n",
    "            else:\n",
    "                cas=convFactor*np.float64(casesTS[region[nn]]) /Pops_Millions[countries[region[nn]]]\n",
    "                dea=convFactor*np.float64(deathsTS[region[nn]]) /Pops_Millions[countries[region[nn]]]\n",
    "            sax[n].plot(cas,dea,'-',label=countries[region[nn]])\n",
    "            ax[n].plot(cas,dea,'-',label=countries[region[nn]])\n",
    "            if convFactor <= 1000:\n",
    "                ax[n].set_xlabel(r'cases x %d'%convFactor);  ax[n].set_ylabel(r'deaths x %d'%convFactor)\n",
    "            elif convFactor == 10**6: \n",
    "                ax[n].set_xlabel(r'cases per million');  ax[n].set_ylabel(r'deaths per million')\n",
    "        ymm= ax[n].get_ylim()[1]/3\n",
    "        xmm= ax[n].get_xlim()[1]/3\n",
    "        sax[n].set_ylim(0.0,ymm);  sax[n].set_xlim(0.0,xmm);sax[n].set_xticklabels([])\n",
    "        ax[n].legend(ncol=3,loc='upper left',fontsize=8)\n",
    "    figu.subplots_adjust(left=0.075,bottom=0.075,right=0.97,top=0.95,wspace=0.2,hspace=0.25)\n",
    "    gr.ion(); gr.draw(); gr.show()\n",
    "    figName='figures_COVID19_dataAnalysis/dam_COVID19_JHU_cases-deaths_x%d_CDdelay%ddays_day%d.png'%(convFactor,delay,nDays)\n",
    "    figu.savefig('./'+figName)\n",
    "    return figu"
   ]
  },
  {
   "cell_type": "code",
   "execution_count": null,
   "metadata": {},
   "outputs": [],
   "source": [
    "print(totCases.shape)"
   ]
  },
  {
   "cell_type": "code",
   "execution_count": null,
   "metadata": {
    "scrolled": true
   },
   "outputs": [],
   "source": [
    "# Setup regions\n",
    "R1=['China','Japan','Korea, South','Indonesia','Singapore','Australia']\n",
    "R2=['United Kingdom','Spain','Italy','France','Germany']\n",
    "#America=['Mexico','US','Argentina','Brazil','Colombia','Chile']\n",
    "LatinAmerica=['Argentina','Brazil','Colombia','Mexico']\n",
    "Africa=['Niger','Algeria','Egypt','South Africa']\n",
    "R3=['US','Canada']\n",
    "MiddleEast =['Iran','Israel']\n",
    "#MiddleEast =['Iran','Lebanon', 'West Bank and Gaza','Israel']\n",
    "regions=[R1,R2+MiddleEast+R3,LatinAmerica+Africa]\n"
   ]
  },
  {
   "cell_type": "code",
   "execution_count": null,
   "metadata": {},
   "outputs": [],
   "source": [
    "# \n",
    "ii = getIndsRegions(countries, regions)\n",
    "figu=plotCasesDeathsTS(casesTS=totCases, deathsTS=totDeathCases, regions=regions, countries=countries, delay =21, convFactor=10**6)\n"
   ]
  },
  {
   "cell_type": "code",
   "execution_count": null,
   "metadata": {},
   "outputs": [],
   "source": [
    "# \n",
    "ii = getIndsRegions(countries, regions)\n",
    "figu=plotCasesDeathsTS(casesTS=totCases, deathsTS=totDeathCases, regions=regions, countries=countries, delay =14, convFactor=10**6)"
   ]
  },
  {
   "cell_type": "code",
   "execution_count": null,
   "metadata": {},
   "outputs": [],
   "source": [
    "# \n",
    "ii = getIndsRegions(countries, regions)\n",
    "figu=plotCasesDeathsTS(casesTS=totCases, deathsTS=totDeathCases, regions=regions, countries=countries, delay =7, convFactor=10**6)"
   ]
  },
  {
   "cell_type": "code",
   "execution_count": null,
   "metadata": {},
   "outputs": [],
   "source": [
    "# \n",
    "ii = getIndsRegions(countries, regions)\n",
    "figu=plotCasesDeathsTS(casesTS=totCases, deathsTS=totDeathCases, regions=regions, countries=countries, delay =0, convFactor=10**6)"
   ]
  },
  {
   "cell_type": "code",
   "execution_count": null,
   "metadata": {},
   "outputs": [],
   "source": [
    "# -------------------\n",
    "# Search regions to illustrate the case-fatality ratios\n",
    "# -------------------\n",
    "Pops_Millions = {'China':1439323776, 'Japan':126476461,'Korea, South':51269185, 'Indonesia':273523615,\n",
    "                 'Iran':83992949,'Israel':8655535,\n",
    "                 'Singapore':5850342, 'Mexico':128932753,'US':331002651, 'Canada':37742154, 'Argentina':45195774,\n",
    "                 'Brazil':212559417, 'Colombia':50882891, 'Niger':24206644, 'Algeria':43851044, 'Egypt':102334404, \n",
    "                 'South Africa':59308690,'Spain':46754778,'Italy':60461826,'France':67886011,'Germany':83783942, \n",
    "                 'Australia':25499884,'United Kingdom':67886011, 'Venezuela':28870195}"
   ]
  },
  {
   "cell_type": "markdown",
   "metadata": {},
   "source": [
    "## Case-fatality ratios "
   ]
  },
  {
   "cell_type": "markdown",
   "metadata": {},
   "source": [
    "The case fatality ratio is an approximation for the probability of death among cases in an epidemic. In fact, it is an upper bound for the proportion of deaths due to infection, assuming that people that have not been confirmed do not have a higher probability of dying because of the infection.\n",
    "\n",
    "The case-fatality ratios can be calculated by dividing each entry in the deaths data frame, by the corresponding entry in the cases data frame.\n"
   ]
  },
  {
   "cell_type": "code",
   "execution_count": null,
   "metadata": {},
   "outputs": [],
   "source": [
    "def delayCorrectTSPair(a,b,delay=18):\n",
    "    nPts = len(a)\n",
    "    a = a[:-DCdelay]\n",
    "    b = b[DCdelay:]\n",
    "    return a,b\n",
    "\n",
    "DCdelay=18; DRdelay=14\n",
    "DC_totCases,DC_totDeaths=delayCorrectTSPair(totCases.transpose(),totDeathCases.transpose(),delay=DCdelay)\n",
    "RC_totCases,RC_totRecovs=delayCorrectTSPair(totCases.transpose(),totRecovCases.transpose(),delay=DRdelay)\n",
    "#\n",
    "DC_totCases = DC_totCases.transpose()\n",
    "DC_totDeaths= DC_totDeaths.transpose()\n",
    "RC_totCases = RC_totCases.transpose()\n",
    "RC_totRecovs= RC_totRecovs.transpose()"
   ]
  },
  {
   "cell_type": "markdown",
   "metadata": {},
   "source": [
    "### Delayed deaths with respect to case reports in single countries"
   ]
  },
  {
   "cell_type": "code",
   "execution_count": null,
   "metadata": {},
   "outputs": [],
   "source": [
    "def cfr_WholeCountry(totCases,totDeathCases,cou = 'US',insetLims=[60,90],delays=np.arange(5,25,2)):\n",
    "    iC = np.where(countries == cou)[0][0]\n",
    "    cas= totCases[iC,:]; dea= totDeathCases[iC,:]\n",
    "    print(len(cas),len(dea))\n",
    "    dz = np.zeros(len(dea))\n",
    "    dz[1:] = dea[1:]-dea[:-1]\n",
    "    y= np.zeros(len(cas))\n",
    "    y[1:] = cas[1:]-cas[:-1]\n",
    "\n",
    "    figCFR1= gr.figure(figsize=(11,9)); gr.ioff(); \n",
    "    figCFR1.suptitle('CFRs for different case-death report delays in %s'%cou)\n",
    "    rows=2; cols=1\n",
    "    ax=list(); tax=list()\n",
    "    for n in range(rows*cols):\n",
    "        ax.append(figCFR1.add_subplot(rows,cols,n+1))\n",
    "        tax.append(inset_axes(parent_axes=ax[n], width=\"30%\", height=\"30%\", loc='upper right'))\n",
    "\n",
    "    for d in delays:\n",
    "        ax[0].plot(days[d:],np.float64(dea[d:])/cas[:-d],ms=1,alpha=0.5,label=r'd=%d'%d)\n",
    "        tax[0].plot(days[d:],np.float64(dea[d:])/cas[:-d],ms=1,alpha=0.5)    \n",
    "    for d in delays:\n",
    "        ax[1].plot(days[d:],np.float64(dz[d:])/y[:-d],ms=1,alpha=0.5,label=r'd=%d'%d)\n",
    "        tax[1].plot(days[d:],np.float64(dz[d:])/y[:-d],ms=1,alpha=0.5)\n",
    "    ax[1].set_xlabel(r'Days from $d_0$')\n",
    "    ax[0].set_ylabel('CFR from cumulative data')\n",
    "    ax[1].set_ylabel('CFR from incidence')\n",
    "    for n in range(rows*cols):\n",
    "        ax[n].legend(loc='upper left',ncol=1)\n",
    "        tax[n].set_xlim(insetLims)\n",
    "        ax[n].set_ylim(0,1);tax[n].set_ylim(0.0,0.3)\n",
    "    figCFR1.subplots_adjust(left=0.075,bottom=0.1,right=0.92,top=0.93,wspace=0.1,hspace=0.1)\n",
    "    gr.ion(); gr.draw(); gr.show()\n",
    "    figName='./figures_COVID19_dataAnalysis/dam_COVID19_CFR_delay_%s.png'%(cou)\n",
    "    figCFR1.savefig(figName)\n",
    "    return figCFR1"
   ]
  },
  {
   "cell_type": "code",
   "execution_count": null,
   "metadata": {},
   "outputs": [],
   "source": [
    "fCFRCou= cfr_WholeCountry(totCases,totDeathCases,cou = 'Italy',insetLims=[60,nDays],delays=np.arange(5,25,3))"
   ]
  },
  {
   "cell_type": "code",
   "execution_count": null,
   "metadata": {},
   "outputs": [],
   "source": [
    "fCFRCou= cfr_WholeCountry(totCases,totDeathCases,cou = 'Spain',insetLims=[60,nDays],delays=np.arange(5,25,3))"
   ]
  },
  {
   "cell_type": "code",
   "execution_count": null,
   "metadata": {},
   "outputs": [],
   "source": [
    "fCFRCou= cfr_WholeCountry(totCases,totDeathCases,cou = 'US',insetLims=[60,nDays],delays=np.arange(5,25,3))"
   ]
  },
  {
   "cell_type": "code",
   "execution_count": null,
   "metadata": {},
   "outputs": [],
   "source": [
    "fCFRCou= cfr_WholeCountry(totCases,totDeathCases,cou = 'China',insetLims=[40,55],delays=np.arange(5,25,3))"
   ]
  },
  {
   "cell_type": "code",
   "execution_count": null,
   "metadata": {},
   "outputs": [],
   "source": [
    "fCFRCou= cfr_WholeCountry(totCases,totDeathCases,cou = 'Mexico',insetLims=[60,nDays],delays=np.arange(5,25,3))"
   ]
  },
  {
   "cell_type": "code",
   "execution_count": null,
   "metadata": {},
   "outputs": [],
   "source": [
    "def zeroCorrectCFR(c,d):\n",
    "    c[c==0]=1\n",
    "    print(c.shape,d.shape)\n",
    "    return d/c\n",
    "\n",
    "print(totCases.shape,totDeathCases.shape)\n",
    "print(DC_totCases.shape,DC_totDeaths.shape)\n",
    "cfr=zeroCorrectCFR(c=np.float64(totCases),d=totDeathCases)\n",
    "DC_cfr=zeroCorrectCFR(c=np.float64(DC_totCases),d=DC_totDeaths)\n",
    "print(cfr.shape,DC_cfr.shape)\n",
    "\n",
    "DC_cfr.max()"
   ]
  },
  {
   "cell_type": "markdown",
   "metadata": {},
   "source": [
    "Function to plot the CFR in different subsets of countries chosen specifically to illustrate different dynamics"
   ]
  },
  {
   "cell_type": "code",
   "execution_count": null,
   "metadata": {},
   "outputs": [],
   "source": [
    "#\n",
    "def plotCFRTS(cfr,dates,regions,countries,move2start=1):\n",
    "    print('Taking into account %d days'%nDays)\n",
    "    cfr=100*cfr\n",
    "    delayDays = np.arange(DCdelay,nDays)\n",
    "    ii = getIndsRegions(countries, regions)\n",
    "    figu = gr.figure(figsize=(7,9))\n",
    "    figu.suptitle('Percentage of dead/confirmed between %s-%s'''%(dates[0],dates[-1]))\n",
    "    ax=list(); gr.ioff()\n",
    "    cols=1; rows = 3\n",
    "    ticks= np.arange(0,nDays,7)\n",
    "    for n in range(len(regions)):\n",
    "        ax.append(figu.add_subplot(rows,cols,n+1))\n",
    "        region=ii[n];\n",
    "        for nn in range(len(region)):\n",
    "            thisCFR=cfr[region[nn]]\n",
    "            ax[n].set_xticks(ticks)\n",
    "            if move2start:\n",
    "                startInd = np.maximum( np.where(thisCFR>0)[0].min(),0)\n",
    "                ax[n].plot(thisCFR[startInd:],'-',label=countries[region[nn]])\n",
    "                ax[n].set_xlabel('Days from first reported case')\n",
    "            else:\n",
    "                ax[n].plot(cfr[region[nn]],'-',label=countries[region[nn]])\n",
    "                ax[n].set_xticklabels(dates[ticks],{'fontsize':8})\n",
    "                for label in ax[n].get_xticklabels():\n",
    "                    label.set_rotation(45)\n",
    "                    label.set_horizontalalignment('center')\n",
    "                    label.set_fontsize(8)\n",
    "        #ax[n].set_xlim(ximin,len(dates))\n",
    "        ax[n].set_ylim(0,15);\n",
    "        ax[n].legend(ncol=4,loc='upper left',fontsize=8)\n",
    "    figu.subplots_adjust(left=0.075,bottom=0.075,right=0.97,top=0.95,wspace=0.2,hspace=0.25)\n",
    "    gr.ion(); gr.draw(); gr.show()\n",
    "    strCFR='figures_COVID19_dataAnalysis/dam_COVID19_JHU_cfr_fromFirstLocalCase.png'\n",
    "    figu.savefig('./'+strCFR)\n",
    "    return figu"
   ]
  },
  {
   "cell_type": "markdown",
   "metadata": {},
   "source": [
    "Search regions to illustrate the case-fatality ratios"
   ]
  },
  {
   "cell_type": "markdown",
   "metadata": {},
   "source": [
    "Now let us plot the case fatality ratios of a few countries with reported cases. "
   ]
  },
  {
   "cell_type": "code",
   "execution_count": null,
   "metadata": {},
   "outputs": [],
   "source": [
    "# ---------------------------------------------\n",
    "# All relative to the starting days of the pandemia\n",
    "figu=plotCFRTS(DC_cfr,dates,regions,countries, move2start=1)\n"
   ]
  },
  {
   "cell_type": "code",
   "execution_count": null,
   "metadata": {},
   "outputs": [],
   "source": [
    "# ---------------------------------------------\n",
    "# From the day the first case was reported\n",
    "figu=plotCFRTS(cfr,dates,regions,countries, move2start=0)\n",
    "strCFR='figures_COVID19_dataAnalysis/dam_COVID19_JHU_cfr_relative2d0.png'\n",
    "figu.savefig('./'+strCFR)\n",
    "# ---------------------------------------------\n"
   ]
  },
  {
   "cell_type": "markdown",
   "metadata": {},
   "source": [
    "It is important to consider that the first few reports of deaths usually are biased by the fact that those cases are almost "
   ]
  },
  {
   "cell_type": "markdown",
   "metadata": {},
   "source": [
    "### Case fatality ratios in detail for countries reporting cases by province\n",
    "\n",
    "The countries where there are reports by province are China, United Kingdom, Australia, and Canada. To see this, print the list of countries including repetitions."
   ]
  },
  {
   "cell_type": "code",
   "execution_count": null,
   "metadata": {
    "scrolled": true
   },
   "outputs": [],
   "source": [
    "countries_Cases"
   ]
  },
  {
   "cell_type": "markdown",
   "metadata": {},
   "source": [
    "The rows that contain the data from China, for instance, are between 42 and 82, inclusive."
   ]
  },
  {
   "cell_type": "markdown",
   "metadata": {},
   "source": [
    "### CFR analysis for China, UK, and Australia, taking into account the data by province\n",
    "\n",
    "The data will be separated into dictionaries, one for each country. "
   ]
  },
  {
   "cell_type": "markdown",
   "metadata": {},
   "source": [
    "China"
   ]
  },
  {
   "cell_type": "code",
   "execution_count": null,
   "metadata": {},
   "outputs": [],
   "source": [
    "China= {'Country name':'China'}\n",
    "China['cfrWC']=cfr[np.where(countries=='China')[0][0]]\n",
    "China['cases'], China['indsCases']= gatherDataSingleCountry(cases,'China')\n",
    "China['deathCases'], China['indsDeaths']= gatherDataSingleCountry(deathCases,'China')\n",
    "China['cfrs'] = correctedArrayRatio(China['deathCases'],China['cases'])\n",
    "China['provinces']=cases.iloc[China['indsCases'],0].to_numpy()\n",
    "China['nProvinces'] = len(China['provinces'])\n",
    "China['startDaysCases']= findCaseStarts(places=China['provinces'],cases=China['cases'])"
   ]
  },
  {
   "cell_type": "markdown",
   "metadata": {},
   "source": [
    "UK"
   ]
  },
  {
   "cell_type": "code",
   "execution_count": null,
   "metadata": {},
   "outputs": [],
   "source": [
    "UK =  {'Country name':'UK'}\n",
    "UK['cfrWC']=cfr[np.where(countries=='United Kingdom')[0][0]]\n",
    "UK['cases'], UK['indsCases']= gatherDataSingleCountry(cases,'United Kingdom')\n",
    "UK['deathCases'], UK['indsDeaths']= gatherDataSingleCountry(deathCases,'United Kingdom')\n",
    "UK['cfrs'] = correctedArrayRatio(UK['deathCases'],UK['cases'])\n",
    "UK['provinces']=cases.iloc[UK['indsCases'],0].to_numpy()\n",
    "UK['nProvinces'] = len(UK['provinces'])\n",
    "UK['startDaysCases']= findCaseStarts(places=UK['provinces'],cases=UK['cases'])\n",
    "print(UK['provinces'])\n",
    "UK['provinces'][6]= 'Great Britain'\n",
    "print(UK['provinces'])"
   ]
  },
  {
   "cell_type": "markdown",
   "metadata": {},
   "source": [
    "Australia"
   ]
  },
  {
   "cell_type": "code",
   "execution_count": null,
   "metadata": {},
   "outputs": [],
   "source": [
    "Australia =  {'Country name':'Australia'}\n",
    "Australia['cfrWC']=cfr[np.where(countries=='Australia')[0][0]]\n",
    "Australia['cases'], Australia['indsCases']= gatherDataSingleCountry(cases,'Australia')\n",
    "Australia['deathCases'], Australia['indsDeaths']= gatherDataSingleCountry(deathCases,'Australia')\n",
    "Australia['cfrs'] = correctedArrayRatio(Australia['deathCases'],Australia['cases'])\n",
    "Australia['provinces']=cases.iloc[Australia['indsCases'],0].to_numpy()\n",
    "Australia['nProvinces'] = len(Australia['provinces'])\n",
    "Australia['startDaysCases']= findCaseStarts(places=Australia['provinces'],cases=Australia['cases'])"
   ]
  },
  {
   "cell_type": "code",
   "execution_count": null,
   "metadata": {},
   "outputs": [],
   "source": [
    "Australia['startDaysCases']"
   ]
  },
  {
   "cell_type": "markdown",
   "metadata": {},
   "source": [
    "Plot comparisons for the three places with averages by region and comparison with the whole country average"
   ]
  },
  {
   "cell_type": "code",
   "execution_count": null,
   "metadata": {},
   "outputs": [],
   "source": [
    "def plotCFRTS_Provinces(place,dates,move2start=1):\n",
    "    figu = gr.figure(figsize=(7,5))\n",
    "    figu.suptitle('Percentage of dead/confirmed between %s-%s in %s'''%(dates[0],dates[-1],place['Country name']))\n",
    "    gr.ioff();cols=1; rows = 1\n",
    "    ax=figu.add_subplot(rows,cols,1)\n",
    "    print(place['Country name'])\n",
    "    ticks= np.arange(0,nDays,7)\n",
    "    si = place['startDaysCases'].min()\n",
    "    for nn in range(len(place['provinces'])):\n",
    "        #print(place['provinces'][nn])\n",
    "        thisCFR=100*place['cfrs'][nn]\n",
    "        ax.set_xticks(ticks)\n",
    "        if move2start==1:\n",
    "            ax.plot(thisCFR[si:],'-',label=place['provinces'][nn])\n",
    "            ax.set_xlabel('Days from first reported case')\n",
    "        else:\n",
    "            ticks= np.arange(si,nDays,7)\n",
    "            ax.plot(thisCFR,'-',label=place['provinces'][nn])\n",
    "            ax.set_xticklabels(dates[ticks],{'fontsize':8})\n",
    "            for label in ax.get_xticklabels():\n",
    "                label.set_rotation(0)\n",
    "                label.set_horizontalalignment('center')\n",
    "                label.set_fontsize(8)\n",
    "    avgCFR=100*place['cfrs'].mean(0)\n",
    "    if move2start==1:\n",
    "        ax.plot(avgCFR[si:],'k-',alpha=1, lw=3,label='Average CFR from provinces in %s'%place['Country name'])\n",
    "        ax.plot(100*place['cfrWC'][si:],'k-',alpha=0.35, lw=5,label='CFR from total cases')\n",
    "        strCFR='figures_COVID19_dataAnalysis/dam_COVID19_JHU_cfr_Provinces'+place['Country name']+'_fromDate0.png'\n",
    "    else:\n",
    "        ax.plot(avgCFR,'k-',alpha=1, lw=3,label='Average CFR from provinces in %s'%place['Country name'])\n",
    "        ax.plot(100*place['cfrWC'],'k-',alpha=0.35, lw=5,label='CFR from total cases')\n",
    "        strCFR='figures_COVID19_dataAnalysis/dam_COVID19_JHU_cfr_Provinces'+place['Country name']+'_fromFirstLocalReport.png'\n",
    "    ax.set_ylim(0,10);\n",
    "    ax.legend(ncol=4,loc='upper center',fontsize=8)\n",
    "    figu.subplots_adjust(left=0.075,bottom=0.075,right=0.97,top=0.92,wspace=0.2,hspace=0.25)\n",
    "    figu.savefig('./'+strCFR)\n",
    "    gr.ion(); gr.draw(); gr.show()\n",
    "    return figu"
   ]
  },
  {
   "cell_type": "code",
   "execution_count": null,
   "metadata": {},
   "outputs": [],
   "source": [
    "figuChina=plotCFRTS_Provinces(China,dates,move2start=0)"
   ]
  },
  {
   "cell_type": "code",
   "execution_count": null,
   "metadata": {},
   "outputs": [],
   "source": [
    "figuUK=plotCFRTS_Provinces(UK,dates,move2start=0)\n",
    "print(UK['provinces'])"
   ]
  },
  {
   "cell_type": "code",
   "execution_count": null,
   "metadata": {},
   "outputs": [],
   "source": [
    "figuAust=plotCFRTS_Provinces(Australia,dates,move2start=0)"
   ]
  },
  {
   "cell_type": "markdown",
   "metadata": {},
   "source": [
    "### Predictions of CFR by age groups based on estimates from China and Italy"
   ]
  },
  {
   "cell_type": "markdown",
   "metadata": {},
   "source": [
    "The rates of mortality among cases by age group have been reported in some of the countries where COVID-19 has been detected.  The probability that a person with positive SARS-CoV-2 testing dies in the hospital depends on many different factors. Some of these factors depend on the individual, including age, comorbidities like hypertension, obesity and diabetes, etcetera [(10.1016/S0140-6736(20)30566-3)](https://www.sciencedirect.com/science/article/pii/S0140673620305663). Other factors hinge on the availability of health care, and the quality of care in different countries.  Of note, the mortality in Italy, South Korea, and China, are constrasting cases of study of the known patterns patterns for CFRs results due to different conditions in these countries, different population structures, and health care policies. \n",
    "\n",
    "As a means to generate estimates of the CFRs from different age groups, we propose a simple calculation of proportions based on cases. Depending on an unknown factor that would account for under reporting, these estimates can be used to generate time series of CFRs by age. "
   ]
  },
  {
   "cell_type": "markdown",
   "metadata": {},
   "source": [
    "The age groups to take into account are \\[0,10),\\[10,20), \\[20,30), \\[30,40), \\[40,50), \\[50,60), \\[60,70), \\[70,80), 80+. \n",
    "\n",
    "The data that will be used was last estimated in February 11, 2020 for China, March 17, 2020, for Italy, and March 24, 2020 for South Korea [(video of Kim Woo-Joo from the Guro University Hospital Guro, University of Korea (March 27, 2020)](https://www.youtube.com/watch?v=gAk7aX5hksU&feature=youtu.be).\n",
    "\n",
    "There are reports of up to 20% of symptomatic cases, and in South Korea, for instance, about 50% of hospitalizations are people 60 years old or older, it is important to obtain numbers to estimate the size of a population in need for critical care. "
   ]
  },
  {
   "cell_type": "code",
   "execution_count": null,
   "metadata": {},
   "outputs": [],
   "source": [
    "SKorea={'ageCFR': np.array([0,0,0,0.001,0.001,0.004,0.015,0.063,0.116]),'CFR_20200324':0.02,'Country name':'Korea, South'}\n",
    "Italy={'ageCFR': np.array([0,0,0,0.003,0.004,0.01,0.035,0.128,0.202]),'CFR_20200317':0.072,'Country name':'Italy'}\n",
    "China['ageCFR'] = np.array([0,0.002,0.002,0.002,0.004,0.013,0.036,0.08,0.14])\n",
    "China['CFR_20200211'] = 0.02\n",
    "aGroups=np.arange(0,90,10)\n"
   ]
  },
  {
   "cell_type": "code",
   "execution_count": null,
   "metadata": {},
   "outputs": [],
   "source": [
    "def sigmoid(a, aMax=0.1,a0=60.0,n=2): \n",
    "    aa = a**n\n",
    "    return aMax* aa /(aa + a0**n)"
   ]
  },
  {
   "cell_type": "code",
   "execution_count": null,
   "metadata": {},
   "outputs": [],
   "source": [
    "ageCountries=[China, SKorea, Italy]\n",
    "ages = np.arange(0,90)\n",
    "f11=gr.figure(figsize=(9,5)); gr.ioff(); rows =1;cols=1\n",
    "f11.suptitle('CFR by age')\n",
    "lshift=2.5;  ax=f11.add_subplot(rows,cols,1)\n",
    "for n in range(len(ageCountries)):\n",
    "    ax.bar(aGroups+ (n*lshift), 100*ageCountries[n]['ageCFR'],width=2,align='edge',label=ageCountries[n]['Country name']);\n",
    "ax.plot(ages, 100*sigmoid(a=ages,a0=75,aMax=0.22,n=9))\n",
    "ax.plot(ages, 100*sigmoid(a=ages,a0=80,aMax=0.17,n=9))\n",
    "ax.plot(ages, 100*sigmoid(a=ages,a0=82,aMax=0.33,n=9))\n",
    "ax.legend(loc='upper left')\n",
    "ax.set_xticks(aGroups)\n",
    "ax.set_yticks(np.arange(0,20+1,2))\n",
    "ax.set_xlabel('Age groups')\n",
    "gr.ion(); gr.draw();  gr.show()\n",
    "f11Name='figures_COVID19_dataAnalysis/dam_COVID19_JHU_cfrByAge_China+SKorea+Italy.png'\n",
    "f11.savefig(f11Name)\n"
   ]
  },
  {
   "cell_type": "markdown",
   "metadata": {},
   "source": [
    "These profiles are similar in that they are all increasing as a function of age, reaching a half-maximum height at ages between 50 and 60 years of age. "
   ]
  },
  {
   "cell_type": "markdown",
   "metadata": {},
   "source": [
    "We can establish qualitative estimations of the percentage of deaths based on these age CFRs. To do so, we calculate the weights of the CFRs in each age group, which represent the proportion of deaths in each group.\n",
    "\n",
    "#### Calculation of proportions of death within cases, by age groups\n",
    "\n",
    "Let $c_i$ represent the case-fatality ratio in $i$th age group, $i \\in \\left\\{0,1,...,8\\right\\}$\n",
    "The weight of the $i$th age group on the total death reported via CFRs is\n",
    "$$w_i = \\frac{c_i}{\\sum_{j=0}^{n-1}} w_j.$$\n",
    "Then the probability of death in the $i$th age group can be estimated by multiplying the CFR and the weight of the $i$th age group on the CFR. Then, multiplication by the number of cases would yield the death toll by age group. \n",
    " "
   ]
  },
  {
   "cell_type": "markdown",
   "metadata": {},
   "source": [
    "A few sutile differences can be noted from these data. For instance, the CFRs for the first 3 groups in Italy and South Korea are very similar. In Italy, the percentage of dead cases is very large among the last two age groups, which in part is due to the fact that Italians implemented a triage system that sometimes denied respirators to patients with small chances of survival. "
   ]
  },
  {
   "cell_type": "code",
   "execution_count": null,
   "metadata": {},
   "outputs": [],
   "source": [
    "ageCountries=[China,SKorea,Italy]\n",
    "for n in range(len(ageCountries)):\n",
    "    C = ageCountries[n]\n",
    "    print(C['Country name'])\n",
    "    ageCFRweights = C['ageCFR'].sum()\n",
    "    C['ageDeadCaseProps'] = C['ageCFR']/ageCFRweights\n",
    "    C['cfrTotCases']=cfr[np.where(countries==C['Country name'])[0][0]]\n",
    "    C['totCases'] = totCases[np.where(countries==C['Country name'])[0][0]]\n",
    "    C['totDeathCases'] = totDeathCases[np.where(countries==C['Country name'])[0][0]]\n",
    "    C['totDeathCases_ageProps'] = np.zeros((len(aGroups),len(C['totDeathCases'])),'int64')\n",
    "    for nn in range(len(aGroups)):\n",
    "        C['totDeathCases_ageProps'][nn,:]= C['ageDeadCaseProps'][nn] * C['totCases']* C['cfrTotCases']\n",
    "        print(C['totDeathCases_ageProps'][nn])\n",
    "\n"
   ]
  },
  {
   "cell_type": "code",
   "execution_count": null,
   "metadata": {},
   "outputs": [],
   "source": [
    "ages = np.arange(0,90)\n",
    "f10b=gr.figure(figsize=(7,9)); gr.ioff(); rows =2;cols=1\n",
    "f10b.suptitle('Age related CFRs and their relative weights'); ax=list()\n",
    "for m in range(rows*cols):\n",
    "    ax.append(f10b.add_subplot(rows,cols,m+1))\n",
    "lshift=2.5;  \n",
    "for n in range(len(ageCountries)):\n",
    "    C=ageCountries[n]\n",
    "    ax[0].bar(aGroups+ (n*lshift), 100*C['ageCFR'],width=2,align='edge',label=ageCountries[n]['Country name']);\n",
    "    ax[1].bar(aGroups+ (n*lshift), 100*C['ageDeadCaseProps'],width=2,align='edge',label=ageCountries[n]['Country name']);\n",
    "ax[0].plot(ages, 100*sigmoid(a=ages,a0=75,aMax=0.22,n=9))\n",
    "ax[0].plot(ages, 100*sigmoid(a=ages,a0=79,aMax=0.17,n=9))\n",
    "ax[0].plot(ages, 100*sigmoid(a=ages,a0=81,aMax=0.33,n=9))\n",
    "ax[1].plot(ages, 100*sigmoid(a=ages,a0=75,aMax=0.78,n=9))\n",
    "ax[1].plot(ages, 100*sigmoid(a=ages,a0=80,aMax=0.9,n=9))\n",
    "ax[1].plot(ages, 100*sigmoid(a=ages,a0=84,aMax=0.92,n=9))\n",
    "for m in range(rows*cols):\n",
    "    ax[m].legend(loc='lower left'); \n",
    "    ax[m].set_xticks(aGroups)\n",
    "    ax[m].set_xlabel('Age groups')\n",
    "ax[0].set_yticks(np.arange(0,26,5))\n",
    "ax[1].set_yticks(np.arange(0,66,5))\n",
    "ax[0].text(0,20,'CFRs by age (percent)')\n",
    "ax[1].text(0,60,'Contributions to death within cases by age (percent)')\n",
    "f10b.subplots_adjust(left=0.075,bottom=0.075,right=0.97,top=0.9,wspace=0.2,hspace=0.25)\n",
    "gr.ion(); gr.draw();  gr.show()\n",
    "f10bName='figures_COVID19_dataAnalysis/dam_COVID19_JHU_cfr+propDeathCases_ByAge_China+SKorea+Italy_OneFigure.png'\n",
    "f10b.savefig(f10bName)"
   ]
  },
  {
   "cell_type": "code",
   "execution_count": null,
   "metadata": {},
   "outputs": [],
   "source": [
    "ages = np.arange(0,90)\n",
    "f12=gr.figure(figsize=(13,9)); gr.ioff(); rows =3;cols=1\n",
    "f12.suptitle('Deaths due to COVID-19 by age')\n",
    "ax=list()\n",
    "ticks= np.arange(0,nDays,3)\n",
    "convFactor =1\n",
    "for n in range(len(ageCountries)):\n",
    "    ax.append(f12.add_subplot(rows,cols,n+1))\n",
    "    C = ageCountries[n]\n",
    "    print(C['Country name'])\n",
    "    ax[n].plot(C['totDeathCases'],'k--', alpha=1, lw=1,label='Deaths reported '+ C['Country name']);\n",
    "    ax[n].plot(C['totDeathCases_ageProps'].sum(0),'k',lw=1,label='Sum of estimates '+ C['Country name']);\n",
    "    for nn in range(len(aGroups)):\n",
    "        ax[n].plot(C['totDeathCases_ageProps'][nn],label=C['Country name']+ '[%d,%d)]'%(aGroups[nn],aGroups[nn]+10));\n",
    "    ax[n].legend(loc='upper left',ncol=2, fontsize=8)\n",
    "    ax[n].set_xticks(ticks)\n",
    "    ax[n].set_xticklabels(dates[ticks],{'fontsize':8})\n",
    "    for label in ax[n].get_xticklabels():\n",
    "        label.set_rotation(30)\n",
    "        label.set_horizontalalignment('center')\n",
    "        label.set_fontsize(8)\n",
    "f12.subplots_adjust(left=0.075,bottom=0.075,right=0.97,top=0.95,wspace=0.2,hspace=0.25)\n",
    "gr.ion(); gr.draw();  gr.show()\n",
    "\n",
    "f12Name='figures_COVID19_dataAnalysis/dam_COVID19_JHU_cfr+propDeathCasesByAgeTS.png'\n",
    "f12.savefig(f12Name)\n",
    "\n",
    "print('%d days'%nDays)"
   ]
  },
  {
   "cell_type": "code",
   "execution_count": null,
   "metadata": {},
   "outputs": [],
   "source": [
    "print(SKorea['totDeathCases_ageProps'].sum(0)[-1])\n",
    "print(Italy['totDeathCases_ageProps'].sum(0)[-1])\n",
    "print(China['totDeathCases_ageProps'].sum(0)[-1])"
   ]
  },
  {
   "cell_type": "markdown",
   "metadata": {},
   "source": [
    "### Projections for Mexico"
   ]
  },
  {
   "cell_type": "code",
   "execution_count": null,
   "metadata": {},
   "outputs": [],
   "source": [
    "Mexico = dict()\n",
    "Mexico['cfr'] =cfr[np.where(countries=='Mexico')[0][0]]\n",
    "Mexico['totCases']=totCases[np.where(countries=='Mexico')[0][0]]\n",
    "Mexico['totDeathCases']=totDeathCases[np.where(countries=='Mexico')[0][0]]\n",
    "Mexico['startInd'] = np.where(Mexico['totCases']>0)[0].min()\n",
    "Mexico['popMillions']= Pops_Millions['Mexico']\n",
    "Mexico['delayFromReport0']=np.where(Mexico['totCases']>0)[0].min()\n",
    "print('First case reported %d days after Report 0'%Mexico['delayFromReport0'])"
   ]
  },
  {
   "cell_type": "code",
   "execution_count": null,
   "metadata": {},
   "outputs": [],
   "source": [
    "def estimateDeathsByAgeMexico(Mexico, dates, subReportFactor=1):\n",
    "    si = Mexico['delayFromReport0']\n",
    "    ticks= np.arange(0,len(dates),7)\n",
    "    casesMexico = subReportFactor * Mexico['totCases']\n",
    "    f13=gr.figure(figsize=(7,9)); gr.ioff(); rows =3;cols=1;ax=list()\n",
    "    for n in range(len(ageCountries)):\n",
    "        ax.append(f13.add_subplot(rows,cols,n+1))\n",
    "        C = ageCountries[n]\n",
    "        ax[n].plot(subReportFactor* Mexico['totDeathCases'],'k',lw=1,label='Deaths reported in Mexico');\n",
    "        ax[n].set_title('Projection based on contributions by age groups from %s using a subreport factor of %d'%(C['Country name'],subReportFactor))\n",
    "        for nn in range(len(aGroups)):\n",
    "            ff = casesMexico * Mexico['cfr'] * C['ageDeadCaseProps'][nn]\n",
    "            ax[n].plot(ff,label='Mexico [%d,%d)]'%(aGroups[nn],aGroups[nn]+10));\n",
    "            ax[n].legend(loc='upper left',ncol=3, fontsize=8)\n",
    "        ax[n].set_xticks(ticks)\n",
    "        ax[n].set_xticklabels(dates[ticks],{'fontsize':8})\n",
    "        for label in ax[n].get_xticklabels():\n",
    "            label.set_rotation(0)\n",
    "            label.set_horizontalalignment('center')\n",
    "            label.set_fontsize(8)\n",
    "        ax[n].set_xlim(si,len(Mexico['totDeathCases']))\n",
    "    f13.subplots_adjust(left=0.075,bottom=0.075,right=0.97,top=0.95,wspace=0.1,hspace=0.25)\n",
    "    f13Name='figures_COVID19_dataAnalysis/dam_COVID19_JHU_cfr+propDeathCasesByAgeTS_EstimatesMexico_subReportFactor%d.png'%subReportFactor\n",
    "    gr.ion(); gr.draw();  gr.show()\n",
    "    f13.savefig(f13Name)\n",
    "    return f13\n",
    "\n"
   ]
  },
  {
   "cell_type": "markdown",
   "metadata": {},
   "source": [
    "### Estimates with a conversion factor of 1"
   ]
  },
  {
   "cell_type": "code",
   "execution_count": null,
   "metadata": {},
   "outputs": [],
   "source": [
    "f13_1 = estimateDeathsByAgeMexico(Mexico, dates,subReportFactor=1)\n"
   ]
  },
  {
   "cell_type": "markdown",
   "metadata": {},
   "source": [
    "### Estimates with a conversion factor of 10"
   ]
  },
  {
   "cell_type": "code",
   "execution_count": null,
   "metadata": {},
   "outputs": [],
   "source": [
    "f13_10 = estimateDeathsByAgeMexico(Mexico, dates,subReportFactor=10)\n"
   ]
  },
  {
   "cell_type": "markdown",
   "metadata": {},
   "source": [
    "### Estimates with a conversion factor of 12"
   ]
  },
  {
   "cell_type": "code",
   "execution_count": null,
   "metadata": {},
   "outputs": [],
   "source": [
    "f13_12 = estimateDeathsByAgeMexico(Mexico, dates,subReportFactor=12)\n"
   ]
  },
  {
   "cell_type": "code",
   "execution_count": null,
   "metadata": {},
   "outputs": [],
   "source": []
  },
  {
   "cell_type": "markdown",
   "metadata": {},
   "source": [
    "## Analysis of the dynamics assuming SIR-like evolution\n",
    "\n",
    "Assume that the population is divided in three subsets representing the non-infected and susceptible, the infected, and those that can no-longer participate in the chain of infections due to immunity or death. Let the densities of those subpopulations be represented by $x$, $y$, and $z$ respectively, with $1=x+y+z$. The dynamics for $(x,y,z)$ can be assume to follow \n",
    "\\begin{eqnarray}\n",
    "\\partial_t y &=& \\beta y \\bigg( 1- z - y \\bigg) - y \\bigg(\\gamma + \\delta \\bigg)\\\\\n",
    "\\partial_t z &=& \\left( \\gamma + \\delta \\right)y\n",
    "\\end{eqnarray}\n",
    "\n",
    "\n",
    "If $h$ is the time step for sampling, let $y_{n}$ represent the number of cases at time $nh$. From data, the cumulative number of cases at step $nh$ can be written as \n",
    "$$C_{n} = \\sum_{k=0}^{n} y_k$$\n",
    "which means that the number of new cases (incidence) at time nh is \n",
    "$$y_n = C_n - C_{n-1}.$$\n",
    "Similarly, for the cumulative recoveries and deaths, respectively\n",
    "$$R_{n}+D_{n} = \\sum_{k=0}^{n} z_k,$$\n",
    "so \n",
    "$$z_n = (R_{n}-R_{n-1})+(D_{n}-D_{n-1}).$$\n",
    "\n",
    "From the SIR classical formulation, assuming $\\gamma$ is the rate of removal by recovery and acquisition of immunity and $\\delta$ is the fatality rate due to infection, the time dependent change in the prevalence is given by\n",
    "\\begin{eqnarray}\n",
    "\\partial_t y &=& y  \\beta \\big( 1- z - y  \\big) - \\partial_t z\n",
    "\\end{eqnarray}\n",
    "with $z$ representing the sum of the recoveries and deaths at time $t= kh$.\n",
    "The change in $y$ can then be written as \n",
    "$$\\partial_t y =  \\beta y \\bigg( \\alpha -z - y  \\bigg), $$\n",
    "with $$\\alpha = 1 -\\frac{\\gamma + \\delta}{\\beta}.$$\n",
    "This means that the incidence and the prevalence are related cuadratically in the $(y,\\partial_t y)$ plane.\n",
    "Using the data, the change in $y$ can be written as \n",
    "$$\\frac{y_{k+1}-y_{k}}{h} \\approx \\beta y \\bigg( \\alpha -z - y \\bigg),$$\n",
    "which means that \n",
    "$$y_{k+1}-y_{k} \\approx h \\beta y \\bigg( \\alpha -z - y \\bigg).$$\n",
    "\n",
    "#### Parameters for modeling \n",
    "From the equation for $z$,\n",
    "$$\\gamma + \\delta = \\frac{\\partial_t z}{y} \\approx \\frac{z_{k+1}-z_k}{h y_k}$$ \n",
    "Also, \n",
    "$$\\beta = \\frac{\\partial_t y + \\partial_t z}{y \\bigg( 1 -z - y  \\bigg)} $$ \n",
    "\n"
   ]
  },
  {
   "cell_type": "markdown",
   "metadata": {},
   "source": [
    "#### Parabola describing the incidence as a function of the cases"
   ]
  },
  {
   "cell_type": "code",
   "execution_count": null,
   "metadata": {},
   "outputs": [],
   "source": [
    "#def casePhasePlane(b=50.0, cou='Italy'):\n",
    "def casePhasePlane(cou='Italy',a=0.005,b=10):\n",
    "    cInd = np.where(countries==cou)[0][0]\n",
    "    tCases= np.float64(totCases[cInd,:])/Pops_Millions[cou]\n",
    "    tDeaths=np.float64(totDeathCases[cInd,:])/Pops_Millions[cou]\n",
    "    tRecovs=np.float64(totRecovCases[cInd,:])/Pops_Millions[cou]\n",
    "    y = tCases - tRecovs - tDeaths\n",
    "    z = tRecovs + tDeaths\n",
    "    dz=np.zeros(len(z))\n",
    "    dz[1:]= z[1:]-z[:1]\n",
    "    dy = np.zeros(len(y))\n",
    "    dy[1:]= y[1:]-y[:-1]\n",
    "    gammaDelta = dz/y\n",
    "    beta = (dy+dz)/((1-z-y)*y)\n",
    "    a = a+z\n",
    "    fy = b*y*(a-z-y) \n",
    "    #\n",
    "    ff =gr.figure(figsize=(17,5)); gr.ioff(); rows=1; cols=3\n",
    "    ax1= ff.add_subplot(rows,cols,1); tax1= ax1.twinx()\n",
    "    ax2= ff.add_subplot(rows,cols,2); \n",
    "    ax3= ff.add_subplot(rows,cols,3); \n",
    "    ax1.plot(days, y,'o',markeredgecolor='blue', markerfacecolor='white',label=r'$y_k$')\n",
    "    #ax1.plot(days, tCases,'.',label=r'$(k,C_k)$')\n",
    "    tax1.plot(days, beta/gammaDelta,'.',label=r'$\\beta/\\gamma$')\n",
    "    ax1.plot(days, tDeaths,'.',label=r'$D_k$')\n",
    "    ax1.plot(days, tRecovs,'.',label=r'$R_k$')\n",
    "    ax1.plot(days, z,'.',label=r'$z_k=D_k + R_k$')\n",
    "    ax2.plot(dy,y,'o',markeredgecolor='blue', markerfacecolor='white',label=r'$(y_k - y_{k-1}, y)$')\n",
    "    ax2.plot(fy,y,'.',color='orange',label=r'$(\\beta (a-z-y)y,y)$')\n",
    "    ax3.plot(1-z-y,y,'.',label=r'$(1-z-y, y)$')\n",
    "    ax2.plot([0,0],[0,y.max()],'k:')\n",
    "    ax1.set_ylim(0,1.1* y.max())\n",
    "    ax2.set_ylim(0,1.1* y.max())    \n",
    "    ax2.set_xlim(dy.min(),1.3*dy.max())\n",
    "    ax1.set_xlabel(r'$t$ (days)');ax2.set_xlabel(r'$y_k - y_{k-1}$')\n",
    "    ax1.set_ylabel(r'$y_k$');ax2.set_ylabel(r'$y_k$')\n",
    "    ax2.legend(loc='lower right'); ax3.legend(loc='upper right'); \n",
    "    ax1.legend(loc='center left'); tax1.legend(loc='upper left')\n",
    "    gr.ion(); gr.draw()\n",
    "    ff.suptitle('Phase plane, %s'%cou)\n",
    "    ff.subplots_adjust(left=0.075,bottom=0.075,right=0.9,top=0.92,wspace=0.2,hspace=0.25)\n",
    "    ff.savefig('figures_COVID19_dataAnalysis/dam_COVID19_JHU_phasePlane+%s.png'%cou)\n",
    "    return y, z, dy, dz, beta, gammaDelta, ff\n",
    "\n",
    "def gammaDelta_Estimate(y, dz):\n",
    "    return (dz/y)\n",
    "\n",
    "def betaEstimate(y,z,dy, dz):\n",
    "    return (dy+dz)/((1-z-y)*y)\n"
   ]
  },
  {
   "cell_type": "code",
   "execution_count": null,
   "metadata": {},
   "outputs": [],
   "source": [
    "y,z, dy,dz,beta,gammaDelta,ff=casePhasePlane(cou='Italy',a=0.0018,b=90)"
   ]
  },
  {
   "cell_type": "code",
   "execution_count": null,
   "metadata": {},
   "outputs": [],
   "source": [
    "y,z, dy,dz,beta,gammaDelta,ff=casePhasePlane(cou='Spain',a=0.002,b=110)"
   ]
  },
  {
   "cell_type": "code",
   "execution_count": null,
   "metadata": {},
   "outputs": [],
   "source": [
    "y,z, dy,dz,beta,gammaDelta,ff=casePhasePlane(cou='US',a=0.0023,b=70)"
   ]
  },
  {
   "cell_type": "code",
   "execution_count": null,
   "metadata": {},
   "outputs": [],
   "source": [
    "#y,z, dy,dz,beta,gammaDelta,ff=casePhasePlane(cou='Italy',a=0.00175,b=90)\n",
    "y,z, dy,dz,beta,gammaDelta,ff=casePhasePlane(cou='China',a=0.00004,b=6000)\n",
    "#print((1-y-z)*beta/gammaDelta )\n"
   ]
  },
  {
   "cell_type": "code",
   "execution_count": null,
   "metadata": {},
   "outputs": [],
   "source": [
    "y,z, dy,dz,beta,gammaDelta,ff=casePhasePlane(cou='Mexico',a=0.00006,b=4000)"
   ]
  },
  {
   "cell_type": "code",
   "execution_count": null,
   "metadata": {},
   "outputs": [],
   "source": []
  }
 ],
 "metadata": {
  "celltoolbar": "Raw Cell Format",
  "kernelspec": {
   "display_name": "Python 3",
   "language": "python",
   "name": "python3"
  },
  "language_info": {
   "codemirror_mode": {
    "name": "ipython",
    "version": 3
   },
   "file_extension": ".py",
   "mimetype": "text/x-python",
   "name": "python",
   "nbconvert_exporter": "python",
   "pygments_lexer": "ipython3",
   "version": "3.8.1"
  }
 },
 "nbformat": 4,
 "nbformat_minor": 4
}
